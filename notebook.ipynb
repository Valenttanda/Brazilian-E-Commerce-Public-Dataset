{
  "cells": [
    {
      "cell_type": "markdown",
      "metadata": {
        "id": "A-4IGDpoqx3d"
      },
      "source": [
        "# Proyek Analisis Data: E-Commerce Public Dataset\n",
        "\n",
        "- Nama: Mohammad Valeriant Qumara Tanda\n",
        "- Email: mc180d5y0566@student.devacademy.id\n",
        "- ID Dicoding: MC180D5Y0566"
      ]
    },
    {
      "cell_type": "markdown",
      "metadata": {
        "id": "tyR61v7Iqx3e"
      },
      "source": [
        "## Menentukan Pertanyaan Bisnis\n",
        "- Bagaimana performa pemesanan semua produk di setiap kota dan state?\n",
        "- Produk apa yang paling banyak dan paling sedikit dipesan?\n"
      ]
    },
    {
      "cell_type": "markdown",
      "metadata": {
        "id": "vBt41cT3qx3e"
      },
      "source": [
        "## Import semua Packages/Library yang Digunakan"
      ]
    },
    {
      "cell_type": "code",
      "execution_count": 1,
      "metadata": {
        "id": "AGs2SolSqx3e"
      },
      "outputs": [],
      "source": [
        "import pandas as pd\n",
        "import numpy as np\n",
        "import matplotlib.pyplot as plt\n",
        "import seaborn as sns\n",
        "import datetime"
      ]
    },
    {
      "cell_type": "markdown",
      "metadata": {
        "id": "BZCxIRORqx3f"
      },
      "source": [
        "# Data Wrangling"
      ]
    },
    {
      "cell_type": "markdown",
      "metadata": {
        "id": "BSZo7WO9qx3f"
      },
      "source": [
        "## Gathering Data"
      ]
    },
    {
      "cell_type": "markdown",
      "metadata": {
        "id": "YthcmyTqtzzk"
      },
      "source": [
        "### Menampilkan dataset customers_df"
      ]
    },
    {
      "cell_type": "code",
      "execution_count": 2,
      "metadata": {
        "colab": {
          "base_uri": "https://localhost:8080/",
          "height": 206
        },
        "id": "A_VqcXqKqx3f",
        "outputId": "4b32c530-4d66-4e69-a8dc-835b5f018961"
      },
      "outputs": [
        {
          "data": {
            "text/html": [
              "<div>\n",
              "<style scoped>\n",
              "    .dataframe tbody tr th:only-of-type {\n",
              "        vertical-align: middle;\n",
              "    }\n",
              "\n",
              "    .dataframe tbody tr th {\n",
              "        vertical-align: top;\n",
              "    }\n",
              "\n",
              "    .dataframe thead th {\n",
              "        text-align: right;\n",
              "    }\n",
              "</style>\n",
              "<table border=\"1\" class=\"dataframe\">\n",
              "  <thead>\n",
              "    <tr style=\"text-align: right;\">\n",
              "      <th></th>\n",
              "      <th>customer_id</th>\n",
              "      <th>customer_unique_id</th>\n",
              "      <th>customer_zip_code_prefix</th>\n",
              "      <th>customer_city</th>\n",
              "      <th>customer_state</th>\n",
              "    </tr>\n",
              "  </thead>\n",
              "  <tbody>\n",
              "    <tr>\n",
              "      <th>0</th>\n",
              "      <td>06b8999e2fba1a1fbc88172c00ba8bc7</td>\n",
              "      <td>861eff4711a542e4b93843c6dd7febb0</td>\n",
              "      <td>14409</td>\n",
              "      <td>franca</td>\n",
              "      <td>SP</td>\n",
              "    </tr>\n",
              "    <tr>\n",
              "      <th>1</th>\n",
              "      <td>18955e83d337fd6b2def6b18a428ac77</td>\n",
              "      <td>290c77bc529b7ac935b93aa66c333dc3</td>\n",
              "      <td>9790</td>\n",
              "      <td>sao bernardo do campo</td>\n",
              "      <td>SP</td>\n",
              "    </tr>\n",
              "    <tr>\n",
              "      <th>2</th>\n",
              "      <td>4e7b3e00288586ebd08712fdd0374a03</td>\n",
              "      <td>060e732b5b29e8181a18229c7b0b2b5e</td>\n",
              "      <td>1151</td>\n",
              "      <td>sao paulo</td>\n",
              "      <td>SP</td>\n",
              "    </tr>\n",
              "    <tr>\n",
              "      <th>3</th>\n",
              "      <td>b2b6027bc5c5109e529d4dc6358b12c3</td>\n",
              "      <td>259dac757896d24d7702b9acbbff3f3c</td>\n",
              "      <td>8775</td>\n",
              "      <td>mogi das cruzes</td>\n",
              "      <td>SP</td>\n",
              "    </tr>\n",
              "    <tr>\n",
              "      <th>4</th>\n",
              "      <td>4f2d8ab171c80ec8364f7c12e35b23ad</td>\n",
              "      <td>345ecd01c38d18a9036ed96c73b8d066</td>\n",
              "      <td>13056</td>\n",
              "      <td>campinas</td>\n",
              "      <td>SP</td>\n",
              "    </tr>\n",
              "  </tbody>\n",
              "</table>\n",
              "</div>"
            ],
            "text/plain": [
              "                        customer_id                customer_unique_id  \\\n",
              "0  06b8999e2fba1a1fbc88172c00ba8bc7  861eff4711a542e4b93843c6dd7febb0   \n",
              "1  18955e83d337fd6b2def6b18a428ac77  290c77bc529b7ac935b93aa66c333dc3   \n",
              "2  4e7b3e00288586ebd08712fdd0374a03  060e732b5b29e8181a18229c7b0b2b5e   \n",
              "3  b2b6027bc5c5109e529d4dc6358b12c3  259dac757896d24d7702b9acbbff3f3c   \n",
              "4  4f2d8ab171c80ec8364f7c12e35b23ad  345ecd01c38d18a9036ed96c73b8d066   \n",
              "\n",
              "   customer_zip_code_prefix          customer_city customer_state  \n",
              "0                     14409                 franca             SP  \n",
              "1                      9790  sao bernardo do campo             SP  \n",
              "2                      1151              sao paulo             SP  \n",
              "3                      8775        mogi das cruzes             SP  \n",
              "4                     13056               campinas             SP  "
            ]
          },
          "execution_count": 2,
          "metadata": {},
          "output_type": "execute_result"
        }
      ],
      "source": [
        "customers_df = pd.read_csv(\"data/olist_customers_dataset.csv\")\n",
        "customers_df.head()"
      ]
    },
    {
      "cell_type": "markdown",
      "metadata": {
        "id": "-DqbYA4Bt3r1"
      },
      "source": [
        "### Menampilkan dataset geolocation_df"
      ]
    },
    {
      "cell_type": "code",
      "execution_count": 3,
      "metadata": {
        "colab": {
          "base_uri": "https://localhost:8080/",
          "height": 206
        },
        "id": "724sngresQVW",
        "outputId": "a9950ae0-885a-4dad-e44b-a0bd44c881d4"
      },
      "outputs": [
        {
          "data": {
            "text/html": [
              "<div>\n",
              "<style scoped>\n",
              "    .dataframe tbody tr th:only-of-type {\n",
              "        vertical-align: middle;\n",
              "    }\n",
              "\n",
              "    .dataframe tbody tr th {\n",
              "        vertical-align: top;\n",
              "    }\n",
              "\n",
              "    .dataframe thead th {\n",
              "        text-align: right;\n",
              "    }\n",
              "</style>\n",
              "<table border=\"1\" class=\"dataframe\">\n",
              "  <thead>\n",
              "    <tr style=\"text-align: right;\">\n",
              "      <th></th>\n",
              "      <th>geolocation_zip_code_prefix</th>\n",
              "      <th>geolocation_lat</th>\n",
              "      <th>geolocation_lng</th>\n",
              "      <th>geolocation_city</th>\n",
              "      <th>geolocation_state</th>\n",
              "    </tr>\n",
              "  </thead>\n",
              "  <tbody>\n",
              "    <tr>\n",
              "      <th>0</th>\n",
              "      <td>1037</td>\n",
              "      <td>-23.545621</td>\n",
              "      <td>-46.639292</td>\n",
              "      <td>sao paulo</td>\n",
              "      <td>SP</td>\n",
              "    </tr>\n",
              "    <tr>\n",
              "      <th>1</th>\n",
              "      <td>1046</td>\n",
              "      <td>-23.546081</td>\n",
              "      <td>-46.644820</td>\n",
              "      <td>sao paulo</td>\n",
              "      <td>SP</td>\n",
              "    </tr>\n",
              "    <tr>\n",
              "      <th>2</th>\n",
              "      <td>1046</td>\n",
              "      <td>-23.546129</td>\n",
              "      <td>-46.642951</td>\n",
              "      <td>sao paulo</td>\n",
              "      <td>SP</td>\n",
              "    </tr>\n",
              "    <tr>\n",
              "      <th>3</th>\n",
              "      <td>1041</td>\n",
              "      <td>-23.544392</td>\n",
              "      <td>-46.639499</td>\n",
              "      <td>sao paulo</td>\n",
              "      <td>SP</td>\n",
              "    </tr>\n",
              "    <tr>\n",
              "      <th>4</th>\n",
              "      <td>1035</td>\n",
              "      <td>-23.541578</td>\n",
              "      <td>-46.641607</td>\n",
              "      <td>sao paulo</td>\n",
              "      <td>SP</td>\n",
              "    </tr>\n",
              "  </tbody>\n",
              "</table>\n",
              "</div>"
            ],
            "text/plain": [
              "   geolocation_zip_code_prefix  geolocation_lat  geolocation_lng  \\\n",
              "0                         1037       -23.545621       -46.639292   \n",
              "1                         1046       -23.546081       -46.644820   \n",
              "2                         1046       -23.546129       -46.642951   \n",
              "3                         1041       -23.544392       -46.639499   \n",
              "4                         1035       -23.541578       -46.641607   \n",
              "\n",
              "  geolocation_city geolocation_state  \n",
              "0        sao paulo                SP  \n",
              "1        sao paulo                SP  \n",
              "2        sao paulo                SP  \n",
              "3        sao paulo                SP  \n",
              "4        sao paulo                SP  "
            ]
          },
          "execution_count": 3,
          "metadata": {},
          "output_type": "execute_result"
        }
      ],
      "source": [
        "geolocation_df = pd.read_csv(\"data/olist_geolocation_dataset.csv\")\n",
        "geolocation_df.head()"
      ]
    },
    {
      "cell_type": "markdown",
      "metadata": {
        "id": "2xVOaxDkt8O8"
      },
      "source": [
        "### Menampilkan dataset orders_df"
      ]
    },
    {
      "cell_type": "code",
      "execution_count": 4,
      "metadata": {
        "colab": {
          "base_uri": "https://localhost:8080/",
          "height": 226
        },
        "id": "1r3tTmPQsTOm",
        "outputId": "d97c5252-40e6-478f-84eb-52326d70d9f9"
      },
      "outputs": [
        {
          "data": {
            "text/html": [
              "<div>\n",
              "<style scoped>\n",
              "    .dataframe tbody tr th:only-of-type {\n",
              "        vertical-align: middle;\n",
              "    }\n",
              "\n",
              "    .dataframe tbody tr th {\n",
              "        vertical-align: top;\n",
              "    }\n",
              "\n",
              "    .dataframe thead th {\n",
              "        text-align: right;\n",
              "    }\n",
              "</style>\n",
              "<table border=\"1\" class=\"dataframe\">\n",
              "  <thead>\n",
              "    <tr style=\"text-align: right;\">\n",
              "      <th></th>\n",
              "      <th>order_id</th>\n",
              "      <th>customer_id</th>\n",
              "      <th>order_status</th>\n",
              "      <th>order_purchase_timestamp</th>\n",
              "      <th>order_approved_at</th>\n",
              "      <th>order_delivered_carrier_date</th>\n",
              "      <th>order_delivered_customer_date</th>\n",
              "      <th>order_estimated_delivery_date</th>\n",
              "    </tr>\n",
              "  </thead>\n",
              "  <tbody>\n",
              "    <tr>\n",
              "      <th>0</th>\n",
              "      <td>e481f51cbdc54678b7cc49136f2d6af7</td>\n",
              "      <td>9ef432eb6251297304e76186b10a928d</td>\n",
              "      <td>delivered</td>\n",
              "      <td>2017-10-02 10:56:33</td>\n",
              "      <td>2017-10-02 11:07:15</td>\n",
              "      <td>2017-10-04 19:55:00</td>\n",
              "      <td>2017-10-10 21:25:13</td>\n",
              "      <td>2017-10-18 00:00:00</td>\n",
              "    </tr>\n",
              "    <tr>\n",
              "      <th>1</th>\n",
              "      <td>53cdb2fc8bc7dce0b6741e2150273451</td>\n",
              "      <td>b0830fb4747a6c6d20dea0b8c802d7ef</td>\n",
              "      <td>delivered</td>\n",
              "      <td>2018-07-24 20:41:37</td>\n",
              "      <td>2018-07-26 03:24:27</td>\n",
              "      <td>2018-07-26 14:31:00</td>\n",
              "      <td>2018-08-07 15:27:45</td>\n",
              "      <td>2018-08-13 00:00:00</td>\n",
              "    </tr>\n",
              "    <tr>\n",
              "      <th>2</th>\n",
              "      <td>47770eb9100c2d0c44946d9cf07ec65d</td>\n",
              "      <td>41ce2a54c0b03bf3443c3d931a367089</td>\n",
              "      <td>delivered</td>\n",
              "      <td>2018-08-08 08:38:49</td>\n",
              "      <td>2018-08-08 08:55:23</td>\n",
              "      <td>2018-08-08 13:50:00</td>\n",
              "      <td>2018-08-17 18:06:29</td>\n",
              "      <td>2018-09-04 00:00:00</td>\n",
              "    </tr>\n",
              "    <tr>\n",
              "      <th>3</th>\n",
              "      <td>949d5b44dbf5de918fe9c16f97b45f8a</td>\n",
              "      <td>f88197465ea7920adcdbec7375364d82</td>\n",
              "      <td>delivered</td>\n",
              "      <td>2017-11-18 19:28:06</td>\n",
              "      <td>2017-11-18 19:45:59</td>\n",
              "      <td>2017-11-22 13:39:59</td>\n",
              "      <td>2017-12-02 00:28:42</td>\n",
              "      <td>2017-12-15 00:00:00</td>\n",
              "    </tr>\n",
              "    <tr>\n",
              "      <th>4</th>\n",
              "      <td>ad21c59c0840e6cb83a9ceb5573f8159</td>\n",
              "      <td>8ab97904e6daea8866dbdbc4fb7aad2c</td>\n",
              "      <td>delivered</td>\n",
              "      <td>2018-02-13 21:18:39</td>\n",
              "      <td>2018-02-13 22:20:29</td>\n",
              "      <td>2018-02-14 19:46:34</td>\n",
              "      <td>2018-02-16 18:17:02</td>\n",
              "      <td>2018-02-26 00:00:00</td>\n",
              "    </tr>\n",
              "  </tbody>\n",
              "</table>\n",
              "</div>"
            ],
            "text/plain": [
              "                           order_id                       customer_id  \\\n",
              "0  e481f51cbdc54678b7cc49136f2d6af7  9ef432eb6251297304e76186b10a928d   \n",
              "1  53cdb2fc8bc7dce0b6741e2150273451  b0830fb4747a6c6d20dea0b8c802d7ef   \n",
              "2  47770eb9100c2d0c44946d9cf07ec65d  41ce2a54c0b03bf3443c3d931a367089   \n",
              "3  949d5b44dbf5de918fe9c16f97b45f8a  f88197465ea7920adcdbec7375364d82   \n",
              "4  ad21c59c0840e6cb83a9ceb5573f8159  8ab97904e6daea8866dbdbc4fb7aad2c   \n",
              "\n",
              "  order_status order_purchase_timestamp    order_approved_at  \\\n",
              "0    delivered      2017-10-02 10:56:33  2017-10-02 11:07:15   \n",
              "1    delivered      2018-07-24 20:41:37  2018-07-26 03:24:27   \n",
              "2    delivered      2018-08-08 08:38:49  2018-08-08 08:55:23   \n",
              "3    delivered      2017-11-18 19:28:06  2017-11-18 19:45:59   \n",
              "4    delivered      2018-02-13 21:18:39  2018-02-13 22:20:29   \n",
              "\n",
              "  order_delivered_carrier_date order_delivered_customer_date  \\\n",
              "0          2017-10-04 19:55:00           2017-10-10 21:25:13   \n",
              "1          2018-07-26 14:31:00           2018-08-07 15:27:45   \n",
              "2          2018-08-08 13:50:00           2018-08-17 18:06:29   \n",
              "3          2017-11-22 13:39:59           2017-12-02 00:28:42   \n",
              "4          2018-02-14 19:46:34           2018-02-16 18:17:02   \n",
              "\n",
              "  order_estimated_delivery_date  \n",
              "0           2017-10-18 00:00:00  \n",
              "1           2018-08-13 00:00:00  \n",
              "2           2018-09-04 00:00:00  \n",
              "3           2017-12-15 00:00:00  \n",
              "4           2018-02-26 00:00:00  "
            ]
          },
          "execution_count": 4,
          "metadata": {},
          "output_type": "execute_result"
        }
      ],
      "source": [
        "orders_df = pd.read_csv(\"data/olist_orders_dataset.csv\")\n",
        "orders_df.head()"
      ]
    },
    {
      "cell_type": "markdown",
      "metadata": {
        "id": "2F5uj8aIt-os"
      },
      "source": [
        "### Menampilkan dataset items_df"
      ]
    },
    {
      "cell_type": "code",
      "execution_count": 5,
      "metadata": {
        "colab": {
          "base_uri": "https://localhost:8080/",
          "height": 206
        },
        "id": "7rdI0oCOsWTe",
        "outputId": "2e13766a-8fba-4daf-eb3c-620a5c4e4bb8"
      },
      "outputs": [
        {
          "data": {
            "text/html": [
              "<div>\n",
              "<style scoped>\n",
              "    .dataframe tbody tr th:only-of-type {\n",
              "        vertical-align: middle;\n",
              "    }\n",
              "\n",
              "    .dataframe tbody tr th {\n",
              "        vertical-align: top;\n",
              "    }\n",
              "\n",
              "    .dataframe thead th {\n",
              "        text-align: right;\n",
              "    }\n",
              "</style>\n",
              "<table border=\"1\" class=\"dataframe\">\n",
              "  <thead>\n",
              "    <tr style=\"text-align: right;\">\n",
              "      <th></th>\n",
              "      <th>order_id</th>\n",
              "      <th>order_item_id</th>\n",
              "      <th>product_id</th>\n",
              "      <th>seller_id</th>\n",
              "      <th>shipping_limit_date</th>\n",
              "      <th>price</th>\n",
              "      <th>freight_value</th>\n",
              "    </tr>\n",
              "  </thead>\n",
              "  <tbody>\n",
              "    <tr>\n",
              "      <th>0</th>\n",
              "      <td>00010242fe8c5a6d1ba2dd792cb16214</td>\n",
              "      <td>1</td>\n",
              "      <td>4244733e06e7ecb4970a6e2683c13e61</td>\n",
              "      <td>48436dade18ac8b2bce089ec2a041202</td>\n",
              "      <td>2017-09-19 09:45:35</td>\n",
              "      <td>58.90</td>\n",
              "      <td>13.29</td>\n",
              "    </tr>\n",
              "    <tr>\n",
              "      <th>1</th>\n",
              "      <td>00018f77f2f0320c557190d7a144bdd3</td>\n",
              "      <td>1</td>\n",
              "      <td>e5f2d52b802189ee658865ca93d83a8f</td>\n",
              "      <td>dd7ddc04e1b6c2c614352b383efe2d36</td>\n",
              "      <td>2017-05-03 11:05:13</td>\n",
              "      <td>239.90</td>\n",
              "      <td>19.93</td>\n",
              "    </tr>\n",
              "    <tr>\n",
              "      <th>2</th>\n",
              "      <td>000229ec398224ef6ca0657da4fc703e</td>\n",
              "      <td>1</td>\n",
              "      <td>c777355d18b72b67abbeef9df44fd0fd</td>\n",
              "      <td>5b51032eddd242adc84c38acab88f23d</td>\n",
              "      <td>2018-01-18 14:48:30</td>\n",
              "      <td>199.00</td>\n",
              "      <td>17.87</td>\n",
              "    </tr>\n",
              "    <tr>\n",
              "      <th>3</th>\n",
              "      <td>00024acbcdf0a6daa1e931b038114c75</td>\n",
              "      <td>1</td>\n",
              "      <td>7634da152a4610f1595efa32f14722fc</td>\n",
              "      <td>9d7a1d34a5052409006425275ba1c2b4</td>\n",
              "      <td>2018-08-15 10:10:18</td>\n",
              "      <td>12.99</td>\n",
              "      <td>12.79</td>\n",
              "    </tr>\n",
              "    <tr>\n",
              "      <th>4</th>\n",
              "      <td>00042b26cf59d7ce69dfabb4e55b4fd9</td>\n",
              "      <td>1</td>\n",
              "      <td>ac6c3623068f30de03045865e4e10089</td>\n",
              "      <td>df560393f3a51e74553ab94004ba5c87</td>\n",
              "      <td>2017-02-13 13:57:51</td>\n",
              "      <td>199.90</td>\n",
              "      <td>18.14</td>\n",
              "    </tr>\n",
              "  </tbody>\n",
              "</table>\n",
              "</div>"
            ],
            "text/plain": [
              "                           order_id  order_item_id  \\\n",
              "0  00010242fe8c5a6d1ba2dd792cb16214              1   \n",
              "1  00018f77f2f0320c557190d7a144bdd3              1   \n",
              "2  000229ec398224ef6ca0657da4fc703e              1   \n",
              "3  00024acbcdf0a6daa1e931b038114c75              1   \n",
              "4  00042b26cf59d7ce69dfabb4e55b4fd9              1   \n",
              "\n",
              "                         product_id                         seller_id  \\\n",
              "0  4244733e06e7ecb4970a6e2683c13e61  48436dade18ac8b2bce089ec2a041202   \n",
              "1  e5f2d52b802189ee658865ca93d83a8f  dd7ddc04e1b6c2c614352b383efe2d36   \n",
              "2  c777355d18b72b67abbeef9df44fd0fd  5b51032eddd242adc84c38acab88f23d   \n",
              "3  7634da152a4610f1595efa32f14722fc  9d7a1d34a5052409006425275ba1c2b4   \n",
              "4  ac6c3623068f30de03045865e4e10089  df560393f3a51e74553ab94004ba5c87   \n",
              "\n",
              "   shipping_limit_date   price  freight_value  \n",
              "0  2017-09-19 09:45:35   58.90          13.29  \n",
              "1  2017-05-03 11:05:13  239.90          19.93  \n",
              "2  2018-01-18 14:48:30  199.00          17.87  \n",
              "3  2018-08-15 10:10:18   12.99          12.79  \n",
              "4  2017-02-13 13:57:51  199.90          18.14  "
            ]
          },
          "execution_count": 5,
          "metadata": {},
          "output_type": "execute_result"
        }
      ],
      "source": [
        "items_df = pd.read_csv(\"data/olist_order_items_dataset.csv\")\n",
        "items_df.head()"
      ]
    },
    {
      "cell_type": "markdown",
      "metadata": {
        "id": "VpM1ISJ9uJJ1"
      },
      "source": [
        "### Menampilkan dataset items_df"
      ]
    },
    {
      "cell_type": "code",
      "execution_count": 6,
      "metadata": {
        "colab": {
          "base_uri": "https://localhost:8080/",
          "height": 206
        },
        "id": "d56pBtXZs-Ae",
        "outputId": "3b2325c7-847a-4354-fd2a-1d40c23929ae"
      },
      "outputs": [
        {
          "data": {
            "text/html": [
              "<div>\n",
              "<style scoped>\n",
              "    .dataframe tbody tr th:only-of-type {\n",
              "        vertical-align: middle;\n",
              "    }\n",
              "\n",
              "    .dataframe tbody tr th {\n",
              "        vertical-align: top;\n",
              "    }\n",
              "\n",
              "    .dataframe thead th {\n",
              "        text-align: right;\n",
              "    }\n",
              "</style>\n",
              "<table border=\"1\" class=\"dataframe\">\n",
              "  <thead>\n",
              "    <tr style=\"text-align: right;\">\n",
              "      <th></th>\n",
              "      <th>order_id</th>\n",
              "      <th>payment_sequential</th>\n",
              "      <th>payment_type</th>\n",
              "      <th>payment_installments</th>\n",
              "      <th>payment_value</th>\n",
              "    </tr>\n",
              "  </thead>\n",
              "  <tbody>\n",
              "    <tr>\n",
              "      <th>0</th>\n",
              "      <td>b81ef226f3fe1789b1e8b2acac839d17</td>\n",
              "      <td>1</td>\n",
              "      <td>credit_card</td>\n",
              "      <td>8</td>\n",
              "      <td>99.33</td>\n",
              "    </tr>\n",
              "    <tr>\n",
              "      <th>1</th>\n",
              "      <td>a9810da82917af2d9aefd1278f1dcfa0</td>\n",
              "      <td>1</td>\n",
              "      <td>credit_card</td>\n",
              "      <td>1</td>\n",
              "      <td>24.39</td>\n",
              "    </tr>\n",
              "    <tr>\n",
              "      <th>2</th>\n",
              "      <td>25e8ea4e93396b6fa0d3dd708e76c1bd</td>\n",
              "      <td>1</td>\n",
              "      <td>credit_card</td>\n",
              "      <td>1</td>\n",
              "      <td>65.71</td>\n",
              "    </tr>\n",
              "    <tr>\n",
              "      <th>3</th>\n",
              "      <td>ba78997921bbcdc1373bb41e913ab953</td>\n",
              "      <td>1</td>\n",
              "      <td>credit_card</td>\n",
              "      <td>8</td>\n",
              "      <td>107.78</td>\n",
              "    </tr>\n",
              "    <tr>\n",
              "      <th>4</th>\n",
              "      <td>42fdf880ba16b47b59251dd489d4441a</td>\n",
              "      <td>1</td>\n",
              "      <td>credit_card</td>\n",
              "      <td>2</td>\n",
              "      <td>128.45</td>\n",
              "    </tr>\n",
              "  </tbody>\n",
              "</table>\n",
              "</div>"
            ],
            "text/plain": [
              "                           order_id  payment_sequential payment_type  \\\n",
              "0  b81ef226f3fe1789b1e8b2acac839d17                   1  credit_card   \n",
              "1  a9810da82917af2d9aefd1278f1dcfa0                   1  credit_card   \n",
              "2  25e8ea4e93396b6fa0d3dd708e76c1bd                   1  credit_card   \n",
              "3  ba78997921bbcdc1373bb41e913ab953                   1  credit_card   \n",
              "4  42fdf880ba16b47b59251dd489d4441a                   1  credit_card   \n",
              "\n",
              "   payment_installments  payment_value  \n",
              "0                     8          99.33  \n",
              "1                     1          24.39  \n",
              "2                     1          65.71  \n",
              "3                     8         107.78  \n",
              "4                     2         128.45  "
            ]
          },
          "execution_count": 6,
          "metadata": {},
          "output_type": "execute_result"
        }
      ],
      "source": [
        "payments_df = pd.read_csv(\"data/olist_order_payments_dataset.csv\")\n",
        "payments_df.head()\n"
      ]
    },
    {
      "cell_type": "markdown",
      "metadata": {
        "id": "0iITSqkduMs7"
      },
      "source": [
        "### Menampilkan dataset reviews_df"
      ]
    },
    {
      "cell_type": "code",
      "execution_count": 7,
      "metadata": {
        "colab": {
          "base_uri": "https://localhost:8080/",
          "height": 261
        },
        "id": "-yThfa-ttANd",
        "outputId": "f7bc06d0-8565-477b-8e0f-7fe05bd3ace6"
      },
      "outputs": [
        {
          "data": {
            "text/html": [
              "<div>\n",
              "<style scoped>\n",
              "    .dataframe tbody tr th:only-of-type {\n",
              "        vertical-align: middle;\n",
              "    }\n",
              "\n",
              "    .dataframe tbody tr th {\n",
              "        vertical-align: top;\n",
              "    }\n",
              "\n",
              "    .dataframe thead th {\n",
              "        text-align: right;\n",
              "    }\n",
              "</style>\n",
              "<table border=\"1\" class=\"dataframe\">\n",
              "  <thead>\n",
              "    <tr style=\"text-align: right;\">\n",
              "      <th></th>\n",
              "      <th>review_id</th>\n",
              "      <th>order_id</th>\n",
              "      <th>review_score</th>\n",
              "      <th>review_comment_title</th>\n",
              "      <th>review_comment_message</th>\n",
              "      <th>review_creation_date</th>\n",
              "      <th>review_answer_timestamp</th>\n",
              "    </tr>\n",
              "  </thead>\n",
              "  <tbody>\n",
              "    <tr>\n",
              "      <th>0</th>\n",
              "      <td>7bc2406110b926393aa56f80a40eba40</td>\n",
              "      <td>73fc7af87114b39712e6da79b0a377eb</td>\n",
              "      <td>4</td>\n",
              "      <td>NaN</td>\n",
              "      <td>NaN</td>\n",
              "      <td>2018-01-18 00:00:00</td>\n",
              "      <td>2018-01-18 21:46:59</td>\n",
              "    </tr>\n",
              "    <tr>\n",
              "      <th>1</th>\n",
              "      <td>80e641a11e56f04c1ad469d5645fdfde</td>\n",
              "      <td>a548910a1c6147796b98fdf73dbeba33</td>\n",
              "      <td>5</td>\n",
              "      <td>NaN</td>\n",
              "      <td>NaN</td>\n",
              "      <td>2018-03-10 00:00:00</td>\n",
              "      <td>2018-03-11 03:05:13</td>\n",
              "    </tr>\n",
              "    <tr>\n",
              "      <th>2</th>\n",
              "      <td>228ce5500dc1d8e020d8d1322874b6f0</td>\n",
              "      <td>f9e4b658b201a9f2ecdecbb34bed034b</td>\n",
              "      <td>5</td>\n",
              "      <td>NaN</td>\n",
              "      <td>NaN</td>\n",
              "      <td>2018-02-17 00:00:00</td>\n",
              "      <td>2018-02-18 14:36:24</td>\n",
              "    </tr>\n",
              "    <tr>\n",
              "      <th>3</th>\n",
              "      <td>e64fb393e7b32834bb789ff8bb30750e</td>\n",
              "      <td>658677c97b385a9be170737859d3511b</td>\n",
              "      <td>5</td>\n",
              "      <td>NaN</td>\n",
              "      <td>Recebi bem antes do prazo estipulado.</td>\n",
              "      <td>2017-04-21 00:00:00</td>\n",
              "      <td>2017-04-21 22:02:06</td>\n",
              "    </tr>\n",
              "    <tr>\n",
              "      <th>4</th>\n",
              "      <td>f7c4243c7fe1938f181bec41a392bdeb</td>\n",
              "      <td>8e6bfb81e283fa7e4f11123a3fb894f1</td>\n",
              "      <td>5</td>\n",
              "      <td>NaN</td>\n",
              "      <td>Parabéns lojas lannister adorei comprar pela I...</td>\n",
              "      <td>2018-03-01 00:00:00</td>\n",
              "      <td>2018-03-02 10:26:53</td>\n",
              "    </tr>\n",
              "  </tbody>\n",
              "</table>\n",
              "</div>"
            ],
            "text/plain": [
              "                          review_id                          order_id  \\\n",
              "0  7bc2406110b926393aa56f80a40eba40  73fc7af87114b39712e6da79b0a377eb   \n",
              "1  80e641a11e56f04c1ad469d5645fdfde  a548910a1c6147796b98fdf73dbeba33   \n",
              "2  228ce5500dc1d8e020d8d1322874b6f0  f9e4b658b201a9f2ecdecbb34bed034b   \n",
              "3  e64fb393e7b32834bb789ff8bb30750e  658677c97b385a9be170737859d3511b   \n",
              "4  f7c4243c7fe1938f181bec41a392bdeb  8e6bfb81e283fa7e4f11123a3fb894f1   \n",
              "\n",
              "   review_score review_comment_title  \\\n",
              "0             4                  NaN   \n",
              "1             5                  NaN   \n",
              "2             5                  NaN   \n",
              "3             5                  NaN   \n",
              "4             5                  NaN   \n",
              "\n",
              "                              review_comment_message review_creation_date  \\\n",
              "0                                                NaN  2018-01-18 00:00:00   \n",
              "1                                                NaN  2018-03-10 00:00:00   \n",
              "2                                                NaN  2018-02-17 00:00:00   \n",
              "3              Recebi bem antes do prazo estipulado.  2017-04-21 00:00:00   \n",
              "4  Parabéns lojas lannister adorei comprar pela I...  2018-03-01 00:00:00   \n",
              "\n",
              "  review_answer_timestamp  \n",
              "0     2018-01-18 21:46:59  \n",
              "1     2018-03-11 03:05:13  \n",
              "2     2018-02-18 14:36:24  \n",
              "3     2017-04-21 22:02:06  \n",
              "4     2018-03-02 10:26:53  "
            ]
          },
          "execution_count": 7,
          "metadata": {},
          "output_type": "execute_result"
        }
      ],
      "source": [
        "reviews_df = pd.read_csv(\"data/olist_order_reviews_dataset.csv\")\n",
        "reviews_df.head()"
      ]
    },
    {
      "cell_type": "markdown",
      "metadata": {
        "id": "AKDtbj54uO17"
      },
      "source": [
        "### Menampilkan dataset products_df"
      ]
    },
    {
      "cell_type": "code",
      "execution_count": 8,
      "metadata": {
        "colab": {
          "base_uri": "https://localhost:8080/",
          "height": 226
        },
        "id": "RSy1TxottCCV",
        "outputId": "58f31152-7c8c-453d-c8ad-f44b57e93748"
      },
      "outputs": [
        {
          "data": {
            "text/html": [
              "<div>\n",
              "<style scoped>\n",
              "    .dataframe tbody tr th:only-of-type {\n",
              "        vertical-align: middle;\n",
              "    }\n",
              "\n",
              "    .dataframe tbody tr th {\n",
              "        vertical-align: top;\n",
              "    }\n",
              "\n",
              "    .dataframe thead th {\n",
              "        text-align: right;\n",
              "    }\n",
              "</style>\n",
              "<table border=\"1\" class=\"dataframe\">\n",
              "  <thead>\n",
              "    <tr style=\"text-align: right;\">\n",
              "      <th></th>\n",
              "      <th>product_id</th>\n",
              "      <th>product_category_name</th>\n",
              "      <th>product_name_lenght</th>\n",
              "      <th>product_description_lenght</th>\n",
              "      <th>product_photos_qty</th>\n",
              "      <th>product_weight_g</th>\n",
              "      <th>product_length_cm</th>\n",
              "      <th>product_height_cm</th>\n",
              "      <th>product_width_cm</th>\n",
              "    </tr>\n",
              "  </thead>\n",
              "  <tbody>\n",
              "    <tr>\n",
              "      <th>0</th>\n",
              "      <td>1e9e8ef04dbcff4541ed26657ea517e5</td>\n",
              "      <td>perfumaria</td>\n",
              "      <td>40.0</td>\n",
              "      <td>287.0</td>\n",
              "      <td>1.0</td>\n",
              "      <td>225.0</td>\n",
              "      <td>16.0</td>\n",
              "      <td>10.0</td>\n",
              "      <td>14.0</td>\n",
              "    </tr>\n",
              "    <tr>\n",
              "      <th>1</th>\n",
              "      <td>3aa071139cb16b67ca9e5dea641aaa2f</td>\n",
              "      <td>artes</td>\n",
              "      <td>44.0</td>\n",
              "      <td>276.0</td>\n",
              "      <td>1.0</td>\n",
              "      <td>1000.0</td>\n",
              "      <td>30.0</td>\n",
              "      <td>18.0</td>\n",
              "      <td>20.0</td>\n",
              "    </tr>\n",
              "    <tr>\n",
              "      <th>2</th>\n",
              "      <td>96bd76ec8810374ed1b65e291975717f</td>\n",
              "      <td>esporte_lazer</td>\n",
              "      <td>46.0</td>\n",
              "      <td>250.0</td>\n",
              "      <td>1.0</td>\n",
              "      <td>154.0</td>\n",
              "      <td>18.0</td>\n",
              "      <td>9.0</td>\n",
              "      <td>15.0</td>\n",
              "    </tr>\n",
              "    <tr>\n",
              "      <th>3</th>\n",
              "      <td>cef67bcfe19066a932b7673e239eb23d</td>\n",
              "      <td>bebes</td>\n",
              "      <td>27.0</td>\n",
              "      <td>261.0</td>\n",
              "      <td>1.0</td>\n",
              "      <td>371.0</td>\n",
              "      <td>26.0</td>\n",
              "      <td>4.0</td>\n",
              "      <td>26.0</td>\n",
              "    </tr>\n",
              "    <tr>\n",
              "      <th>4</th>\n",
              "      <td>9dc1a7de274444849c219cff195d0b71</td>\n",
              "      <td>utilidades_domesticas</td>\n",
              "      <td>37.0</td>\n",
              "      <td>402.0</td>\n",
              "      <td>4.0</td>\n",
              "      <td>625.0</td>\n",
              "      <td>20.0</td>\n",
              "      <td>17.0</td>\n",
              "      <td>13.0</td>\n",
              "    </tr>\n",
              "  </tbody>\n",
              "</table>\n",
              "</div>"
            ],
            "text/plain": [
              "                         product_id  product_category_name  \\\n",
              "0  1e9e8ef04dbcff4541ed26657ea517e5             perfumaria   \n",
              "1  3aa071139cb16b67ca9e5dea641aaa2f                  artes   \n",
              "2  96bd76ec8810374ed1b65e291975717f          esporte_lazer   \n",
              "3  cef67bcfe19066a932b7673e239eb23d                  bebes   \n",
              "4  9dc1a7de274444849c219cff195d0b71  utilidades_domesticas   \n",
              "\n",
              "   product_name_lenght  product_description_lenght  product_photos_qty  \\\n",
              "0                 40.0                       287.0                 1.0   \n",
              "1                 44.0                       276.0                 1.0   \n",
              "2                 46.0                       250.0                 1.0   \n",
              "3                 27.0                       261.0                 1.0   \n",
              "4                 37.0                       402.0                 4.0   \n",
              "\n",
              "   product_weight_g  product_length_cm  product_height_cm  product_width_cm  \n",
              "0             225.0               16.0               10.0              14.0  \n",
              "1            1000.0               30.0               18.0              20.0  \n",
              "2             154.0               18.0                9.0              15.0  \n",
              "3             371.0               26.0                4.0              26.0  \n",
              "4             625.0               20.0               17.0              13.0  "
            ]
          },
          "execution_count": 8,
          "metadata": {},
          "output_type": "execute_result"
        }
      ],
      "source": [
        "products_df = pd.read_csv(\"data/olist_products_dataset.csv\")\n",
        "products_df.head()"
      ]
    },
    {
      "cell_type": "markdown",
      "metadata": {
        "id": "XkALh-aouRgz"
      },
      "source": [
        "### Menampilkan dataset sellers_df"
      ]
    },
    {
      "cell_type": "code",
      "execution_count": 9,
      "metadata": {
        "colab": {
          "base_uri": "https://localhost:8080/",
          "height": 206
        },
        "id": "yMfzqR0LtE6c",
        "outputId": "9934ed3a-f6b3-4388-9750-95466630d9f9"
      },
      "outputs": [
        {
          "data": {
            "text/html": [
              "<div>\n",
              "<style scoped>\n",
              "    .dataframe tbody tr th:only-of-type {\n",
              "        vertical-align: middle;\n",
              "    }\n",
              "\n",
              "    .dataframe tbody tr th {\n",
              "        vertical-align: top;\n",
              "    }\n",
              "\n",
              "    .dataframe thead th {\n",
              "        text-align: right;\n",
              "    }\n",
              "</style>\n",
              "<table border=\"1\" class=\"dataframe\">\n",
              "  <thead>\n",
              "    <tr style=\"text-align: right;\">\n",
              "      <th></th>\n",
              "      <th>seller_id</th>\n",
              "      <th>seller_zip_code_prefix</th>\n",
              "      <th>seller_city</th>\n",
              "      <th>seller_state</th>\n",
              "    </tr>\n",
              "  </thead>\n",
              "  <tbody>\n",
              "    <tr>\n",
              "      <th>0</th>\n",
              "      <td>3442f8959a84dea7ee197c632cb2df15</td>\n",
              "      <td>13023</td>\n",
              "      <td>campinas</td>\n",
              "      <td>SP</td>\n",
              "    </tr>\n",
              "    <tr>\n",
              "      <th>1</th>\n",
              "      <td>d1b65fc7debc3361ea86b5f14c68d2e2</td>\n",
              "      <td>13844</td>\n",
              "      <td>mogi guacu</td>\n",
              "      <td>SP</td>\n",
              "    </tr>\n",
              "    <tr>\n",
              "      <th>2</th>\n",
              "      <td>ce3ad9de960102d0677a81f5d0bb7b2d</td>\n",
              "      <td>20031</td>\n",
              "      <td>rio de janeiro</td>\n",
              "      <td>RJ</td>\n",
              "    </tr>\n",
              "    <tr>\n",
              "      <th>3</th>\n",
              "      <td>c0f3eea2e14555b6faeea3dd58c1b1c3</td>\n",
              "      <td>4195</td>\n",
              "      <td>sao paulo</td>\n",
              "      <td>SP</td>\n",
              "    </tr>\n",
              "    <tr>\n",
              "      <th>4</th>\n",
              "      <td>51a04a8a6bdcb23deccc82b0b80742cf</td>\n",
              "      <td>12914</td>\n",
              "      <td>braganca paulista</td>\n",
              "      <td>SP</td>\n",
              "    </tr>\n",
              "  </tbody>\n",
              "</table>\n",
              "</div>"
            ],
            "text/plain": [
              "                          seller_id  seller_zip_code_prefix  \\\n",
              "0  3442f8959a84dea7ee197c632cb2df15                   13023   \n",
              "1  d1b65fc7debc3361ea86b5f14c68d2e2                   13844   \n",
              "2  ce3ad9de960102d0677a81f5d0bb7b2d                   20031   \n",
              "3  c0f3eea2e14555b6faeea3dd58c1b1c3                    4195   \n",
              "4  51a04a8a6bdcb23deccc82b0b80742cf                   12914   \n",
              "\n",
              "         seller_city seller_state  \n",
              "0           campinas           SP  \n",
              "1         mogi guacu           SP  \n",
              "2     rio de janeiro           RJ  \n",
              "3          sao paulo           SP  \n",
              "4  braganca paulista           SP  "
            ]
          },
          "execution_count": 9,
          "metadata": {},
          "output_type": "execute_result"
        }
      ],
      "source": [
        "sellers_df = pd.read_csv(\"data/olist_sellers_dataset.csv\")\n",
        "sellers_df.head()"
      ]
    },
    {
      "cell_type": "markdown",
      "metadata": {
        "id": "MqWVIk-quUok"
      },
      "source": [
        "### Menampilkan dataset product_category_df"
      ]
    },
    {
      "cell_type": "code",
      "execution_count": 10,
      "metadata": {
        "colab": {
          "base_uri": "https://localhost:8080/",
          "height": 206
        },
        "id": "QSA9vWvEtGqV",
        "outputId": "712c3a97-5745-4d69-f20d-faa5f0eda8fc"
      },
      "outputs": [
        {
          "data": {
            "text/html": [
              "<div>\n",
              "<style scoped>\n",
              "    .dataframe tbody tr th:only-of-type {\n",
              "        vertical-align: middle;\n",
              "    }\n",
              "\n",
              "    .dataframe tbody tr th {\n",
              "        vertical-align: top;\n",
              "    }\n",
              "\n",
              "    .dataframe thead th {\n",
              "        text-align: right;\n",
              "    }\n",
              "</style>\n",
              "<table border=\"1\" class=\"dataframe\">\n",
              "  <thead>\n",
              "    <tr style=\"text-align: right;\">\n",
              "      <th></th>\n",
              "      <th>product_category_name</th>\n",
              "      <th>product_category_name_english</th>\n",
              "    </tr>\n",
              "  </thead>\n",
              "  <tbody>\n",
              "    <tr>\n",
              "      <th>0</th>\n",
              "      <td>beleza_saude</td>\n",
              "      <td>health_beauty</td>\n",
              "    </tr>\n",
              "    <tr>\n",
              "      <th>1</th>\n",
              "      <td>informatica_acessorios</td>\n",
              "      <td>computers_accessories</td>\n",
              "    </tr>\n",
              "    <tr>\n",
              "      <th>2</th>\n",
              "      <td>automotivo</td>\n",
              "      <td>auto</td>\n",
              "    </tr>\n",
              "    <tr>\n",
              "      <th>3</th>\n",
              "      <td>cama_mesa_banho</td>\n",
              "      <td>bed_bath_table</td>\n",
              "    </tr>\n",
              "    <tr>\n",
              "      <th>4</th>\n",
              "      <td>moveis_decoracao</td>\n",
              "      <td>furniture_decor</td>\n",
              "    </tr>\n",
              "  </tbody>\n",
              "</table>\n",
              "</div>"
            ],
            "text/plain": [
              "    product_category_name product_category_name_english\n",
              "0            beleza_saude                 health_beauty\n",
              "1  informatica_acessorios         computers_accessories\n",
              "2              automotivo                          auto\n",
              "3         cama_mesa_banho                bed_bath_table\n",
              "4        moveis_decoracao               furniture_decor"
            ]
          },
          "execution_count": 10,
          "metadata": {},
          "output_type": "execute_result"
        }
      ],
      "source": [
        "product_category_df = pd.read_csv(\"data/product_category_name_translation.csv\")\n",
        "product_category_df.head()"
      ]
    },
    {
      "cell_type": "markdown",
      "metadata": {
        "id": "-FyKTTuWaOYp"
      },
      "source": [
        "## Gathering Data Conclusion"
      ]
    },
    {
      "cell_type": "markdown",
      "metadata": {
        "id": "yYTTcYB6aQrI"
      },
      "source": [
        "1. Pengumpulan data relatif mudah, dan setiap dataset yang ada saling berkaitan"
      ]
    },
    {
      "cell_type": "markdown",
      "metadata": {
        "id": "7DzETMkrvU46"
      },
      "source": [
        "# Assessing Data"
      ]
    },
    {
      "cell_type": "markdown",
      "metadata": {
        "id": "IZSSOVIrviwS"
      },
      "source": [
        "### Menilai data customers_df"
      ]
    },
    {
      "cell_type": "markdown",
      "metadata": {
        "id": "UF-9cvinxS5g"
      },
      "source": [
        "Cek informasi data tiap kolom"
      ]
    },
    {
      "cell_type": "code",
      "execution_count": 11,
      "metadata": {
        "colab": {
          "base_uri": "https://localhost:8080/"
        },
        "id": "RfSYwDMqvWzS",
        "outputId": "b667b41e-1c5e-4a15-b8ba-9e7f871c60b7"
      },
      "outputs": [
        {
          "name": "stdout",
          "output_type": "stream",
          "text": [
            "<class 'pandas.core.frame.DataFrame'>\n",
            "RangeIndex: 99441 entries, 0 to 99440\n",
            "Data columns (total 5 columns):\n",
            " #   Column                    Non-Null Count  Dtype \n",
            "---  ------                    --------------  ----- \n",
            " 0   customer_id               99441 non-null  object\n",
            " 1   customer_unique_id        99441 non-null  object\n",
            " 2   customer_zip_code_prefix  99441 non-null  int64 \n",
            " 3   customer_city             99441 non-null  object\n",
            " 4   customer_state            99441 non-null  object\n",
            "dtypes: int64(1), object(4)\n",
            "memory usage: 3.8+ MB\n"
          ]
        }
      ],
      "source": [
        "customers_df.info()"
      ]
    },
    {
      "cell_type": "markdown",
      "metadata": {
        "id": "cOThYNDsxRdI"
      },
      "source": [
        "Insight:\n",
        "- Data menunjukkan tidak ada data yang memiliki jumlah baris yang berbeda\n",
        "- Tipe data untuk setiap kolom tidak ada masalah"
      ]
    },
    {
      "cell_type": "markdown",
      "metadata": {
        "id": "RkD3GWVUxxxf"
      },
      "source": [
        "Cek duplikasi data"
      ]
    },
    {
      "cell_type": "code",
      "execution_count": 12,
      "metadata": {
        "colab": {
          "base_uri": "https://localhost:8080/"
        },
        "id": "l52omux0x0lf",
        "outputId": "1ad84981-e800-42fe-f4c1-f6c10bf0f5a2"
      },
      "outputs": [
        {
          "name": "stdout",
          "output_type": "stream",
          "text": [
            "Jumlah duplikasi data:  0\n"
          ]
        }
      ],
      "source": [
        "print(\"Jumlah duplikasi data: \", customers_df.duplicated().sum())"
      ]
    },
    {
      "cell_type": "markdown",
      "metadata": {
        "id": "onYluSy8yDUI"
      },
      "source": [
        "Insight:\n",
        "- Tidak ada duplikasi data pada customers_df"
      ]
    },
    {
      "cell_type": "markdown",
      "metadata": {
        "id": "id1R5Z3XyJsI"
      },
      "source": [
        "Cek parameter statistik"
      ]
    },
    {
      "cell_type": "code",
      "execution_count": 13,
      "metadata": {
        "colab": {
          "base_uri": "https://localhost:8080/",
          "height": 394
        },
        "id": "VTby92okyMKR",
        "outputId": "ecdefb74-3d1e-4db0-8999-78eb0b44f3af"
      },
      "outputs": [
        {
          "data": {
            "text/html": [
              "<div>\n",
              "<style scoped>\n",
              "    .dataframe tbody tr th:only-of-type {\n",
              "        vertical-align: middle;\n",
              "    }\n",
              "\n",
              "    .dataframe tbody tr th {\n",
              "        vertical-align: top;\n",
              "    }\n",
              "\n",
              "    .dataframe thead th {\n",
              "        text-align: right;\n",
              "    }\n",
              "</style>\n",
              "<table border=\"1\" class=\"dataframe\">\n",
              "  <thead>\n",
              "    <tr style=\"text-align: right;\">\n",
              "      <th></th>\n",
              "      <th>customer_id</th>\n",
              "      <th>customer_unique_id</th>\n",
              "      <th>customer_zip_code_prefix</th>\n",
              "      <th>customer_city</th>\n",
              "      <th>customer_state</th>\n",
              "    </tr>\n",
              "  </thead>\n",
              "  <tbody>\n",
              "    <tr>\n",
              "      <th>count</th>\n",
              "      <td>99441</td>\n",
              "      <td>99441</td>\n",
              "      <td>99441.000000</td>\n",
              "      <td>99441</td>\n",
              "      <td>99441</td>\n",
              "    </tr>\n",
              "    <tr>\n",
              "      <th>unique</th>\n",
              "      <td>99441</td>\n",
              "      <td>96096</td>\n",
              "      <td>NaN</td>\n",
              "      <td>4119</td>\n",
              "      <td>27</td>\n",
              "    </tr>\n",
              "    <tr>\n",
              "      <th>top</th>\n",
              "      <td>274fa6071e5e17fe303b9748641082c8</td>\n",
              "      <td>8d50f5eadf50201ccdcedfb9e2ac8455</td>\n",
              "      <td>NaN</td>\n",
              "      <td>sao paulo</td>\n",
              "      <td>SP</td>\n",
              "    </tr>\n",
              "    <tr>\n",
              "      <th>freq</th>\n",
              "      <td>1</td>\n",
              "      <td>17</td>\n",
              "      <td>NaN</td>\n",
              "      <td>15540</td>\n",
              "      <td>41746</td>\n",
              "    </tr>\n",
              "    <tr>\n",
              "      <th>mean</th>\n",
              "      <td>NaN</td>\n",
              "      <td>NaN</td>\n",
              "      <td>35137.474583</td>\n",
              "      <td>NaN</td>\n",
              "      <td>NaN</td>\n",
              "    </tr>\n",
              "    <tr>\n",
              "      <th>std</th>\n",
              "      <td>NaN</td>\n",
              "      <td>NaN</td>\n",
              "      <td>29797.938996</td>\n",
              "      <td>NaN</td>\n",
              "      <td>NaN</td>\n",
              "    </tr>\n",
              "    <tr>\n",
              "      <th>min</th>\n",
              "      <td>NaN</td>\n",
              "      <td>NaN</td>\n",
              "      <td>1003.000000</td>\n",
              "      <td>NaN</td>\n",
              "      <td>NaN</td>\n",
              "    </tr>\n",
              "    <tr>\n",
              "      <th>25%</th>\n",
              "      <td>NaN</td>\n",
              "      <td>NaN</td>\n",
              "      <td>11347.000000</td>\n",
              "      <td>NaN</td>\n",
              "      <td>NaN</td>\n",
              "    </tr>\n",
              "    <tr>\n",
              "      <th>50%</th>\n",
              "      <td>NaN</td>\n",
              "      <td>NaN</td>\n",
              "      <td>24416.000000</td>\n",
              "      <td>NaN</td>\n",
              "      <td>NaN</td>\n",
              "    </tr>\n",
              "    <tr>\n",
              "      <th>75%</th>\n",
              "      <td>NaN</td>\n",
              "      <td>NaN</td>\n",
              "      <td>58900.000000</td>\n",
              "      <td>NaN</td>\n",
              "      <td>NaN</td>\n",
              "    </tr>\n",
              "    <tr>\n",
              "      <th>max</th>\n",
              "      <td>NaN</td>\n",
              "      <td>NaN</td>\n",
              "      <td>99990.000000</td>\n",
              "      <td>NaN</td>\n",
              "      <td>NaN</td>\n",
              "    </tr>\n",
              "  </tbody>\n",
              "</table>\n",
              "</div>"
            ],
            "text/plain": [
              "                             customer_id                customer_unique_id  \\\n",
              "count                              99441                             99441   \n",
              "unique                             99441                             96096   \n",
              "top     274fa6071e5e17fe303b9748641082c8  8d50f5eadf50201ccdcedfb9e2ac8455   \n",
              "freq                                   1                                17   \n",
              "mean                                 NaN                               NaN   \n",
              "std                                  NaN                               NaN   \n",
              "min                                  NaN                               NaN   \n",
              "25%                                  NaN                               NaN   \n",
              "50%                                  NaN                               NaN   \n",
              "75%                                  NaN                               NaN   \n",
              "max                                  NaN                               NaN   \n",
              "\n",
              "        customer_zip_code_prefix customer_city customer_state  \n",
              "count               99441.000000         99441          99441  \n",
              "unique                       NaN          4119             27  \n",
              "top                          NaN     sao paulo             SP  \n",
              "freq                         NaN         15540          41746  \n",
              "mean                35137.474583           NaN            NaN  \n",
              "std                 29797.938996           NaN            NaN  \n",
              "min                  1003.000000           NaN            NaN  \n",
              "25%                 11347.000000           NaN            NaN  \n",
              "50%                 24416.000000           NaN            NaN  \n",
              "75%                 58900.000000           NaN            NaN  \n",
              "max                 99990.000000           NaN            NaN  "
            ]
          },
          "execution_count": 13,
          "metadata": {},
          "output_type": "execute_result"
        }
      ],
      "source": [
        "customers_df.describe(include=\"all\")"
      ]
    },
    {
      "cell_type": "markdown",
      "metadata": {
        "id": "8njmEqlZ09HE"
      },
      "source": [
        "Insight:\n",
        "- Tidak ada data yang tidak wajar pada setiap kolom di customers_df"
      ]
    },
    {
      "cell_type": "markdown",
      "metadata": {
        "id": "ToG63nCL1W-T"
      },
      "source": [
        "### Menilai data geolocation_df"
      ]
    },
    {
      "cell_type": "markdown",
      "metadata": {
        "id": "5Mm6Mwg91ezr"
      },
      "source": [
        "Cek informasi data tiap kolom"
      ]
    },
    {
      "cell_type": "code",
      "execution_count": 14,
      "metadata": {
        "colab": {
          "base_uri": "https://localhost:8080/"
        },
        "id": "LGWwC5Q_1bJ1",
        "outputId": "3fb97b27-c659-4e5d-b899-5b75dccbe478"
      },
      "outputs": [
        {
          "name": "stdout",
          "output_type": "stream",
          "text": [
            "<class 'pandas.core.frame.DataFrame'>\n",
            "RangeIndex: 1000163 entries, 0 to 1000162\n",
            "Data columns (total 5 columns):\n",
            " #   Column                       Non-Null Count    Dtype  \n",
            "---  ------                       --------------    -----  \n",
            " 0   geolocation_zip_code_prefix  1000163 non-null  int64  \n",
            " 1   geolocation_lat              1000163 non-null  float64\n",
            " 2   geolocation_lng              1000163 non-null  float64\n",
            " 3   geolocation_city             1000163 non-null  object \n",
            " 4   geolocation_state            1000163 non-null  object \n",
            "dtypes: float64(2), int64(1), object(2)\n",
            "memory usage: 38.2+ MB\n"
          ]
        }
      ],
      "source": [
        "geolocation_df.info()"
      ]
    },
    {
      "cell_type": "markdown",
      "metadata": {
        "id": "H5T_t3fL1qo8"
      },
      "source": [
        "Insight:\n",
        "- Data menunjukkan tidak ada data yang memiliki jumlah baris yang berbeda\n",
        "- Tipe data untuk setiap kolom tidak ada masalah\n"
      ]
    },
    {
      "cell_type": "markdown",
      "metadata": {
        "id": "hcKB1hJF1sBU"
      },
      "source": [
        "Cek duplikasi data"
      ]
    },
    {
      "cell_type": "code",
      "execution_count": 15,
      "metadata": {
        "colab": {
          "base_uri": "https://localhost:8080/"
        },
        "id": "uLhrlCeI1u0U",
        "outputId": "df2947c4-cb27-4c25-81b7-8507f2d34121"
      },
      "outputs": [
        {
          "name": "stdout",
          "output_type": "stream",
          "text": [
            "Jumlah duplikasi data:  261831\n"
          ]
        }
      ],
      "source": [
        "print(\"Jumlah duplikasi data: \", geolocation_df.duplicated().sum())"
      ]
    },
    {
      "cell_type": "markdown",
      "metadata": {
        "id": "7mWe4lLz2DP8"
      },
      "source": [
        "Insight:\n",
        "- Ada 261831 data yang terduplikasi"
      ]
    },
    {
      "cell_type": "markdown",
      "metadata": {
        "id": "4QA0Ws7-2M57"
      },
      "source": [
        "Cek parameter statistik"
      ]
    },
    {
      "cell_type": "code",
      "execution_count": 16,
      "metadata": {
        "colab": {
          "base_uri": "https://localhost:8080/",
          "height": 394
        },
        "id": "YhMyu5JO2PlK",
        "outputId": "04eb7e29-6db4-4102-a99b-a64558d4fce6"
      },
      "outputs": [
        {
          "data": {
            "text/html": [
              "<div>\n",
              "<style scoped>\n",
              "    .dataframe tbody tr th:only-of-type {\n",
              "        vertical-align: middle;\n",
              "    }\n",
              "\n",
              "    .dataframe tbody tr th {\n",
              "        vertical-align: top;\n",
              "    }\n",
              "\n",
              "    .dataframe thead th {\n",
              "        text-align: right;\n",
              "    }\n",
              "</style>\n",
              "<table border=\"1\" class=\"dataframe\">\n",
              "  <thead>\n",
              "    <tr style=\"text-align: right;\">\n",
              "      <th></th>\n",
              "      <th>geolocation_zip_code_prefix</th>\n",
              "      <th>geolocation_lat</th>\n",
              "      <th>geolocation_lng</th>\n",
              "      <th>geolocation_city</th>\n",
              "      <th>geolocation_state</th>\n",
              "    </tr>\n",
              "  </thead>\n",
              "  <tbody>\n",
              "    <tr>\n",
              "      <th>count</th>\n",
              "      <td>1.000163e+06</td>\n",
              "      <td>1.000163e+06</td>\n",
              "      <td>1.000163e+06</td>\n",
              "      <td>1000163</td>\n",
              "      <td>1000163</td>\n",
              "    </tr>\n",
              "    <tr>\n",
              "      <th>unique</th>\n",
              "      <td>NaN</td>\n",
              "      <td>NaN</td>\n",
              "      <td>NaN</td>\n",
              "      <td>8011</td>\n",
              "      <td>27</td>\n",
              "    </tr>\n",
              "    <tr>\n",
              "      <th>top</th>\n",
              "      <td>NaN</td>\n",
              "      <td>NaN</td>\n",
              "      <td>NaN</td>\n",
              "      <td>sao paulo</td>\n",
              "      <td>SP</td>\n",
              "    </tr>\n",
              "    <tr>\n",
              "      <th>freq</th>\n",
              "      <td>NaN</td>\n",
              "      <td>NaN</td>\n",
              "      <td>NaN</td>\n",
              "      <td>135800</td>\n",
              "      <td>404268</td>\n",
              "    </tr>\n",
              "    <tr>\n",
              "      <th>mean</th>\n",
              "      <td>3.657417e+04</td>\n",
              "      <td>-2.117615e+01</td>\n",
              "      <td>-4.639054e+01</td>\n",
              "      <td>NaN</td>\n",
              "      <td>NaN</td>\n",
              "    </tr>\n",
              "    <tr>\n",
              "      <th>std</th>\n",
              "      <td>3.054934e+04</td>\n",
              "      <td>5.715866e+00</td>\n",
              "      <td>4.269748e+00</td>\n",
              "      <td>NaN</td>\n",
              "      <td>NaN</td>\n",
              "    </tr>\n",
              "    <tr>\n",
              "      <th>min</th>\n",
              "      <td>1.001000e+03</td>\n",
              "      <td>-3.660537e+01</td>\n",
              "      <td>-1.014668e+02</td>\n",
              "      <td>NaN</td>\n",
              "      <td>NaN</td>\n",
              "    </tr>\n",
              "    <tr>\n",
              "      <th>25%</th>\n",
              "      <td>1.107500e+04</td>\n",
              "      <td>-2.360355e+01</td>\n",
              "      <td>-4.857317e+01</td>\n",
              "      <td>NaN</td>\n",
              "      <td>NaN</td>\n",
              "    </tr>\n",
              "    <tr>\n",
              "      <th>50%</th>\n",
              "      <td>2.653000e+04</td>\n",
              "      <td>-2.291938e+01</td>\n",
              "      <td>-4.663788e+01</td>\n",
              "      <td>NaN</td>\n",
              "      <td>NaN</td>\n",
              "    </tr>\n",
              "    <tr>\n",
              "      <th>75%</th>\n",
              "      <td>6.350400e+04</td>\n",
              "      <td>-1.997962e+01</td>\n",
              "      <td>-4.376771e+01</td>\n",
              "      <td>NaN</td>\n",
              "      <td>NaN</td>\n",
              "    </tr>\n",
              "    <tr>\n",
              "      <th>max</th>\n",
              "      <td>9.999000e+04</td>\n",
              "      <td>4.506593e+01</td>\n",
              "      <td>1.211054e+02</td>\n",
              "      <td>NaN</td>\n",
              "      <td>NaN</td>\n",
              "    </tr>\n",
              "  </tbody>\n",
              "</table>\n",
              "</div>"
            ],
            "text/plain": [
              "        geolocation_zip_code_prefix  geolocation_lat  geolocation_lng  \\\n",
              "count                  1.000163e+06     1.000163e+06     1.000163e+06   \n",
              "unique                          NaN              NaN              NaN   \n",
              "top                             NaN              NaN              NaN   \n",
              "freq                            NaN              NaN              NaN   \n",
              "mean                   3.657417e+04    -2.117615e+01    -4.639054e+01   \n",
              "std                    3.054934e+04     5.715866e+00     4.269748e+00   \n",
              "min                    1.001000e+03    -3.660537e+01    -1.014668e+02   \n",
              "25%                    1.107500e+04    -2.360355e+01    -4.857317e+01   \n",
              "50%                    2.653000e+04    -2.291938e+01    -4.663788e+01   \n",
              "75%                    6.350400e+04    -1.997962e+01    -4.376771e+01   \n",
              "max                    9.999000e+04     4.506593e+01     1.211054e+02   \n",
              "\n",
              "       geolocation_city geolocation_state  \n",
              "count           1000163           1000163  \n",
              "unique             8011                27  \n",
              "top           sao paulo                SP  \n",
              "freq             135800            404268  \n",
              "mean                NaN               NaN  \n",
              "std                 NaN               NaN  \n",
              "min                 NaN               NaN  \n",
              "25%                 NaN               NaN  \n",
              "50%                 NaN               NaN  \n",
              "75%                 NaN               NaN  \n",
              "max                 NaN               NaN  "
            ]
          },
          "execution_count": 16,
          "metadata": {},
          "output_type": "execute_result"
        }
      ],
      "source": [
        "geolocation_df.describe(include=\"all\")"
      ]
    },
    {
      "cell_type": "markdown",
      "metadata": {
        "id": "7AnWCDZD24E6"
      },
      "source": [
        "Insight:\n",
        "- Tidak ada data yang tidak wajar pada setiap kolom di geolocation_df"
      ]
    },
    {
      "cell_type": "markdown",
      "metadata": {
        "id": "s1-brYGx3YzB"
      },
      "source": [
        "### Menilai data orders_df"
      ]
    },
    {
      "cell_type": "markdown",
      "metadata": {
        "id": "kkE26D5P4D-5"
      },
      "source": [
        "Cek informasi tiap kolom"
      ]
    },
    {
      "cell_type": "code",
      "execution_count": 17,
      "metadata": {
        "colab": {
          "base_uri": "https://localhost:8080/"
        },
        "id": "xAuNDUB14O5x",
        "outputId": "4d011d1a-b132-48f7-8575-ee2133ec2155"
      },
      "outputs": [
        {
          "name": "stdout",
          "output_type": "stream",
          "text": [
            "<class 'pandas.core.frame.DataFrame'>\n",
            "RangeIndex: 99441 entries, 0 to 99440\n",
            "Data columns (total 8 columns):\n",
            " #   Column                         Non-Null Count  Dtype \n",
            "---  ------                         --------------  ----- \n",
            " 0   order_id                       99441 non-null  object\n",
            " 1   customer_id                    99441 non-null  object\n",
            " 2   order_status                   99441 non-null  object\n",
            " 3   order_purchase_timestamp       99441 non-null  object\n",
            " 4   order_approved_at              99281 non-null  object\n",
            " 5   order_delivered_carrier_date   97658 non-null  object\n",
            " 6   order_delivered_customer_date  96476 non-null  object\n",
            " 7   order_estimated_delivery_date  99441 non-null  object\n",
            "dtypes: object(8)\n",
            "memory usage: 6.1+ MB\n"
          ]
        }
      ],
      "source": [
        "orders_df.info()"
      ]
    },
    {
      "cell_type": "markdown",
      "metadata": {
        "id": "p-EYp63c4sZw"
      },
      "source": [
        "Insight:\n",
        "- Terdapat missing values pada kolom order_approved_at sampai order_delivered_customer_date\n",
        "- Terdapat kesalahan tipe data pada kolom order_purchase_timestamp sampai order_estimated_delivery_date"
      ]
    },
    {
      "cell_type": "markdown",
      "metadata": {
        "id": "T9ukuuO25EEH"
      },
      "source": [
        "Cek missing value"
      ]
    },
    {
      "cell_type": "code",
      "execution_count": 18,
      "metadata": {
        "colab": {
          "base_uri": "https://localhost:8080/",
          "height": 335
        },
        "id": "qpfk9bTa5F4p",
        "outputId": "c76f46e0-7ebe-4451-88bd-0fce25b95838"
      },
      "outputs": [
        {
          "data": {
            "text/plain": [
              "order_id                            0\n",
              "customer_id                         0\n",
              "order_status                        0\n",
              "order_purchase_timestamp            0\n",
              "order_approved_at                 160\n",
              "order_delivered_carrier_date     1783\n",
              "order_delivered_customer_date    2965\n",
              "order_estimated_delivery_date       0\n",
              "dtype: int64"
            ]
          },
          "execution_count": 18,
          "metadata": {},
          "output_type": "execute_result"
        }
      ],
      "source": [
        "orders_df.isna().sum()"
      ]
    },
    {
      "cell_type": "markdown",
      "metadata": {
        "id": "wQKiVkNj5NPA"
      },
      "source": [
        "Insight:\n",
        "- Terdapat 160 missing values pada kolom order_approved_at\n",
        "- Terdapat 1783 missing values pada kolom order_delivered_carrier_date\n",
        "- Terdapat 2965 missing values pada kolom order_delivered_customer_date"
      ]
    },
    {
      "cell_type": "markdown",
      "metadata": {
        "id": "QwkVvAvQ5fxq"
      },
      "source": [
        "Cek duplikasi data"
      ]
    },
    {
      "cell_type": "code",
      "execution_count": 19,
      "metadata": {
        "colab": {
          "base_uri": "https://localhost:8080/"
        },
        "id": "hJ5RbWf65iEh",
        "outputId": "fcc7ab02-f0ff-4a61-c976-3530feaa0f33"
      },
      "outputs": [
        {
          "name": "stdout",
          "output_type": "stream",
          "text": [
            "Jumlah duplikasi data:  0\n"
          ]
        }
      ],
      "source": [
        "print(\"Jumlah duplikasi data: \", orders_df.duplicated().sum())"
      ]
    },
    {
      "cell_type": "markdown",
      "metadata": {
        "id": "EhVoiKjV5nCf"
      },
      "source": [
        "Insight:\n",
        "- Tidak ada duplikasi data"
      ]
    },
    {
      "cell_type": "markdown",
      "metadata": {
        "id": "LYEls5eU3nHY"
      },
      "source": [
        "### Menilai data items_df"
      ]
    },
    {
      "cell_type": "markdown",
      "metadata": {
        "id": "-8NSPqaj6MSR"
      },
      "source": [
        "Cek informasi tiap kolom"
      ]
    },
    {
      "cell_type": "code",
      "execution_count": 20,
      "metadata": {
        "colab": {
          "base_uri": "https://localhost:8080/"
        },
        "id": "hriae9Ja6OX_",
        "outputId": "92422663-45e0-4839-b4e9-75bf801ea3d7"
      },
      "outputs": [
        {
          "name": "stdout",
          "output_type": "stream",
          "text": [
            "<class 'pandas.core.frame.DataFrame'>\n",
            "RangeIndex: 112650 entries, 0 to 112649\n",
            "Data columns (total 7 columns):\n",
            " #   Column               Non-Null Count   Dtype  \n",
            "---  ------               --------------   -----  \n",
            " 0   order_id             112650 non-null  object \n",
            " 1   order_item_id        112650 non-null  int64  \n",
            " 2   product_id           112650 non-null  object \n",
            " 3   seller_id            112650 non-null  object \n",
            " 4   shipping_limit_date  112650 non-null  object \n",
            " 5   price                112650 non-null  float64\n",
            " 6   freight_value        112650 non-null  float64\n",
            "dtypes: float64(2), int64(1), object(4)\n",
            "memory usage: 6.0+ MB\n"
          ]
        }
      ],
      "source": [
        "items_df.info()"
      ]
    },
    {
      "cell_type": "markdown",
      "metadata": {
        "id": "e8k1Wron6guO"
      },
      "source": [
        "Insight:\n",
        "- Terdapat kesalahan tipe data pada kolom shipping_limit_date"
      ]
    },
    {
      "cell_type": "markdown",
      "metadata": {
        "id": "bgSHQv5i6om3"
      },
      "source": [
        "Cek duplikasi data"
      ]
    },
    {
      "cell_type": "code",
      "execution_count": 21,
      "metadata": {
        "colab": {
          "base_uri": "https://localhost:8080/"
        },
        "id": "7W__5ijQ6ni1",
        "outputId": "1138fa19-5f1f-4a1e-b5f5-71349930ebee"
      },
      "outputs": [
        {
          "name": "stdout",
          "output_type": "stream",
          "text": [
            "Jumlah duplikasi data:  0\n"
          ]
        }
      ],
      "source": [
        "print(\"Jumlah duplikasi data: \", items_df.duplicated().sum())"
      ]
    },
    {
      "cell_type": "markdown",
      "metadata": {
        "id": "Zl_aHHna6sru"
      },
      "source": [
        "Insight:\n",
        "- Tidak ada duplikasi data"
      ]
    },
    {
      "cell_type": "markdown",
      "metadata": {
        "id": "nBcrkiL33ttK"
      },
      "source": [
        "### Menilai data payments_df"
      ]
    },
    {
      "cell_type": "markdown",
      "metadata": {
        "id": "jEgWg4SL6031"
      },
      "source": [
        "Cek informasi tiap kolom"
      ]
    },
    {
      "cell_type": "code",
      "execution_count": 22,
      "metadata": {
        "colab": {
          "base_uri": "https://localhost:8080/"
        },
        "id": "wmTzKC1z63Q-",
        "outputId": "8c27ab72-a144-49d1-cb8e-2b49b7baea2b"
      },
      "outputs": [
        {
          "name": "stdout",
          "output_type": "stream",
          "text": [
            "<class 'pandas.core.frame.DataFrame'>\n",
            "RangeIndex: 103886 entries, 0 to 103885\n",
            "Data columns (total 5 columns):\n",
            " #   Column                Non-Null Count   Dtype  \n",
            "---  ------                --------------   -----  \n",
            " 0   order_id              103886 non-null  object \n",
            " 1   payment_sequential    103886 non-null  int64  \n",
            " 2   payment_type          103886 non-null  object \n",
            " 3   payment_installments  103886 non-null  int64  \n",
            " 4   payment_value         103886 non-null  float64\n",
            "dtypes: float64(1), int64(2), object(2)\n",
            "memory usage: 4.0+ MB\n"
          ]
        }
      ],
      "source": [
        "payments_df.info()"
      ]
    },
    {
      "cell_type": "markdown",
      "metadata": {
        "id": "AXwkWqcx7T9s"
      },
      "source": [
        "Insight:\n",
        "- Data menunjukkan tidak ada data yang memiliki jumlah baris yang berbeda\n",
        "- Tipe data untuk setiap kolom tidak ada masalah"
      ]
    },
    {
      "cell_type": "markdown",
      "metadata": {
        "id": "ohL-quAJ7cgO"
      },
      "source": [
        "Cek duplikasi data"
      ]
    },
    {
      "cell_type": "code",
      "execution_count": 23,
      "metadata": {
        "colab": {
          "base_uri": "https://localhost:8080/"
        },
        "id": "AAhbJYwU7egP",
        "outputId": "7c8b1834-cf4d-4b28-8105-9f609e41d22f"
      },
      "outputs": [
        {
          "name": "stdout",
          "output_type": "stream",
          "text": [
            "Jumlah duplikasi data:  0\n"
          ]
        }
      ],
      "source": [
        "print(\"Jumlah duplikasi data: \", payments_df.duplicated().sum())"
      ]
    },
    {
      "cell_type": "markdown",
      "metadata": {
        "id": "-XkLvCOv7g9m"
      },
      "source": [
        "Insight:\n",
        "- Tidak ada duplikasi data"
      ]
    },
    {
      "cell_type": "markdown",
      "metadata": {
        "id": "bGERFAln7zJk"
      },
      "source": [
        "Cek parameter statistik"
      ]
    },
    {
      "cell_type": "code",
      "execution_count": 24,
      "metadata": {
        "colab": {
          "base_uri": "https://localhost:8080/",
          "height": 300
        },
        "id": "Zil8iPRr72QG",
        "outputId": "97095fe3-53ad-4c34-9c26-b51fef82d2f6"
      },
      "outputs": [
        {
          "data": {
            "text/html": [
              "<div>\n",
              "<style scoped>\n",
              "    .dataframe tbody tr th:only-of-type {\n",
              "        vertical-align: middle;\n",
              "    }\n",
              "\n",
              "    .dataframe tbody tr th {\n",
              "        vertical-align: top;\n",
              "    }\n",
              "\n",
              "    .dataframe thead th {\n",
              "        text-align: right;\n",
              "    }\n",
              "</style>\n",
              "<table border=\"1\" class=\"dataframe\">\n",
              "  <thead>\n",
              "    <tr style=\"text-align: right;\">\n",
              "      <th></th>\n",
              "      <th>payment_sequential</th>\n",
              "      <th>payment_installments</th>\n",
              "      <th>payment_value</th>\n",
              "    </tr>\n",
              "  </thead>\n",
              "  <tbody>\n",
              "    <tr>\n",
              "      <th>count</th>\n",
              "      <td>103886.000000</td>\n",
              "      <td>103886.000000</td>\n",
              "      <td>103886.000000</td>\n",
              "    </tr>\n",
              "    <tr>\n",
              "      <th>mean</th>\n",
              "      <td>1.092679</td>\n",
              "      <td>2.853349</td>\n",
              "      <td>154.100380</td>\n",
              "    </tr>\n",
              "    <tr>\n",
              "      <th>std</th>\n",
              "      <td>0.706584</td>\n",
              "      <td>2.687051</td>\n",
              "      <td>217.494064</td>\n",
              "    </tr>\n",
              "    <tr>\n",
              "      <th>min</th>\n",
              "      <td>1.000000</td>\n",
              "      <td>0.000000</td>\n",
              "      <td>0.000000</td>\n",
              "    </tr>\n",
              "    <tr>\n",
              "      <th>25%</th>\n",
              "      <td>1.000000</td>\n",
              "      <td>1.000000</td>\n",
              "      <td>56.790000</td>\n",
              "    </tr>\n",
              "    <tr>\n",
              "      <th>50%</th>\n",
              "      <td>1.000000</td>\n",
              "      <td>1.000000</td>\n",
              "      <td>100.000000</td>\n",
              "    </tr>\n",
              "    <tr>\n",
              "      <th>75%</th>\n",
              "      <td>1.000000</td>\n",
              "      <td>4.000000</td>\n",
              "      <td>171.837500</td>\n",
              "    </tr>\n",
              "    <tr>\n",
              "      <th>max</th>\n",
              "      <td>29.000000</td>\n",
              "      <td>24.000000</td>\n",
              "      <td>13664.080000</td>\n",
              "    </tr>\n",
              "  </tbody>\n",
              "</table>\n",
              "</div>"
            ],
            "text/plain": [
              "       payment_sequential  payment_installments  payment_value\n",
              "count       103886.000000         103886.000000  103886.000000\n",
              "mean             1.092679              2.853349     154.100380\n",
              "std              0.706584              2.687051     217.494064\n",
              "min              1.000000              0.000000       0.000000\n",
              "25%              1.000000              1.000000      56.790000\n",
              "50%              1.000000              1.000000     100.000000\n",
              "75%              1.000000              4.000000     171.837500\n",
              "max             29.000000             24.000000   13664.080000"
            ]
          },
          "execution_count": 24,
          "metadata": {},
          "output_type": "execute_result"
        }
      ],
      "source": [
        "payments_df.describe()"
      ]
    },
    {
      "cell_type": "markdown",
      "metadata": {
        "id": "EV440zPq8wPT"
      },
      "source": [
        "Insight:\n",
        "- Tidak ada data yang tidak wajar pada setiap kolom di payments_df"
      ]
    },
    {
      "cell_type": "markdown",
      "metadata": {
        "id": "fQhKi4FR3w-J"
      },
      "source": [
        "### Menilai data reviews_df"
      ]
    },
    {
      "cell_type": "markdown",
      "metadata": {
        "id": "M_xqqtms80i9"
      },
      "source": [
        "Cek informasi tiap kolom"
      ]
    },
    {
      "cell_type": "code",
      "execution_count": 25,
      "metadata": {
        "colab": {
          "base_uri": "https://localhost:8080/"
        },
        "id": "X-zc7Mli82N0",
        "outputId": "c1c5989e-8591-44b9-e41c-9b7ee619d3ee"
      },
      "outputs": [
        {
          "name": "stdout",
          "output_type": "stream",
          "text": [
            "<class 'pandas.core.frame.DataFrame'>\n",
            "RangeIndex: 99224 entries, 0 to 99223\n",
            "Data columns (total 7 columns):\n",
            " #   Column                   Non-Null Count  Dtype \n",
            "---  ------                   --------------  ----- \n",
            " 0   review_id                99224 non-null  object\n",
            " 1   order_id                 99224 non-null  object\n",
            " 2   review_score             99224 non-null  int64 \n",
            " 3   review_comment_title     11568 non-null  object\n",
            " 4   review_comment_message   40977 non-null  object\n",
            " 5   review_creation_date     99224 non-null  object\n",
            " 6   review_answer_timestamp  99224 non-null  object\n",
            "dtypes: int64(1), object(6)\n",
            "memory usage: 5.3+ MB\n"
          ]
        }
      ],
      "source": [
        "reviews_df.info()"
      ]
    },
    {
      "cell_type": "markdown",
      "metadata": {
        "id": "9DRK_dy69B88"
      },
      "source": [
        "Insight:\n",
        "- Terdapat missing values pada kolom review_comment_title dan review_comment_message\n",
        "- Terdapat kesalahan tipe data pada kolom review_creation_date dan review_answer_timestamp"
      ]
    },
    {
      "cell_type": "markdown",
      "metadata": {
        "id": "puFgMpP19UA0"
      },
      "source": [
        "Cek missing values"
      ]
    },
    {
      "cell_type": "code",
      "execution_count": 26,
      "metadata": {
        "colab": {
          "base_uri": "https://localhost:8080/",
          "height": 303
        },
        "id": "lqIZ01BZ9Yry",
        "outputId": "0023e1f5-814b-40a2-c1f5-349084f39ff1"
      },
      "outputs": [
        {
          "data": {
            "text/plain": [
              "review_id                      0\n",
              "order_id                       0\n",
              "review_score                   0\n",
              "review_comment_title       87656\n",
              "review_comment_message     58247\n",
              "review_creation_date           0\n",
              "review_answer_timestamp        0\n",
              "dtype: int64"
            ]
          },
          "execution_count": 26,
          "metadata": {},
          "output_type": "execute_result"
        }
      ],
      "source": [
        "reviews_df.isna().sum()"
      ]
    },
    {
      "cell_type": "markdown",
      "metadata": {
        "id": "CczzPs0B9hE6"
      },
      "source": [
        "Insight:\n",
        "- Terdapat 87656 missing values pada kolom review_comment_title\n",
        "- Terdapat 58247 missing values pada kolom review_comment_message"
      ]
    },
    {
      "cell_type": "markdown",
      "metadata": {
        "id": "6cSELm5XAMPi"
      },
      "source": [
        "Cek duplikasi data"
      ]
    },
    {
      "cell_type": "code",
      "execution_count": 27,
      "metadata": {
        "colab": {
          "base_uri": "https://localhost:8080/"
        },
        "id": "QSj-2mjYANxP",
        "outputId": "9cc36830-4bf2-4985-890c-b47f0c5f06a2"
      },
      "outputs": [
        {
          "name": "stdout",
          "output_type": "stream",
          "text": [
            "Jumlah duplikasi data:  0\n"
          ]
        }
      ],
      "source": [
        "print(\"Jumlah duplikasi data: \", reviews_df.duplicated().sum())"
      ]
    },
    {
      "cell_type": "markdown",
      "metadata": {
        "id": "C6hLqFoUAQwA"
      },
      "source": [
        "Insight:\n",
        "- Tidak ada duplikasi data"
      ]
    },
    {
      "cell_type": "markdown",
      "metadata": {
        "id": "wcUO7qFMAVR7"
      },
      "source": [
        "Cek parameter statistik"
      ]
    },
    {
      "cell_type": "code",
      "execution_count": 28,
      "metadata": {
        "colab": {
          "base_uri": "https://localhost:8080/",
          "height": 300
        },
        "id": "5nX1F3ENAWyY",
        "outputId": "4535d901-248c-4768-a914-d204821f5492"
      },
      "outputs": [
        {
          "data": {
            "text/html": [
              "<div>\n",
              "<style scoped>\n",
              "    .dataframe tbody tr th:only-of-type {\n",
              "        vertical-align: middle;\n",
              "    }\n",
              "\n",
              "    .dataframe tbody tr th {\n",
              "        vertical-align: top;\n",
              "    }\n",
              "\n",
              "    .dataframe thead th {\n",
              "        text-align: right;\n",
              "    }\n",
              "</style>\n",
              "<table border=\"1\" class=\"dataframe\">\n",
              "  <thead>\n",
              "    <tr style=\"text-align: right;\">\n",
              "      <th></th>\n",
              "      <th>review_score</th>\n",
              "    </tr>\n",
              "  </thead>\n",
              "  <tbody>\n",
              "    <tr>\n",
              "      <th>count</th>\n",
              "      <td>99224.000000</td>\n",
              "    </tr>\n",
              "    <tr>\n",
              "      <th>mean</th>\n",
              "      <td>4.086421</td>\n",
              "    </tr>\n",
              "    <tr>\n",
              "      <th>std</th>\n",
              "      <td>1.347579</td>\n",
              "    </tr>\n",
              "    <tr>\n",
              "      <th>min</th>\n",
              "      <td>1.000000</td>\n",
              "    </tr>\n",
              "    <tr>\n",
              "      <th>25%</th>\n",
              "      <td>4.000000</td>\n",
              "    </tr>\n",
              "    <tr>\n",
              "      <th>50%</th>\n",
              "      <td>5.000000</td>\n",
              "    </tr>\n",
              "    <tr>\n",
              "      <th>75%</th>\n",
              "      <td>5.000000</td>\n",
              "    </tr>\n",
              "    <tr>\n",
              "      <th>max</th>\n",
              "      <td>5.000000</td>\n",
              "    </tr>\n",
              "  </tbody>\n",
              "</table>\n",
              "</div>"
            ],
            "text/plain": [
              "       review_score\n",
              "count  99224.000000\n",
              "mean       4.086421\n",
              "std        1.347579\n",
              "min        1.000000\n",
              "25%        4.000000\n",
              "50%        5.000000\n",
              "75%        5.000000\n",
              "max        5.000000"
            ]
          },
          "execution_count": 28,
          "metadata": {},
          "output_type": "execute_result"
        }
      ],
      "source": [
        "reviews_df.describe()"
      ]
    },
    {
      "cell_type": "markdown",
      "metadata": {
        "id": "R8CvHvbnAbbO"
      },
      "source": [
        "Insight:\n",
        "- Tidak ada data yang tidak wajar pada setiap kolom di reviews_df"
      ]
    },
    {
      "cell_type": "markdown",
      "metadata": {
        "id": "cRM0ob7N3zyI"
      },
      "source": [
        "### Menilai data products_df"
      ]
    },
    {
      "cell_type": "markdown",
      "metadata": {
        "id": "WXd13SI0AkJA"
      },
      "source": [
        "Cek informasi tiap kolom"
      ]
    },
    {
      "cell_type": "code",
      "execution_count": 29,
      "metadata": {
        "colab": {
          "base_uri": "https://localhost:8080/"
        },
        "id": "XlWZdT6_AmhM",
        "outputId": "4bb4d8fd-a749-421f-9f67-d5e63cef9883"
      },
      "outputs": [
        {
          "name": "stdout",
          "output_type": "stream",
          "text": [
            "<class 'pandas.core.frame.DataFrame'>\n",
            "RangeIndex: 32951 entries, 0 to 32950\n",
            "Data columns (total 9 columns):\n",
            " #   Column                      Non-Null Count  Dtype  \n",
            "---  ------                      --------------  -----  \n",
            " 0   product_id                  32951 non-null  object \n",
            " 1   product_category_name       32341 non-null  object \n",
            " 2   product_name_lenght         32341 non-null  float64\n",
            " 3   product_description_lenght  32341 non-null  float64\n",
            " 4   product_photos_qty          32341 non-null  float64\n",
            " 5   product_weight_g            32949 non-null  float64\n",
            " 6   product_length_cm           32949 non-null  float64\n",
            " 7   product_height_cm           32949 non-null  float64\n",
            " 8   product_width_cm            32949 non-null  float64\n",
            "dtypes: float64(7), object(2)\n",
            "memory usage: 2.3+ MB\n"
          ]
        }
      ],
      "source": [
        "products_df.info()"
      ]
    },
    {
      "cell_type": "markdown",
      "metadata": {
        "id": "Q2CPpxrUBOVB"
      },
      "source": [
        "Insight:\n",
        "- Terdapat missing values pada kolom product_category_name sampai product_width_cm"
      ]
    },
    {
      "cell_type": "markdown",
      "metadata": {
        "id": "dJgjFbDxBbIG"
      },
      "source": [
        "Cek missing values"
      ]
    },
    {
      "cell_type": "code",
      "execution_count": 30,
      "metadata": {
        "colab": {
          "base_uri": "https://localhost:8080/",
          "height": 366
        },
        "id": "l_Sun7ruBcqw",
        "outputId": "f4218d00-0470-42b2-9a5e-ecec824218da"
      },
      "outputs": [
        {
          "data": {
            "text/plain": [
              "product_id                      0\n",
              "product_category_name         610\n",
              "product_name_lenght           610\n",
              "product_description_lenght    610\n",
              "product_photos_qty            610\n",
              "product_weight_g                2\n",
              "product_length_cm               2\n",
              "product_height_cm               2\n",
              "product_width_cm                2\n",
              "dtype: int64"
            ]
          },
          "execution_count": 30,
          "metadata": {},
          "output_type": "execute_result"
        }
      ],
      "source": [
        "products_df.isna().sum()"
      ]
    },
    {
      "cell_type": "markdown",
      "metadata": {
        "id": "J-9DsmmGBkKY"
      },
      "source": [
        "Insight:\n",
        "- Terdapat 610 missing values pada kolom product_category_name sampai product_photos_qty\n",
        "- Terdapat 2 missing values pada kolomm product_weight_g sampai product_width_cm"
      ]
    },
    {
      "cell_type": "markdown",
      "metadata": {
        "id": "jkZ1RTdrB1Tg"
      },
      "source": [
        "Cek duplikasi data"
      ]
    },
    {
      "cell_type": "code",
      "execution_count": 31,
      "metadata": {
        "colab": {
          "base_uri": "https://localhost:8080/"
        },
        "id": "IOYhbV1QB3iR",
        "outputId": "1aa78a8c-c728-44a8-8800-15531990e51b"
      },
      "outputs": [
        {
          "name": "stdout",
          "output_type": "stream",
          "text": [
            "Jumlah duplikasi data:  0\n"
          ]
        }
      ],
      "source": [
        "print(\"Jumlah duplikasi data: \", products_df.duplicated().sum())"
      ]
    },
    {
      "cell_type": "markdown",
      "metadata": {
        "id": "lClufQYzB5FW"
      },
      "source": [
        "Insight:\n",
        "- Tidak ada duplikasi data"
      ]
    },
    {
      "cell_type": "markdown",
      "metadata": {
        "id": "G2bJ5l2AB8vG"
      },
      "source": [
        "Cek parameter statistik"
      ]
    },
    {
      "cell_type": "code",
      "execution_count": 32,
      "metadata": {
        "colab": {
          "base_uri": "https://localhost:8080/",
          "height": 300
        },
        "id": "4w1hSADgB_Il",
        "outputId": "8dab0578-d360-4d16-bb6e-dc241a59dcf8"
      },
      "outputs": [
        {
          "data": {
            "text/html": [
              "<div>\n",
              "<style scoped>\n",
              "    .dataframe tbody tr th:only-of-type {\n",
              "        vertical-align: middle;\n",
              "    }\n",
              "\n",
              "    .dataframe tbody tr th {\n",
              "        vertical-align: top;\n",
              "    }\n",
              "\n",
              "    .dataframe thead th {\n",
              "        text-align: right;\n",
              "    }\n",
              "</style>\n",
              "<table border=\"1\" class=\"dataframe\">\n",
              "  <thead>\n",
              "    <tr style=\"text-align: right;\">\n",
              "      <th></th>\n",
              "      <th>product_name_lenght</th>\n",
              "      <th>product_description_lenght</th>\n",
              "      <th>product_photos_qty</th>\n",
              "      <th>product_weight_g</th>\n",
              "      <th>product_length_cm</th>\n",
              "      <th>product_height_cm</th>\n",
              "      <th>product_width_cm</th>\n",
              "    </tr>\n",
              "  </thead>\n",
              "  <tbody>\n",
              "    <tr>\n",
              "      <th>count</th>\n",
              "      <td>32341.000000</td>\n",
              "      <td>32341.000000</td>\n",
              "      <td>32341.000000</td>\n",
              "      <td>32949.000000</td>\n",
              "      <td>32949.000000</td>\n",
              "      <td>32949.000000</td>\n",
              "      <td>32949.000000</td>\n",
              "    </tr>\n",
              "    <tr>\n",
              "      <th>mean</th>\n",
              "      <td>48.476949</td>\n",
              "      <td>771.495285</td>\n",
              "      <td>2.188986</td>\n",
              "      <td>2276.472488</td>\n",
              "      <td>30.815078</td>\n",
              "      <td>16.937661</td>\n",
              "      <td>23.196728</td>\n",
              "    </tr>\n",
              "    <tr>\n",
              "      <th>std</th>\n",
              "      <td>10.245741</td>\n",
              "      <td>635.115225</td>\n",
              "      <td>1.736766</td>\n",
              "      <td>4282.038731</td>\n",
              "      <td>16.914458</td>\n",
              "      <td>13.637554</td>\n",
              "      <td>12.079047</td>\n",
              "    </tr>\n",
              "    <tr>\n",
              "      <th>min</th>\n",
              "      <td>5.000000</td>\n",
              "      <td>4.000000</td>\n",
              "      <td>1.000000</td>\n",
              "      <td>0.000000</td>\n",
              "      <td>7.000000</td>\n",
              "      <td>2.000000</td>\n",
              "      <td>6.000000</td>\n",
              "    </tr>\n",
              "    <tr>\n",
              "      <th>25%</th>\n",
              "      <td>42.000000</td>\n",
              "      <td>339.000000</td>\n",
              "      <td>1.000000</td>\n",
              "      <td>300.000000</td>\n",
              "      <td>18.000000</td>\n",
              "      <td>8.000000</td>\n",
              "      <td>15.000000</td>\n",
              "    </tr>\n",
              "    <tr>\n",
              "      <th>50%</th>\n",
              "      <td>51.000000</td>\n",
              "      <td>595.000000</td>\n",
              "      <td>1.000000</td>\n",
              "      <td>700.000000</td>\n",
              "      <td>25.000000</td>\n",
              "      <td>13.000000</td>\n",
              "      <td>20.000000</td>\n",
              "    </tr>\n",
              "    <tr>\n",
              "      <th>75%</th>\n",
              "      <td>57.000000</td>\n",
              "      <td>972.000000</td>\n",
              "      <td>3.000000</td>\n",
              "      <td>1900.000000</td>\n",
              "      <td>38.000000</td>\n",
              "      <td>21.000000</td>\n",
              "      <td>30.000000</td>\n",
              "    </tr>\n",
              "    <tr>\n",
              "      <th>max</th>\n",
              "      <td>76.000000</td>\n",
              "      <td>3992.000000</td>\n",
              "      <td>20.000000</td>\n",
              "      <td>40425.000000</td>\n",
              "      <td>105.000000</td>\n",
              "      <td>105.000000</td>\n",
              "      <td>118.000000</td>\n",
              "    </tr>\n",
              "  </tbody>\n",
              "</table>\n",
              "</div>"
            ],
            "text/plain": [
              "       product_name_lenght  product_description_lenght  product_photos_qty  \\\n",
              "count         32341.000000                32341.000000        32341.000000   \n",
              "mean             48.476949                  771.495285            2.188986   \n",
              "std              10.245741                  635.115225            1.736766   \n",
              "min               5.000000                    4.000000            1.000000   \n",
              "25%              42.000000                  339.000000            1.000000   \n",
              "50%              51.000000                  595.000000            1.000000   \n",
              "75%              57.000000                  972.000000            3.000000   \n",
              "max              76.000000                 3992.000000           20.000000   \n",
              "\n",
              "       product_weight_g  product_length_cm  product_height_cm  \\\n",
              "count      32949.000000       32949.000000       32949.000000   \n",
              "mean        2276.472488          30.815078          16.937661   \n",
              "std         4282.038731          16.914458          13.637554   \n",
              "min            0.000000           7.000000           2.000000   \n",
              "25%          300.000000          18.000000           8.000000   \n",
              "50%          700.000000          25.000000          13.000000   \n",
              "75%         1900.000000          38.000000          21.000000   \n",
              "max        40425.000000         105.000000         105.000000   \n",
              "\n",
              "       product_width_cm  \n",
              "count      32949.000000  \n",
              "mean          23.196728  \n",
              "std           12.079047  \n",
              "min            6.000000  \n",
              "25%           15.000000  \n",
              "50%           20.000000  \n",
              "75%           30.000000  \n",
              "max          118.000000  "
            ]
          },
          "execution_count": 32,
          "metadata": {},
          "output_type": "execute_result"
        }
      ],
      "source": [
        "products_df.describe()"
      ]
    },
    {
      "cell_type": "markdown",
      "metadata": {
        "id": "l8V_1EESCZil"
      },
      "source": [
        "Insight:\n",
        "- Tidak ada data yang tidak wajar pada setiap kolom di products_df"
      ]
    },
    {
      "cell_type": "markdown",
      "metadata": {
        "id": "oKxwERGX37mh"
      },
      "source": [
        "### Menilai data sellers_df"
      ]
    },
    {
      "cell_type": "markdown",
      "metadata": {
        "id": "vmRdvVD3Apun"
      },
      "source": [
        "Cek informasi tiap kolom"
      ]
    },
    {
      "cell_type": "code",
      "execution_count": 33,
      "metadata": {
        "colab": {
          "base_uri": "https://localhost:8080/"
        },
        "id": "PUK8iR-mAohQ",
        "outputId": "becd013a-2cab-4c51-f283-be548f85f736"
      },
      "outputs": [
        {
          "name": "stdout",
          "output_type": "stream",
          "text": [
            "<class 'pandas.core.frame.DataFrame'>\n",
            "RangeIndex: 3095 entries, 0 to 3094\n",
            "Data columns (total 4 columns):\n",
            " #   Column                  Non-Null Count  Dtype \n",
            "---  ------                  --------------  ----- \n",
            " 0   seller_id               3095 non-null   object\n",
            " 1   seller_zip_code_prefix  3095 non-null   int64 \n",
            " 2   seller_city             3095 non-null   object\n",
            " 3   seller_state            3095 non-null   object\n",
            "dtypes: int64(1), object(3)\n",
            "memory usage: 96.8+ KB\n"
          ]
        }
      ],
      "source": [
        "sellers_df.info()"
      ]
    },
    {
      "cell_type": "markdown",
      "metadata": {
        "id": "qkTgldMtChg1"
      },
      "source": [
        "Insight:\n",
        "- Data menunjukkan tidak ada data yang memiliki jumlah baris yang berbeda\n",
        "- Tipe data untuk setiap kolom tidak ada masalah"
      ]
    },
    {
      "cell_type": "markdown",
      "metadata": {
        "id": "XCyWAvMzCwBG"
      },
      "source": [
        "Cek duplikasi data"
      ]
    },
    {
      "cell_type": "code",
      "execution_count": 34,
      "metadata": {
        "colab": {
          "base_uri": "https://localhost:8080/"
        },
        "id": "1h28zrHrCxqs",
        "outputId": "e35a39a6-55f9-47a4-8c8d-bcf6fd85a4fc"
      },
      "outputs": [
        {
          "name": "stdout",
          "output_type": "stream",
          "text": [
            "Jumlah duplikasi data:  0\n"
          ]
        }
      ],
      "source": [
        "print(\"Jumlah duplikasi data: \", sellers_df.duplicated().sum())"
      ]
    },
    {
      "cell_type": "markdown",
      "metadata": {
        "id": "sALuT7neCzds"
      },
      "source": [
        "Insight:\n",
        "- Tidak ada duplikasi data"
      ]
    },
    {
      "cell_type": "markdown",
      "metadata": {
        "id": "IZSg2cYh3-k5"
      },
      "source": [
        "### Menilai data product_category_df"
      ]
    },
    {
      "cell_type": "markdown",
      "metadata": {
        "id": "RzIM-1NcAtKB"
      },
      "source": [
        "Cek informasi tiap kolom"
      ]
    },
    {
      "cell_type": "code",
      "execution_count": 35,
      "metadata": {
        "colab": {
          "base_uri": "https://localhost:8080/"
        },
        "id": "jmKPYglOAuno",
        "outputId": "50856a99-b724-48c9-895e-e477879b36c2"
      },
      "outputs": [
        {
          "name": "stdout",
          "output_type": "stream",
          "text": [
            "<class 'pandas.core.frame.DataFrame'>\n",
            "RangeIndex: 71 entries, 0 to 70\n",
            "Data columns (total 2 columns):\n",
            " #   Column                         Non-Null Count  Dtype \n",
            "---  ------                         --------------  ----- \n",
            " 0   product_category_name          71 non-null     object\n",
            " 1   product_category_name_english  71 non-null     object\n",
            "dtypes: object(2)\n",
            "memory usage: 1.2+ KB\n"
          ]
        }
      ],
      "source": [
        "product_category_df.info()"
      ]
    },
    {
      "cell_type": "markdown",
      "metadata": {
        "id": "_JNO2x-dC7Rt"
      },
      "source": [
        "Insight:\n",
        "- Data menunjukkan tidak ada data yang memiliki jumlah baris yang berbeda\n",
        "- Tipe data untuk setiap kolom tidak ada masalah"
      ]
    },
    {
      "cell_type": "markdown",
      "metadata": {
        "id": "dX29mx1UC9uG"
      },
      "source": [
        "Cek duplikasi data"
      ]
    },
    {
      "cell_type": "code",
      "execution_count": 36,
      "metadata": {
        "colab": {
          "base_uri": "https://localhost:8080/"
        },
        "id": "hxmg7Kp5C_Eu",
        "outputId": "6ef7e67f-83cf-47ed-bb92-64cbc30d64d7"
      },
      "outputs": [
        {
          "name": "stdout",
          "output_type": "stream",
          "text": [
            "Jumlah duplikasi data:  0\n"
          ]
        }
      ],
      "source": [
        "print(\"Jumlah duplikasi data: \", product_category_df.duplicated().sum())"
      ]
    },
    {
      "cell_type": "markdown",
      "metadata": {
        "id": "DQcz5dq8DA28"
      },
      "source": [
        "Insight:\n",
        "- Tidak ada duplikasi data"
      ]
    },
    {
      "cell_type": "markdown",
      "metadata": {
        "id": "FUJB_M5KD2Z1"
      },
      "source": [
        "## Assessing Data Conclusion\n"
      ]
    },
    {
      "cell_type": "markdown",
      "metadata": {
        "id": "cOw4dAbUE-hC"
      },
      "source": [
        "1. geolocation_df:\n",
        "- Ada 261831 data yang terduplikasi"
      ]
    },
    {
      "cell_type": "markdown",
      "metadata": {
        "id": "TsFPXU_8FCcL"
      },
      "source": [
        "2. orders_df:\n",
        "- Terdapat kesalahan tipe data pada kolom order_purchase_timestamp sampai order_estimated_delivery_date\n",
        "- Terdapat 160 missing values pada kolom order_approved_at\n",
        "- Terdapat 1783 missing values pada kolom order_delivered_carrier_date\n",
        "- Terdapat 2965 missing values pada kolom order_delivered_customer_date"
      ]
    },
    {
      "cell_type": "markdown",
      "metadata": {
        "id": "9-I9KaJJFE6q"
      },
      "source": [
        "3. items_df:\n",
        "- Terdapat kesalahan tipe data pada kolom shipping_limit_date\n"
      ]
    },
    {
      "cell_type": "markdown",
      "metadata": {
        "id": "o9zTmrhXFG16"
      },
      "source": [
        "4. reviews_df:\n",
        "- Terdapat kesalahan tipe data pada kolom review_creation_date dan review_answer_timestamp\n",
        "- Terdapat 87656 missing values pada kolom review_comment_title\n",
        "- Terdapat 58247 missing values pada kolom review_comment_message\n"
      ]
    },
    {
      "cell_type": "markdown",
      "metadata": {
        "id": "Nk8S0MyEFIcT"
      },
      "source": [
        "5. products_df:\n",
        "- Terdapat 610 missing values pada kolom product_category_name sampai product_photos_qty\n",
        "- Terdapat 2 missing values pada kolom product_weight_g sampai product_width_cm"
      ]
    },
    {
      "cell_type": "markdown",
      "metadata": {
        "id": "BpQrBOwHvZsT"
      },
      "source": [
        "# Cleaning Data"
      ]
    },
    {
      "cell_type": "markdown",
      "metadata": {
        "id": "lejDxRvwFgY0"
      },
      "source": [
        "### Membersihkan data geolocation_df"
      ]
    },
    {
      "cell_type": "markdown",
      "metadata": {
        "id": "luSuBhvtHN5n"
      },
      "source": [
        "Menghilangkan data duplikat"
      ]
    },
    {
      "cell_type": "code",
      "execution_count": 37,
      "metadata": {
        "colab": {
          "base_uri": "https://localhost:8080/"
        },
        "id": "5cZ81K9kvbKf",
        "outputId": "3f9d37c2-e46d-40cb-a492-809dcd1d4801"
      },
      "outputs": [
        {
          "name": "stdout",
          "output_type": "stream",
          "text": [
            "Jumlah duplikasi data:  0\n"
          ]
        }
      ],
      "source": [
        "geolocation_df.drop_duplicates(inplace=True)\n",
        "print(\"Jumlah duplikasi data: \", geolocation_df.duplicated().sum())"
      ]
    },
    {
      "cell_type": "markdown",
      "metadata": {
        "id": "XCBdRf21HdWv"
      },
      "source": [
        "Insight:\n",
        "- Data duplikat pada geolocation_df telah dihapus"
      ]
    },
    {
      "cell_type": "markdown",
      "metadata": {
        "id": "IGt6D3M3HlbW"
      },
      "source": [
        "### Membersihkan data orders_df"
      ]
    },
    {
      "cell_type": "markdown",
      "metadata": {
        "id": "TpDurqc3Hptw"
      },
      "source": [
        "1. Mengganti tipe data order_purchase_timestamp sampai order_estimated_delivery_date menjadi datetime"
      ]
    },
    {
      "cell_type": "code",
      "execution_count": 38,
      "metadata": {
        "id": "IgpO-VbiHnj7"
      },
      "outputs": [],
      "source": [
        "datetime_columns = [\"order_purchase_timestamp\", \"order_approved_at\", \"order_delivered_carrier_date\", \"order_delivered_customer_date\", \"order_estimated_delivery_date\"]\n",
        "\n",
        "for column in datetime_columns:\n",
        "  orders_df[column] = pd.to_datetime(orders_df[column])"
      ]
    },
    {
      "cell_type": "markdown",
      "metadata": {
        "id": "5-E9j0PyI-G_"
      },
      "source": [
        "Cek informasi data"
      ]
    },
    {
      "cell_type": "code",
      "execution_count": 39,
      "metadata": {
        "colab": {
          "base_uri": "https://localhost:8080/"
        },
        "id": "-UAhwtxXI9Qb",
        "outputId": "94250ada-faa7-47f6-ae98-71ec1205ac9a"
      },
      "outputs": [
        {
          "name": "stdout",
          "output_type": "stream",
          "text": [
            "<class 'pandas.core.frame.DataFrame'>\n",
            "RangeIndex: 99441 entries, 0 to 99440\n",
            "Data columns (total 8 columns):\n",
            " #   Column                         Non-Null Count  Dtype         \n",
            "---  ------                         --------------  -----         \n",
            " 0   order_id                       99441 non-null  object        \n",
            " 1   customer_id                    99441 non-null  object        \n",
            " 2   order_status                   99441 non-null  object        \n",
            " 3   order_purchase_timestamp       99441 non-null  datetime64[ns]\n",
            " 4   order_approved_at              99281 non-null  datetime64[ns]\n",
            " 5   order_delivered_carrier_date   97658 non-null  datetime64[ns]\n",
            " 6   order_delivered_customer_date  96476 non-null  datetime64[ns]\n",
            " 7   order_estimated_delivery_date  99441 non-null  datetime64[ns]\n",
            "dtypes: datetime64[ns](5), object(3)\n",
            "memory usage: 6.1+ MB\n"
          ]
        }
      ],
      "source": [
        "orders_df.info()"
      ]
    },
    {
      "cell_type": "markdown",
      "metadata": {
        "id": "qae4b0ErJJUP"
      },
      "source": [
        "Insight:\n",
        "- Tipe data pada kolom order_purchase_timestamp sampai order_estimated_delivery_date telah diganti menjadi datetime"
      ]
    },
    {
      "cell_type": "markdown",
      "metadata": {
        "id": "2NFHPkqTJcv9"
      },
      "source": [
        "2. Mengatasi missing values pada order_approved_at sampai order_delivered_customer_date"
      ]
    },
    {
      "cell_type": "markdown",
      "metadata": {
        "id": "HZUBgTvFJp-9"
      },
      "source": [
        "- Cek data yang mengandung missing value dengan filter order_delivered_customer_date"
      ]
    },
    {
      "cell_type": "code",
      "execution_count": 40,
      "metadata": {
        "colab": {
          "base_uri": "https://localhost:8080/",
          "height": 443
        },
        "id": "xcoeLZXDJBUk",
        "outputId": "5b168a60-8142-4247-cba3-aae5d47bdb68"
      },
      "outputs": [
        {
          "data": {
            "text/html": [
              "<div>\n",
              "<style scoped>\n",
              "    .dataframe tbody tr th:only-of-type {\n",
              "        vertical-align: middle;\n",
              "    }\n",
              "\n",
              "    .dataframe tbody tr th {\n",
              "        vertical-align: top;\n",
              "    }\n",
              "\n",
              "    .dataframe thead th {\n",
              "        text-align: right;\n",
              "    }\n",
              "</style>\n",
              "<table border=\"1\" class=\"dataframe\">\n",
              "  <thead>\n",
              "    <tr style=\"text-align: right;\">\n",
              "      <th></th>\n",
              "      <th>order_id</th>\n",
              "      <th>customer_id</th>\n",
              "      <th>order_status</th>\n",
              "      <th>order_purchase_timestamp</th>\n",
              "      <th>order_approved_at</th>\n",
              "      <th>order_delivered_carrier_date</th>\n",
              "      <th>order_delivered_customer_date</th>\n",
              "      <th>order_estimated_delivery_date</th>\n",
              "    </tr>\n",
              "  </thead>\n",
              "  <tbody>\n",
              "    <tr>\n",
              "      <th>6</th>\n",
              "      <td>136cce7faa42fdb2cefd53fdc79a6098</td>\n",
              "      <td>ed0271e0b7da060a393796590e7b737a</td>\n",
              "      <td>invoiced</td>\n",
              "      <td>2017-04-11 12:22:08</td>\n",
              "      <td>2017-04-13 13:25:17</td>\n",
              "      <td>NaT</td>\n",
              "      <td>NaT</td>\n",
              "      <td>2017-05-09</td>\n",
              "    </tr>\n",
              "    <tr>\n",
              "      <th>44</th>\n",
              "      <td>ee64d42b8cf066f35eac1cf57de1aa85</td>\n",
              "      <td>caded193e8e47b8362864762a83db3c5</td>\n",
              "      <td>shipped</td>\n",
              "      <td>2018-06-04 16:44:48</td>\n",
              "      <td>2018-06-05 04:31:18</td>\n",
              "      <td>2018-06-05 14:32:00</td>\n",
              "      <td>NaT</td>\n",
              "      <td>2018-06-28</td>\n",
              "    </tr>\n",
              "    <tr>\n",
              "      <th>103</th>\n",
              "      <td>0760a852e4e9d89eb77bf631eaaf1c84</td>\n",
              "      <td>d2a79636084590b7465af8ab374a8cf5</td>\n",
              "      <td>invoiced</td>\n",
              "      <td>2018-08-03 17:44:42</td>\n",
              "      <td>2018-08-07 06:15:14</td>\n",
              "      <td>NaT</td>\n",
              "      <td>NaT</td>\n",
              "      <td>2018-08-21</td>\n",
              "    </tr>\n",
              "    <tr>\n",
              "      <th>128</th>\n",
              "      <td>15bed8e2fec7fdbadb186b57c46c92f2</td>\n",
              "      <td>f3f0e613e0bdb9c7cee75504f0f90679</td>\n",
              "      <td>processing</td>\n",
              "      <td>2017-09-03 14:22:03</td>\n",
              "      <td>2017-09-03 14:30:09</td>\n",
              "      <td>NaT</td>\n",
              "      <td>NaT</td>\n",
              "      <td>2017-10-03</td>\n",
              "    </tr>\n",
              "    <tr>\n",
              "      <th>154</th>\n",
              "      <td>6942b8da583c2f9957e990d028607019</td>\n",
              "      <td>52006a9383bf149a4fb24226b173106f</td>\n",
              "      <td>shipped</td>\n",
              "      <td>2018-01-10 11:33:07</td>\n",
              "      <td>2018-01-11 02:32:30</td>\n",
              "      <td>2018-01-11 19:39:23</td>\n",
              "      <td>NaT</td>\n",
              "      <td>2018-02-07</td>\n",
              "    </tr>\n",
              "    <tr>\n",
              "      <th>...</th>\n",
              "      <td>...</td>\n",
              "      <td>...</td>\n",
              "      <td>...</td>\n",
              "      <td>...</td>\n",
              "      <td>...</td>\n",
              "      <td>...</td>\n",
              "      <td>...</td>\n",
              "      <td>...</td>\n",
              "    </tr>\n",
              "    <tr>\n",
              "      <th>99283</th>\n",
              "      <td>3a3cddda5a7c27851bd96c3313412840</td>\n",
              "      <td>0b0d6095c5555fe083844281f6b093bb</td>\n",
              "      <td>canceled</td>\n",
              "      <td>2018-08-31 16:13:44</td>\n",
              "      <td>NaT</td>\n",
              "      <td>NaT</td>\n",
              "      <td>NaT</td>\n",
              "      <td>2018-10-01</td>\n",
              "    </tr>\n",
              "    <tr>\n",
              "      <th>99313</th>\n",
              "      <td>e9e64a17afa9653aacf2616d94c005b8</td>\n",
              "      <td>b4cd0522e632e481f8eaf766a2646e86</td>\n",
              "      <td>processing</td>\n",
              "      <td>2018-01-05 23:07:24</td>\n",
              "      <td>2018-01-09 07:18:05</td>\n",
              "      <td>NaT</td>\n",
              "      <td>NaT</td>\n",
              "      <td>2018-02-06</td>\n",
              "    </tr>\n",
              "    <tr>\n",
              "      <th>99347</th>\n",
              "      <td>a89abace0dcc01eeb267a9660b5ac126</td>\n",
              "      <td>2f0524a7b1b3845a1a57fcf3910c4333</td>\n",
              "      <td>canceled</td>\n",
              "      <td>2018-09-06 18:45:47</td>\n",
              "      <td>NaT</td>\n",
              "      <td>NaT</td>\n",
              "      <td>NaT</td>\n",
              "      <td>2018-09-27</td>\n",
              "    </tr>\n",
              "    <tr>\n",
              "      <th>99348</th>\n",
              "      <td>a69ba794cc7deb415c3e15a0a3877e69</td>\n",
              "      <td>726f0894b5becdf952ea537d5266e543</td>\n",
              "      <td>unavailable</td>\n",
              "      <td>2017-08-23 16:28:04</td>\n",
              "      <td>2017-08-28 15:44:47</td>\n",
              "      <td>NaT</td>\n",
              "      <td>NaT</td>\n",
              "      <td>2017-09-15</td>\n",
              "    </tr>\n",
              "    <tr>\n",
              "      <th>99415</th>\n",
              "      <td>5fabc81b6322c8443648e1b21a6fef21</td>\n",
              "      <td>32c9df889d41b0ee8309a5efb6855dcb</td>\n",
              "      <td>unavailable</td>\n",
              "      <td>2017-10-10 10:50:03</td>\n",
              "      <td>2017-10-14 18:35:57</td>\n",
              "      <td>NaT</td>\n",
              "      <td>NaT</td>\n",
              "      <td>2017-10-23</td>\n",
              "    </tr>\n",
              "  </tbody>\n",
              "</table>\n",
              "<p>2965 rows × 8 columns</p>\n",
              "</div>"
            ],
            "text/plain": [
              "                               order_id                       customer_id  \\\n",
              "6      136cce7faa42fdb2cefd53fdc79a6098  ed0271e0b7da060a393796590e7b737a   \n",
              "44     ee64d42b8cf066f35eac1cf57de1aa85  caded193e8e47b8362864762a83db3c5   \n",
              "103    0760a852e4e9d89eb77bf631eaaf1c84  d2a79636084590b7465af8ab374a8cf5   \n",
              "128    15bed8e2fec7fdbadb186b57c46c92f2  f3f0e613e0bdb9c7cee75504f0f90679   \n",
              "154    6942b8da583c2f9957e990d028607019  52006a9383bf149a4fb24226b173106f   \n",
              "...                                 ...                               ...   \n",
              "99283  3a3cddda5a7c27851bd96c3313412840  0b0d6095c5555fe083844281f6b093bb   \n",
              "99313  e9e64a17afa9653aacf2616d94c005b8  b4cd0522e632e481f8eaf766a2646e86   \n",
              "99347  a89abace0dcc01eeb267a9660b5ac126  2f0524a7b1b3845a1a57fcf3910c4333   \n",
              "99348  a69ba794cc7deb415c3e15a0a3877e69  726f0894b5becdf952ea537d5266e543   \n",
              "99415  5fabc81b6322c8443648e1b21a6fef21  32c9df889d41b0ee8309a5efb6855dcb   \n",
              "\n",
              "      order_status order_purchase_timestamp   order_approved_at  \\\n",
              "6         invoiced      2017-04-11 12:22:08 2017-04-13 13:25:17   \n",
              "44         shipped      2018-06-04 16:44:48 2018-06-05 04:31:18   \n",
              "103       invoiced      2018-08-03 17:44:42 2018-08-07 06:15:14   \n",
              "128     processing      2017-09-03 14:22:03 2017-09-03 14:30:09   \n",
              "154        shipped      2018-01-10 11:33:07 2018-01-11 02:32:30   \n",
              "...            ...                      ...                 ...   \n",
              "99283     canceled      2018-08-31 16:13:44                 NaT   \n",
              "99313   processing      2018-01-05 23:07:24 2018-01-09 07:18:05   \n",
              "99347     canceled      2018-09-06 18:45:47                 NaT   \n",
              "99348  unavailable      2017-08-23 16:28:04 2017-08-28 15:44:47   \n",
              "99415  unavailable      2017-10-10 10:50:03 2017-10-14 18:35:57   \n",
              "\n",
              "      order_delivered_carrier_date order_delivered_customer_date  \\\n",
              "6                              NaT                           NaT   \n",
              "44             2018-06-05 14:32:00                           NaT   \n",
              "103                            NaT                           NaT   \n",
              "128                            NaT                           NaT   \n",
              "154            2018-01-11 19:39:23                           NaT   \n",
              "...                            ...                           ...   \n",
              "99283                          NaT                           NaT   \n",
              "99313                          NaT                           NaT   \n",
              "99347                          NaT                           NaT   \n",
              "99348                          NaT                           NaT   \n",
              "99415                          NaT                           NaT   \n",
              "\n",
              "      order_estimated_delivery_date  \n",
              "6                        2017-05-09  \n",
              "44                       2018-06-28  \n",
              "103                      2018-08-21  \n",
              "128                      2017-10-03  \n",
              "154                      2018-02-07  \n",
              "...                             ...  \n",
              "99283                    2018-10-01  \n",
              "99313                    2018-02-06  \n",
              "99347                    2018-09-27  \n",
              "99348                    2017-09-15  \n",
              "99415                    2017-10-23  \n",
              "\n",
              "[2965 rows x 8 columns]"
            ]
          },
          "execution_count": 40,
          "metadata": {},
          "output_type": "execute_result"
        }
      ],
      "source": [
        "orders_df[orders_df.order_delivered_customer_date.isna()]"
      ]
    },
    {
      "cell_type": "markdown",
      "metadata": {
        "id": "Cg-yYdKMaUw0"
      },
      "source": [
        "Insight:\n",
        "Terlihat bahwa adanya missing value disebabkan order_status yang berbeda"
      ]
    },
    {
      "cell_type": "markdown",
      "metadata": {
        "id": "XjJ_Bp4IKuq1"
      },
      "source": [
        "Cek nilai pada kolom order_delivered_customer_date dengan order_status"
      ]
    },
    {
      "cell_type": "code",
      "execution_count": 41,
      "metadata": {
        "colab": {
          "base_uri": "https://localhost:8080/",
          "height": 489
        },
        "id": "X0FaX2MqJxYT",
        "outputId": "e88de2eb-4538-4b54-884e-448f32494596"
      },
      "outputs": [
        {
          "data": {
            "text/plain": [
              "order_status  order_delivered_customer_date\n",
              "canceled      2016-10-14 15:07:11              1\n",
              "              2016-10-16 14:36:59              1\n",
              "              2016-10-19 18:47:43              1\n",
              "              2016-11-08 10:58:34              1\n",
              "              2016-11-09 14:53:50              1\n",
              "                                              ..\n",
              "delivered     2018-09-25 00:47:25              1\n",
              "              2018-09-27 02:24:33              1\n",
              "              2018-10-02 00:18:50              1\n",
              "              2018-10-11 16:41:14              1\n",
              "              2018-10-17 13:22:46              1\n",
              "Name: count, Length: 95664, dtype: int64"
            ]
          },
          "execution_count": 41,
          "metadata": {},
          "output_type": "execute_result"
        }
      ],
      "source": [
        "orders_df.groupby(\"order_status\")[\"order_delivered_customer_date\"].value_counts()"
      ]
    },
    {
      "cell_type": "markdown",
      "metadata": {
        "id": "1K0asJ2xfE5N"
      },
      "source": [
        "Mendapatkan jumlah nilai berdasarkan order_status"
      ]
    },
    {
      "cell_type": "code",
      "execution_count": 42,
      "metadata": {
        "colab": {
          "base_uri": "https://localhost:8080/",
          "height": 366
        },
        "id": "q1vrYqr-ewet",
        "outputId": "fac8040f-f484-400d-f4f4-617b3ab5fde8"
      },
      "outputs": [
        {
          "data": {
            "text/plain": [
              "order_status\n",
              "delivered      96478\n",
              "shipped         1107\n",
              "canceled         625\n",
              "unavailable      609\n",
              "invoiced         314\n",
              "processing       301\n",
              "created            5\n",
              "approved           2\n",
              "Name: count, dtype: int64"
            ]
          },
          "execution_count": 42,
          "metadata": {},
          "output_type": "execute_result"
        }
      ],
      "source": [
        "orders_df.order_status.value_counts()"
      ]
    },
    {
      "cell_type": "markdown",
      "metadata": {
        "id": "GOZI_S_odUVg"
      },
      "source": [
        "Insight:\n",
        "Karena tidak ada pola yang dapat dibentuk, maka semua missing values akan diganti seperti berikut:\n",
        "- semua missing values pada order_status = [\"canceled\", \"unavailable\"], akan diisi dengan \"Not Delivered\"\n",
        "- semua missing values pada order_status = [\"invoiced\", \"processing\", \"created\", \"approved\"], akan diisi dengan \"Pending\"\n",
        "- missing values pada order_status = \"shipped\" di kolom order_delivered_customer_date, akan dihitung dengan mengurangi waktu pada order_estimated_delivery_date dengan order_delivered_carrier_date"
      ]
    },
    {
      "cell_type": "markdown",
      "metadata": {
        "id": "bEVbsya8vLwc"
      },
      "source": [
        "Mengganti missing values pada order_status = \"shipped\" di kolom order_delivered_customer_date dengan memperkirakan selisih dari order_estimated_delivery_date dengan order_delivered_carrier_date"
      ]
    },
    {
      "cell_type": "code",
      "execution_count": 43,
      "metadata": {
        "colab": {
          "base_uri": "https://localhost:8080/"
        },
        "id": "S0owiGX6yi_w",
        "outputId": "9ef4cd24-278e-4773-d9ab-480576b07aa9"
      },
      "outputs": [
        {
          "name": "stderr",
          "output_type": "stream",
          "text": [
            "C:\\Users\\Valent Tanda\\AppData\\Local\\Temp\\ipykernel_17064\\635962537.py:1: FutureWarning: Setting an item of incompatible dtype is deprecated and will raise an error in a future version of pandas. Value '<TimedeltaArray>\n",
            "['22 days 09:28:00', '26 days 04:20:37', '27 days 10:38:13',\n",
            " '20 days 06:31:26', '29 days 08:40:00', '17 days 07:49:47',\n",
            " '23 days 02:51:32', '15 days 09:51:00', '26 days 08:30:27',\n",
            " '13 days 04:52:17',\n",
            " ...\n",
            " '15 days 11:27:52', '24 days 05:21:08',  '7 days 07:01:24',\n",
            " '14 days 03:22:19', '35 days 13:03:14', '16 days 05:02:21',\n",
            " '17 days 09:26:00', '15 days 11:33:00', '19 days 10:09:00',\n",
            " '21 days 04:41:02']\n",
            "Length: 1107, dtype: timedelta64[ns]' has dtype incompatible with datetime64[ns], please explicitly cast to a compatible dtype first.\n",
            "  orders_df.loc[orders_df[\"order_status\"] == \"shipped\", \"order_delivered_customer_date\"] = orders_df[\"order_estimated_delivery_date\"] - orders_df[\"order_delivered_carrier_date\"]\n"
          ]
        }
      ],
      "source": [
        "orders_df.loc[orders_df[\"order_status\"] == \"shipped\", \"order_delivered_customer_date\"] = orders_df[\"order_estimated_delivery_date\"] - orders_df[\"order_delivered_carrier_date\"]"
      ]
    },
    {
      "cell_type": "markdown",
      "metadata": {
        "id": "wEtXkMYUwA9D"
      },
      "source": [
        "Cek data orders_df"
      ]
    },
    {
      "cell_type": "code",
      "execution_count": 44,
      "metadata": {
        "colab": {
          "base_uri": "https://localhost:8080/",
          "height": 443
        },
        "id": "4NBq_HjPwDwC",
        "outputId": "7b93d164-f95b-44a3-c5d0-cc6ad33ffbfc"
      },
      "outputs": [
        {
          "data": {
            "text/html": [
              "<div>\n",
              "<style scoped>\n",
              "    .dataframe tbody tr th:only-of-type {\n",
              "        vertical-align: middle;\n",
              "    }\n",
              "\n",
              "    .dataframe tbody tr th {\n",
              "        vertical-align: top;\n",
              "    }\n",
              "\n",
              "    .dataframe thead th {\n",
              "        text-align: right;\n",
              "    }\n",
              "</style>\n",
              "<table border=\"1\" class=\"dataframe\">\n",
              "  <thead>\n",
              "    <tr style=\"text-align: right;\">\n",
              "      <th></th>\n",
              "      <th>order_id</th>\n",
              "      <th>customer_id</th>\n",
              "      <th>order_status</th>\n",
              "      <th>order_purchase_timestamp</th>\n",
              "      <th>order_approved_at</th>\n",
              "      <th>order_delivered_carrier_date</th>\n",
              "      <th>order_delivered_customer_date</th>\n",
              "      <th>order_estimated_delivery_date</th>\n",
              "    </tr>\n",
              "  </thead>\n",
              "  <tbody>\n",
              "    <tr>\n",
              "      <th>0</th>\n",
              "      <td>e481f51cbdc54678b7cc49136f2d6af7</td>\n",
              "      <td>9ef432eb6251297304e76186b10a928d</td>\n",
              "      <td>delivered</td>\n",
              "      <td>2017-10-02 10:56:33</td>\n",
              "      <td>2017-10-02 11:07:15</td>\n",
              "      <td>2017-10-04 19:55:00</td>\n",
              "      <td>2017-10-10 21:25:13</td>\n",
              "      <td>2017-10-18</td>\n",
              "    </tr>\n",
              "    <tr>\n",
              "      <th>1</th>\n",
              "      <td>53cdb2fc8bc7dce0b6741e2150273451</td>\n",
              "      <td>b0830fb4747a6c6d20dea0b8c802d7ef</td>\n",
              "      <td>delivered</td>\n",
              "      <td>2018-07-24 20:41:37</td>\n",
              "      <td>2018-07-26 03:24:27</td>\n",
              "      <td>2018-07-26 14:31:00</td>\n",
              "      <td>2018-08-07 15:27:45</td>\n",
              "      <td>2018-08-13</td>\n",
              "    </tr>\n",
              "    <tr>\n",
              "      <th>2</th>\n",
              "      <td>47770eb9100c2d0c44946d9cf07ec65d</td>\n",
              "      <td>41ce2a54c0b03bf3443c3d931a367089</td>\n",
              "      <td>delivered</td>\n",
              "      <td>2018-08-08 08:38:49</td>\n",
              "      <td>2018-08-08 08:55:23</td>\n",
              "      <td>2018-08-08 13:50:00</td>\n",
              "      <td>2018-08-17 18:06:29</td>\n",
              "      <td>2018-09-04</td>\n",
              "    </tr>\n",
              "    <tr>\n",
              "      <th>3</th>\n",
              "      <td>949d5b44dbf5de918fe9c16f97b45f8a</td>\n",
              "      <td>f88197465ea7920adcdbec7375364d82</td>\n",
              "      <td>delivered</td>\n",
              "      <td>2017-11-18 19:28:06</td>\n",
              "      <td>2017-11-18 19:45:59</td>\n",
              "      <td>2017-11-22 13:39:59</td>\n",
              "      <td>2017-12-02 00:28:42</td>\n",
              "      <td>2017-12-15</td>\n",
              "    </tr>\n",
              "    <tr>\n",
              "      <th>4</th>\n",
              "      <td>ad21c59c0840e6cb83a9ceb5573f8159</td>\n",
              "      <td>8ab97904e6daea8866dbdbc4fb7aad2c</td>\n",
              "      <td>delivered</td>\n",
              "      <td>2018-02-13 21:18:39</td>\n",
              "      <td>2018-02-13 22:20:29</td>\n",
              "      <td>2018-02-14 19:46:34</td>\n",
              "      <td>2018-02-16 18:17:02</td>\n",
              "      <td>2018-02-26</td>\n",
              "    </tr>\n",
              "    <tr>\n",
              "      <th>...</th>\n",
              "      <td>...</td>\n",
              "      <td>...</td>\n",
              "      <td>...</td>\n",
              "      <td>...</td>\n",
              "      <td>...</td>\n",
              "      <td>...</td>\n",
              "      <td>...</td>\n",
              "      <td>...</td>\n",
              "    </tr>\n",
              "    <tr>\n",
              "      <th>9995</th>\n",
              "      <td>651f02528e2e297f3d28dca2f4c09a51</td>\n",
              "      <td>72bb4b179b30a3befe3eb909174f2bce</td>\n",
              "      <td>delivered</td>\n",
              "      <td>2018-07-28 15:40:18</td>\n",
              "      <td>2018-07-30 19:32:07</td>\n",
              "      <td>2018-08-01 15:24:00</td>\n",
              "      <td>2018-08-07 22:05:54</td>\n",
              "      <td>2018-08-16</td>\n",
              "    </tr>\n",
              "    <tr>\n",
              "      <th>9996</th>\n",
              "      <td>674f1f9e4afc192f4400bf65ae05df5b</td>\n",
              "      <td>4843357c686509ee6aa2c1ba02aff371</td>\n",
              "      <td>delivered</td>\n",
              "      <td>2018-04-25 23:08:51</td>\n",
              "      <td>2018-04-26 20:35:15</td>\n",
              "      <td>2018-04-27 14:08:00</td>\n",
              "      <td>2018-05-07 23:06:30</td>\n",
              "      <td>2018-05-18</td>\n",
              "    </tr>\n",
              "    <tr>\n",
              "      <th>9997</th>\n",
              "      <td>b76914fad8489589b7eca037a01c7dc6</td>\n",
              "      <td>102d5f33c41586f432227d8206b4ba66</td>\n",
              "      <td>delivered</td>\n",
              "      <td>2018-06-28 11:39:51</td>\n",
              "      <td>2018-06-28 12:31:18</td>\n",
              "      <td>2018-06-29 13:20:00</td>\n",
              "      <td>2018-07-03 19:06:49</td>\n",
              "      <td>2018-07-24</td>\n",
              "    </tr>\n",
              "    <tr>\n",
              "      <th>9998</th>\n",
              "      <td>0847e79b172a265faa7bd23222c56222</td>\n",
              "      <td>1bef529baa69f231b14112176ea31608</td>\n",
              "      <td>delivered</td>\n",
              "      <td>2018-06-14 20:48:50</td>\n",
              "      <td>2018-06-15 21:01:11</td>\n",
              "      <td>2018-06-18 11:22:00</td>\n",
              "      <td>2018-06-21 21:12:03</td>\n",
              "      <td>2018-07-26</td>\n",
              "    </tr>\n",
              "    <tr>\n",
              "      <th>9999</th>\n",
              "      <td>a5d81ef92239f2dfe3b2aef1416077aa</td>\n",
              "      <td>5bc89bd3505b85768524d24edc6822b0</td>\n",
              "      <td>delivered</td>\n",
              "      <td>2017-12-01 09:53:57</td>\n",
              "      <td>2017-12-01 11:31:37</td>\n",
              "      <td>2017-12-04 20:42:41</td>\n",
              "      <td>2017-12-12 20:33:14</td>\n",
              "      <td>2018-01-08</td>\n",
              "    </tr>\n",
              "  </tbody>\n",
              "</table>\n",
              "<p>10000 rows × 8 columns</p>\n",
              "</div>"
            ],
            "text/plain": [
              "                              order_id                       customer_id  \\\n",
              "0     e481f51cbdc54678b7cc49136f2d6af7  9ef432eb6251297304e76186b10a928d   \n",
              "1     53cdb2fc8bc7dce0b6741e2150273451  b0830fb4747a6c6d20dea0b8c802d7ef   \n",
              "2     47770eb9100c2d0c44946d9cf07ec65d  41ce2a54c0b03bf3443c3d931a367089   \n",
              "3     949d5b44dbf5de918fe9c16f97b45f8a  f88197465ea7920adcdbec7375364d82   \n",
              "4     ad21c59c0840e6cb83a9ceb5573f8159  8ab97904e6daea8866dbdbc4fb7aad2c   \n",
              "...                                ...                               ...   \n",
              "9995  651f02528e2e297f3d28dca2f4c09a51  72bb4b179b30a3befe3eb909174f2bce   \n",
              "9996  674f1f9e4afc192f4400bf65ae05df5b  4843357c686509ee6aa2c1ba02aff371   \n",
              "9997  b76914fad8489589b7eca037a01c7dc6  102d5f33c41586f432227d8206b4ba66   \n",
              "9998  0847e79b172a265faa7bd23222c56222  1bef529baa69f231b14112176ea31608   \n",
              "9999  a5d81ef92239f2dfe3b2aef1416077aa  5bc89bd3505b85768524d24edc6822b0   \n",
              "\n",
              "     order_status order_purchase_timestamp   order_approved_at  \\\n",
              "0       delivered      2017-10-02 10:56:33 2017-10-02 11:07:15   \n",
              "1       delivered      2018-07-24 20:41:37 2018-07-26 03:24:27   \n",
              "2       delivered      2018-08-08 08:38:49 2018-08-08 08:55:23   \n",
              "3       delivered      2017-11-18 19:28:06 2017-11-18 19:45:59   \n",
              "4       delivered      2018-02-13 21:18:39 2018-02-13 22:20:29   \n",
              "...           ...                      ...                 ...   \n",
              "9995    delivered      2018-07-28 15:40:18 2018-07-30 19:32:07   \n",
              "9996    delivered      2018-04-25 23:08:51 2018-04-26 20:35:15   \n",
              "9997    delivered      2018-06-28 11:39:51 2018-06-28 12:31:18   \n",
              "9998    delivered      2018-06-14 20:48:50 2018-06-15 21:01:11   \n",
              "9999    delivered      2017-12-01 09:53:57 2017-12-01 11:31:37   \n",
              "\n",
              "     order_delivered_carrier_date order_delivered_customer_date  \\\n",
              "0             2017-10-04 19:55:00           2017-10-10 21:25:13   \n",
              "1             2018-07-26 14:31:00           2018-08-07 15:27:45   \n",
              "2             2018-08-08 13:50:00           2018-08-17 18:06:29   \n",
              "3             2017-11-22 13:39:59           2017-12-02 00:28:42   \n",
              "4             2018-02-14 19:46:34           2018-02-16 18:17:02   \n",
              "...                           ...                           ...   \n",
              "9995          2018-08-01 15:24:00           2018-08-07 22:05:54   \n",
              "9996          2018-04-27 14:08:00           2018-05-07 23:06:30   \n",
              "9997          2018-06-29 13:20:00           2018-07-03 19:06:49   \n",
              "9998          2018-06-18 11:22:00           2018-06-21 21:12:03   \n",
              "9999          2017-12-04 20:42:41           2017-12-12 20:33:14   \n",
              "\n",
              "     order_estimated_delivery_date  \n",
              "0                       2017-10-18  \n",
              "1                       2018-08-13  \n",
              "2                       2018-09-04  \n",
              "3                       2017-12-15  \n",
              "4                       2018-02-26  \n",
              "...                            ...  \n",
              "9995                    2018-08-16  \n",
              "9996                    2018-05-18  \n",
              "9997                    2018-07-24  \n",
              "9998                    2018-07-26  \n",
              "9999                    2018-01-08  \n",
              "\n",
              "[10000 rows x 8 columns]"
            ]
          },
          "execution_count": 44,
          "metadata": {},
          "output_type": "execute_result"
        }
      ],
      "source": [
        "orders_df.head(10000)"
      ]
    },
    {
      "cell_type": "markdown",
      "metadata": {
        "id": "PsoLlo5ByxfY"
      },
      "source": [
        "Insight:\n",
        "Hasil yang ditunjukkan pada kolom order_delivered_customer_date ternyata tidak seperti data-data berformat datetime yang lain. Oleh karena itu, kolom order_delivered_customer_date dengan parameter order_status = \"shipped\" selanjutnya akan diganti dengan \"On Shipping\""
      ]
    },
    {
      "cell_type": "code",
      "execution_count": 45,
      "metadata": {
        "id": "bB-oZspFzuTn"
      },
      "outputs": [],
      "source": [
        "orders_df.loc[orders_df[\"order_status\"].isin([\"shipped\"]), \"order_delivered_customer_date\"] = \"On Shipping\"\n"
      ]
    },
    {
      "cell_type": "markdown",
      "metadata": {
        "id": "56MkUad20NH4"
      },
      "source": [
        "Cek data orders_df"
      ]
    },
    {
      "cell_type": "code",
      "execution_count": 46,
      "metadata": {
        "colab": {
          "base_uri": "https://localhost:8080/",
          "height": 443
        },
        "id": "6TflKwAr0PFt",
        "outputId": "ba1a745f-29d4-4fed-8042-579d78128385"
      },
      "outputs": [
        {
          "data": {
            "text/html": [
              "<div>\n",
              "<style scoped>\n",
              "    .dataframe tbody tr th:only-of-type {\n",
              "        vertical-align: middle;\n",
              "    }\n",
              "\n",
              "    .dataframe tbody tr th {\n",
              "        vertical-align: top;\n",
              "    }\n",
              "\n",
              "    .dataframe thead th {\n",
              "        text-align: right;\n",
              "    }\n",
              "</style>\n",
              "<table border=\"1\" class=\"dataframe\">\n",
              "  <thead>\n",
              "    <tr style=\"text-align: right;\">\n",
              "      <th></th>\n",
              "      <th>order_id</th>\n",
              "      <th>customer_id</th>\n",
              "      <th>order_status</th>\n",
              "      <th>order_purchase_timestamp</th>\n",
              "      <th>order_approved_at</th>\n",
              "      <th>order_delivered_carrier_date</th>\n",
              "      <th>order_delivered_customer_date</th>\n",
              "      <th>order_estimated_delivery_date</th>\n",
              "    </tr>\n",
              "  </thead>\n",
              "  <tbody>\n",
              "    <tr>\n",
              "      <th>0</th>\n",
              "      <td>e481f51cbdc54678b7cc49136f2d6af7</td>\n",
              "      <td>9ef432eb6251297304e76186b10a928d</td>\n",
              "      <td>delivered</td>\n",
              "      <td>2017-10-02 10:56:33</td>\n",
              "      <td>2017-10-02 11:07:15</td>\n",
              "      <td>2017-10-04 19:55:00</td>\n",
              "      <td>2017-10-10 21:25:13</td>\n",
              "      <td>2017-10-18</td>\n",
              "    </tr>\n",
              "    <tr>\n",
              "      <th>1</th>\n",
              "      <td>53cdb2fc8bc7dce0b6741e2150273451</td>\n",
              "      <td>b0830fb4747a6c6d20dea0b8c802d7ef</td>\n",
              "      <td>delivered</td>\n",
              "      <td>2018-07-24 20:41:37</td>\n",
              "      <td>2018-07-26 03:24:27</td>\n",
              "      <td>2018-07-26 14:31:00</td>\n",
              "      <td>2018-08-07 15:27:45</td>\n",
              "      <td>2018-08-13</td>\n",
              "    </tr>\n",
              "    <tr>\n",
              "      <th>2</th>\n",
              "      <td>47770eb9100c2d0c44946d9cf07ec65d</td>\n",
              "      <td>41ce2a54c0b03bf3443c3d931a367089</td>\n",
              "      <td>delivered</td>\n",
              "      <td>2018-08-08 08:38:49</td>\n",
              "      <td>2018-08-08 08:55:23</td>\n",
              "      <td>2018-08-08 13:50:00</td>\n",
              "      <td>2018-08-17 18:06:29</td>\n",
              "      <td>2018-09-04</td>\n",
              "    </tr>\n",
              "    <tr>\n",
              "      <th>3</th>\n",
              "      <td>949d5b44dbf5de918fe9c16f97b45f8a</td>\n",
              "      <td>f88197465ea7920adcdbec7375364d82</td>\n",
              "      <td>delivered</td>\n",
              "      <td>2017-11-18 19:28:06</td>\n",
              "      <td>2017-11-18 19:45:59</td>\n",
              "      <td>2017-11-22 13:39:59</td>\n",
              "      <td>2017-12-02 00:28:42</td>\n",
              "      <td>2017-12-15</td>\n",
              "    </tr>\n",
              "    <tr>\n",
              "      <th>4</th>\n",
              "      <td>ad21c59c0840e6cb83a9ceb5573f8159</td>\n",
              "      <td>8ab97904e6daea8866dbdbc4fb7aad2c</td>\n",
              "      <td>delivered</td>\n",
              "      <td>2018-02-13 21:18:39</td>\n",
              "      <td>2018-02-13 22:20:29</td>\n",
              "      <td>2018-02-14 19:46:34</td>\n",
              "      <td>2018-02-16 18:17:02</td>\n",
              "      <td>2018-02-26</td>\n",
              "    </tr>\n",
              "    <tr>\n",
              "      <th>...</th>\n",
              "      <td>...</td>\n",
              "      <td>...</td>\n",
              "      <td>...</td>\n",
              "      <td>...</td>\n",
              "      <td>...</td>\n",
              "      <td>...</td>\n",
              "      <td>...</td>\n",
              "      <td>...</td>\n",
              "    </tr>\n",
              "    <tr>\n",
              "      <th>9995</th>\n",
              "      <td>651f02528e2e297f3d28dca2f4c09a51</td>\n",
              "      <td>72bb4b179b30a3befe3eb909174f2bce</td>\n",
              "      <td>delivered</td>\n",
              "      <td>2018-07-28 15:40:18</td>\n",
              "      <td>2018-07-30 19:32:07</td>\n",
              "      <td>2018-08-01 15:24:00</td>\n",
              "      <td>2018-08-07 22:05:54</td>\n",
              "      <td>2018-08-16</td>\n",
              "    </tr>\n",
              "    <tr>\n",
              "      <th>9996</th>\n",
              "      <td>674f1f9e4afc192f4400bf65ae05df5b</td>\n",
              "      <td>4843357c686509ee6aa2c1ba02aff371</td>\n",
              "      <td>delivered</td>\n",
              "      <td>2018-04-25 23:08:51</td>\n",
              "      <td>2018-04-26 20:35:15</td>\n",
              "      <td>2018-04-27 14:08:00</td>\n",
              "      <td>2018-05-07 23:06:30</td>\n",
              "      <td>2018-05-18</td>\n",
              "    </tr>\n",
              "    <tr>\n",
              "      <th>9997</th>\n",
              "      <td>b76914fad8489589b7eca037a01c7dc6</td>\n",
              "      <td>102d5f33c41586f432227d8206b4ba66</td>\n",
              "      <td>delivered</td>\n",
              "      <td>2018-06-28 11:39:51</td>\n",
              "      <td>2018-06-28 12:31:18</td>\n",
              "      <td>2018-06-29 13:20:00</td>\n",
              "      <td>2018-07-03 19:06:49</td>\n",
              "      <td>2018-07-24</td>\n",
              "    </tr>\n",
              "    <tr>\n",
              "      <th>9998</th>\n",
              "      <td>0847e79b172a265faa7bd23222c56222</td>\n",
              "      <td>1bef529baa69f231b14112176ea31608</td>\n",
              "      <td>delivered</td>\n",
              "      <td>2018-06-14 20:48:50</td>\n",
              "      <td>2018-06-15 21:01:11</td>\n",
              "      <td>2018-06-18 11:22:00</td>\n",
              "      <td>2018-06-21 21:12:03</td>\n",
              "      <td>2018-07-26</td>\n",
              "    </tr>\n",
              "    <tr>\n",
              "      <th>9999</th>\n",
              "      <td>a5d81ef92239f2dfe3b2aef1416077aa</td>\n",
              "      <td>5bc89bd3505b85768524d24edc6822b0</td>\n",
              "      <td>delivered</td>\n",
              "      <td>2017-12-01 09:53:57</td>\n",
              "      <td>2017-12-01 11:31:37</td>\n",
              "      <td>2017-12-04 20:42:41</td>\n",
              "      <td>2017-12-12 20:33:14</td>\n",
              "      <td>2018-01-08</td>\n",
              "    </tr>\n",
              "  </tbody>\n",
              "</table>\n",
              "<p>10000 rows × 8 columns</p>\n",
              "</div>"
            ],
            "text/plain": [
              "                              order_id                       customer_id  \\\n",
              "0     e481f51cbdc54678b7cc49136f2d6af7  9ef432eb6251297304e76186b10a928d   \n",
              "1     53cdb2fc8bc7dce0b6741e2150273451  b0830fb4747a6c6d20dea0b8c802d7ef   \n",
              "2     47770eb9100c2d0c44946d9cf07ec65d  41ce2a54c0b03bf3443c3d931a367089   \n",
              "3     949d5b44dbf5de918fe9c16f97b45f8a  f88197465ea7920adcdbec7375364d82   \n",
              "4     ad21c59c0840e6cb83a9ceb5573f8159  8ab97904e6daea8866dbdbc4fb7aad2c   \n",
              "...                                ...                               ...   \n",
              "9995  651f02528e2e297f3d28dca2f4c09a51  72bb4b179b30a3befe3eb909174f2bce   \n",
              "9996  674f1f9e4afc192f4400bf65ae05df5b  4843357c686509ee6aa2c1ba02aff371   \n",
              "9997  b76914fad8489589b7eca037a01c7dc6  102d5f33c41586f432227d8206b4ba66   \n",
              "9998  0847e79b172a265faa7bd23222c56222  1bef529baa69f231b14112176ea31608   \n",
              "9999  a5d81ef92239f2dfe3b2aef1416077aa  5bc89bd3505b85768524d24edc6822b0   \n",
              "\n",
              "     order_status order_purchase_timestamp   order_approved_at  \\\n",
              "0       delivered      2017-10-02 10:56:33 2017-10-02 11:07:15   \n",
              "1       delivered      2018-07-24 20:41:37 2018-07-26 03:24:27   \n",
              "2       delivered      2018-08-08 08:38:49 2018-08-08 08:55:23   \n",
              "3       delivered      2017-11-18 19:28:06 2017-11-18 19:45:59   \n",
              "4       delivered      2018-02-13 21:18:39 2018-02-13 22:20:29   \n",
              "...           ...                      ...                 ...   \n",
              "9995    delivered      2018-07-28 15:40:18 2018-07-30 19:32:07   \n",
              "9996    delivered      2018-04-25 23:08:51 2018-04-26 20:35:15   \n",
              "9997    delivered      2018-06-28 11:39:51 2018-06-28 12:31:18   \n",
              "9998    delivered      2018-06-14 20:48:50 2018-06-15 21:01:11   \n",
              "9999    delivered      2017-12-01 09:53:57 2017-12-01 11:31:37   \n",
              "\n",
              "     order_delivered_carrier_date order_delivered_customer_date  \\\n",
              "0             2017-10-04 19:55:00           2017-10-10 21:25:13   \n",
              "1             2018-07-26 14:31:00           2018-08-07 15:27:45   \n",
              "2             2018-08-08 13:50:00           2018-08-17 18:06:29   \n",
              "3             2017-11-22 13:39:59           2017-12-02 00:28:42   \n",
              "4             2018-02-14 19:46:34           2018-02-16 18:17:02   \n",
              "...                           ...                           ...   \n",
              "9995          2018-08-01 15:24:00           2018-08-07 22:05:54   \n",
              "9996          2018-04-27 14:08:00           2018-05-07 23:06:30   \n",
              "9997          2018-06-29 13:20:00           2018-07-03 19:06:49   \n",
              "9998          2018-06-18 11:22:00           2018-06-21 21:12:03   \n",
              "9999          2017-12-04 20:42:41           2017-12-12 20:33:14   \n",
              "\n",
              "     order_estimated_delivery_date  \n",
              "0                       2017-10-18  \n",
              "1                       2018-08-13  \n",
              "2                       2018-09-04  \n",
              "3                       2017-12-15  \n",
              "4                       2018-02-26  \n",
              "...                            ...  \n",
              "9995                    2018-08-16  \n",
              "9996                    2018-05-18  \n",
              "9997                    2018-07-24  \n",
              "9998                    2018-07-26  \n",
              "9999                    2018-01-08  \n",
              "\n",
              "[10000 rows x 8 columns]"
            ]
          },
          "execution_count": 46,
          "metadata": {},
          "output_type": "execute_result"
        }
      ],
      "source": [
        "orders_df.head(10000)"
      ]
    },
    {
      "cell_type": "markdown",
      "metadata": {
        "id": "4bFStRBZaP58"
      },
      "source": [
        "Mengganti missing values pada order_status = [\"canceled\", \"unavailable\"] dengan \"Not Delivered\""
      ]
    },
    {
      "cell_type": "code",
      "execution_count": 47,
      "metadata": {
        "colab": {
          "base_uri": "https://localhost:8080/"
        },
        "id": "2vbNjhfMhrEc",
        "outputId": "7132e299-d811-4ad5-ef10-731723a80a38"
      },
      "outputs": [
        {
          "name": "stderr",
          "output_type": "stream",
          "text": [
            "C:\\Users\\Valent Tanda\\AppData\\Local\\Temp\\ipykernel_17064\\3043194624.py:1: FutureWarning: Setting an item of incompatible dtype is deprecated and will raise an error in a future version of pandas. Value 'Not Delivered' has dtype incompatible with datetime64[ns], please explicitly cast to a compatible dtype first.\n",
            "  orders_df.loc[orders_df[\"order_status\"].isin([\"canceled\", \"unavailable\"]), \"order_approved_at\"] = \"Not Delivered\"\n",
            "C:\\Users\\Valent Tanda\\AppData\\Local\\Temp\\ipykernel_17064\\3043194624.py:2: FutureWarning: Setting an item of incompatible dtype is deprecated and will raise an error in a future version of pandas. Value 'Not Delivered' has dtype incompatible with datetime64[ns], please explicitly cast to a compatible dtype first.\n",
            "  orders_df.loc[orders_df[\"order_status\"].isin([\"canceled\", \"unavailable\"]), \"order_delivered_carrier_date\"] = \"Not Delivered\"\n"
          ]
        }
      ],
      "source": [
        "orders_df.loc[orders_df[\"order_status\"].isin([\"canceled\", \"unavailable\"]), \"order_approved_at\"] = \"Not Delivered\"\n",
        "orders_df.loc[orders_df[\"order_status\"].isin([\"canceled\", \"unavailable\"]), \"order_delivered_carrier_date\"] = \"Not Delivered\"\n",
        "orders_df.loc[orders_df[\"order_status\"].isin([\"canceled\", \"unavailable\"]), \"order_delivered_customer_date\"] = \"Not Delivered\""
      ]
    },
    {
      "cell_type": "markdown",
      "metadata": {
        "id": "pmUYJlslhkEa"
      },
      "source": [
        "Mengganti missing values pada order_status = [\"invoiced\", \"processing\", \"created\", \"approved\"] dengan \"Pending\""
      ]
    },
    {
      "cell_type": "code",
      "execution_count": 48,
      "metadata": {
        "id": "ltUyuC7ZhpLx"
      },
      "outputs": [],
      "source": [
        "orders_df.loc[orders_df[\"order_status\"].isin([\"invoiced\", \"processing\", \"created\", \"approved\"]), \"order_approved_at\"] = \"Pending\"\n",
        "orders_df.loc[orders_df[\"order_status\"].isin([\"invoiced\", \"processing\", \"created\", \"approved\"]), \"order_delivered_carrier_date\"] = \"Pending\"\n",
        "orders_df.loc[orders_df[\"order_status\"].isin([\"invoiced\", \"processing\", \"created\", \"approved\"]), \"order_delivered_customer_date\"] = \"Pending\""
      ]
    },
    {
      "cell_type": "markdown",
      "metadata": {
        "id": "yDx6NgzGjVCw"
      },
      "source": [
        "Cek missing values"
      ]
    },
    {
      "cell_type": "code",
      "execution_count": 49,
      "metadata": {
        "colab": {
          "base_uri": "https://localhost:8080/",
          "height": 335
        },
        "id": "LkCGcjUbmXiW",
        "outputId": "0ea8123e-8d66-40f1-9458-22b73168b0ad"
      },
      "outputs": [
        {
          "data": {
            "text/plain": [
              "order_id                          0\n",
              "customer_id                       0\n",
              "order_status                      0\n",
              "order_purchase_timestamp          0\n",
              "order_approved_at                14\n",
              "order_delivered_carrier_date      2\n",
              "order_delivered_customer_date     8\n",
              "order_estimated_delivery_date     0\n",
              "dtype: int64"
            ]
          },
          "execution_count": 49,
          "metadata": {},
          "output_type": "execute_result"
        }
      ],
      "source": [
        "orders_df.isna().sum()"
      ]
    },
    {
      "cell_type": "markdown",
      "metadata": {
        "id": "Cdr3MhgJ18bi"
      },
      "source": [
        "Insight:\n",
        "Setelah dilakukan penggantian nilai yang hilang, didapat masih ada missing values pada kolom order_approved_at sampai order_delivered_customer_date"
      ]
    },
    {
      "cell_type": "markdown",
      "metadata": {
        "id": "A-K80IBp3gI4"
      },
      "source": [
        "Cek data dengan missing values di kolom order_approved_at\n"
      ]
    },
    {
      "cell_type": "code",
      "execution_count": 50,
      "metadata": {
        "colab": {
          "base_uri": "https://localhost:8080/",
          "height": 508
        },
        "id": "fAA9_YuU17lL",
        "outputId": "546aa1c7-174b-4e65-8282-c249fc6919be"
      },
      "outputs": [
        {
          "data": {
            "text/html": [
              "<div>\n",
              "<style scoped>\n",
              "    .dataframe tbody tr th:only-of-type {\n",
              "        vertical-align: middle;\n",
              "    }\n",
              "\n",
              "    .dataframe tbody tr th {\n",
              "        vertical-align: top;\n",
              "    }\n",
              "\n",
              "    .dataframe thead th {\n",
              "        text-align: right;\n",
              "    }\n",
              "</style>\n",
              "<table border=\"1\" class=\"dataframe\">\n",
              "  <thead>\n",
              "    <tr style=\"text-align: right;\">\n",
              "      <th></th>\n",
              "      <th>order_id</th>\n",
              "      <th>customer_id</th>\n",
              "      <th>order_status</th>\n",
              "      <th>order_purchase_timestamp</th>\n",
              "      <th>order_approved_at</th>\n",
              "      <th>order_delivered_carrier_date</th>\n",
              "      <th>order_delivered_customer_date</th>\n",
              "      <th>order_estimated_delivery_date</th>\n",
              "    </tr>\n",
              "  </thead>\n",
              "  <tbody>\n",
              "    <tr>\n",
              "      <th>5323</th>\n",
              "      <td>e04abd8149ef81b95221e88f6ed9ab6a</td>\n",
              "      <td>2127dc6603ac33544953ef05ec155771</td>\n",
              "      <td>delivered</td>\n",
              "      <td>2017-02-18 14:40:00</td>\n",
              "      <td>NaT</td>\n",
              "      <td>2017-02-23 12:04:47</td>\n",
              "      <td>2017-03-01 13:25:33</td>\n",
              "      <td>2017-03-17</td>\n",
              "    </tr>\n",
              "    <tr>\n",
              "      <th>16567</th>\n",
              "      <td>8a9adc69528e1001fc68dd0aaebbb54a</td>\n",
              "      <td>4c1ccc74e00993733742a3c786dc3c1f</td>\n",
              "      <td>delivered</td>\n",
              "      <td>2017-02-18 12:45:31</td>\n",
              "      <td>NaT</td>\n",
              "      <td>2017-02-23 09:01:52</td>\n",
              "      <td>2017-03-02 10:05:06</td>\n",
              "      <td>2017-03-21</td>\n",
              "    </tr>\n",
              "    <tr>\n",
              "      <th>19031</th>\n",
              "      <td>7013bcfc1c97fe719a7b5e05e61c12db</td>\n",
              "      <td>2941af76d38100e0f8740a374f1a5dc3</td>\n",
              "      <td>delivered</td>\n",
              "      <td>2017-02-18 13:29:47</td>\n",
              "      <td>NaT</td>\n",
              "      <td>2017-02-22 16:25:25</td>\n",
              "      <td>2017-03-01 08:07:38</td>\n",
              "      <td>2017-03-17</td>\n",
              "    </tr>\n",
              "    <tr>\n",
              "      <th>22663</th>\n",
              "      <td>5cf925b116421afa85ee25e99b4c34fb</td>\n",
              "      <td>29c35fc91fc13fb5073c8f30505d860d</td>\n",
              "      <td>delivered</td>\n",
              "      <td>2017-02-18 16:48:35</td>\n",
              "      <td>NaT</td>\n",
              "      <td>2017-02-22 11:23:10</td>\n",
              "      <td>2017-03-09 07:28:47</td>\n",
              "      <td>2017-03-31</td>\n",
              "    </tr>\n",
              "    <tr>\n",
              "      <th>23156</th>\n",
              "      <td>12a95a3c06dbaec84bcfb0e2da5d228a</td>\n",
              "      <td>1e101e0daffaddce8159d25a8e53f2b2</td>\n",
              "      <td>delivered</td>\n",
              "      <td>2017-02-17 13:05:55</td>\n",
              "      <td>NaT</td>\n",
              "      <td>2017-02-22 11:23:11</td>\n",
              "      <td>2017-03-02 11:09:19</td>\n",
              "      <td>2017-03-20</td>\n",
              "    </tr>\n",
              "    <tr>\n",
              "      <th>26800</th>\n",
              "      <td>c1d4211b3dae76144deccd6c74144a88</td>\n",
              "      <td>684cb238dc5b5d6366244e0e0776b450</td>\n",
              "      <td>delivered</td>\n",
              "      <td>2017-01-19 12:48:08</td>\n",
              "      <td>NaT</td>\n",
              "      <td>2017-01-25 14:56:50</td>\n",
              "      <td>2017-01-30 18:16:01</td>\n",
              "      <td>2017-03-01</td>\n",
              "    </tr>\n",
              "    <tr>\n",
              "      <th>38290</th>\n",
              "      <td>d69e5d356402adc8cf17e08b5033acfb</td>\n",
              "      <td>68d081753ad4fe22fc4d410a9eb1ca01</td>\n",
              "      <td>delivered</td>\n",
              "      <td>2017-02-19 01:28:47</td>\n",
              "      <td>NaT</td>\n",
              "      <td>2017-02-23 03:11:48</td>\n",
              "      <td>2017-03-02 03:41:58</td>\n",
              "      <td>2017-03-27</td>\n",
              "    </tr>\n",
              "    <tr>\n",
              "      <th>39334</th>\n",
              "      <td>d77031d6a3c8a52f019764e68f211c69</td>\n",
              "      <td>0bf35cac6cc7327065da879e2d90fae8</td>\n",
              "      <td>delivered</td>\n",
              "      <td>2017-02-18 11:04:19</td>\n",
              "      <td>NaT</td>\n",
              "      <td>2017-02-23 07:23:36</td>\n",
              "      <td>2017-03-02 16:15:23</td>\n",
              "      <td>2017-03-22</td>\n",
              "    </tr>\n",
              "    <tr>\n",
              "      <th>48401</th>\n",
              "      <td>7002a78c79c519ac54022d4f8a65e6e8</td>\n",
              "      <td>d5de688c321096d15508faae67a27051</td>\n",
              "      <td>delivered</td>\n",
              "      <td>2017-01-19 22:26:59</td>\n",
              "      <td>NaT</td>\n",
              "      <td>2017-01-27 11:08:05</td>\n",
              "      <td>2017-02-06 14:22:19</td>\n",
              "      <td>2017-03-16</td>\n",
              "    </tr>\n",
              "    <tr>\n",
              "      <th>61743</th>\n",
              "      <td>2eecb0d85f281280f79fa00f9cec1a95</td>\n",
              "      <td>a3d3c38e58b9d2dfb9207cab690b6310</td>\n",
              "      <td>delivered</td>\n",
              "      <td>2017-02-17 17:21:55</td>\n",
              "      <td>NaT</td>\n",
              "      <td>2017-02-22 11:42:51</td>\n",
              "      <td>2017-03-03 12:16:03</td>\n",
              "      <td>2017-03-20</td>\n",
              "    </tr>\n",
              "    <tr>\n",
              "      <th>63052</th>\n",
              "      <td>51eb2eebd5d76a24625b31c33dd41449</td>\n",
              "      <td>07a2a7e0f63fd8cb757ed77d4245623c</td>\n",
              "      <td>delivered</td>\n",
              "      <td>2017-02-18 15:52:27</td>\n",
              "      <td>NaT</td>\n",
              "      <td>2017-02-23 03:09:14</td>\n",
              "      <td>2017-03-07 13:57:47</td>\n",
              "      <td>2017-03-29</td>\n",
              "    </tr>\n",
              "    <tr>\n",
              "      <th>67697</th>\n",
              "      <td>88083e8f64d95b932164187484d90212</td>\n",
              "      <td>f67cd1a215aae2a1074638bbd35a223a</td>\n",
              "      <td>delivered</td>\n",
              "      <td>2017-02-18 22:49:19</td>\n",
              "      <td>NaT</td>\n",
              "      <td>2017-02-22 11:31:06</td>\n",
              "      <td>2017-03-02 12:06:06</td>\n",
              "      <td>2017-03-21</td>\n",
              "    </tr>\n",
              "    <tr>\n",
              "      <th>72407</th>\n",
              "      <td>3c0b8706b065f9919d0505d3b3343881</td>\n",
              "      <td>d85919cb3c0529589c6fa617f5f43281</td>\n",
              "      <td>delivered</td>\n",
              "      <td>2017-02-17 15:53:27</td>\n",
              "      <td>NaT</td>\n",
              "      <td>2017-02-22 11:31:30</td>\n",
              "      <td>2017-03-03 11:47:47</td>\n",
              "      <td>2017-03-23</td>\n",
              "    </tr>\n",
              "    <tr>\n",
              "      <th>84999</th>\n",
              "      <td>2babbb4b15e6d2dfe95e2de765c97bce</td>\n",
              "      <td>74bebaf46603f9340e3b50c6b086f992</td>\n",
              "      <td>delivered</td>\n",
              "      <td>2017-02-18 17:15:03</td>\n",
              "      <td>NaT</td>\n",
              "      <td>2017-02-22 11:23:11</td>\n",
              "      <td>2017-03-03 18:43:43</td>\n",
              "      <td>2017-03-31</td>\n",
              "    </tr>\n",
              "  </tbody>\n",
              "</table>\n",
              "</div>"
            ],
            "text/plain": [
              "                               order_id                       customer_id  \\\n",
              "5323   e04abd8149ef81b95221e88f6ed9ab6a  2127dc6603ac33544953ef05ec155771   \n",
              "16567  8a9adc69528e1001fc68dd0aaebbb54a  4c1ccc74e00993733742a3c786dc3c1f   \n",
              "19031  7013bcfc1c97fe719a7b5e05e61c12db  2941af76d38100e0f8740a374f1a5dc3   \n",
              "22663  5cf925b116421afa85ee25e99b4c34fb  29c35fc91fc13fb5073c8f30505d860d   \n",
              "23156  12a95a3c06dbaec84bcfb0e2da5d228a  1e101e0daffaddce8159d25a8e53f2b2   \n",
              "26800  c1d4211b3dae76144deccd6c74144a88  684cb238dc5b5d6366244e0e0776b450   \n",
              "38290  d69e5d356402adc8cf17e08b5033acfb  68d081753ad4fe22fc4d410a9eb1ca01   \n",
              "39334  d77031d6a3c8a52f019764e68f211c69  0bf35cac6cc7327065da879e2d90fae8   \n",
              "48401  7002a78c79c519ac54022d4f8a65e6e8  d5de688c321096d15508faae67a27051   \n",
              "61743  2eecb0d85f281280f79fa00f9cec1a95  a3d3c38e58b9d2dfb9207cab690b6310   \n",
              "63052  51eb2eebd5d76a24625b31c33dd41449  07a2a7e0f63fd8cb757ed77d4245623c   \n",
              "67697  88083e8f64d95b932164187484d90212  f67cd1a215aae2a1074638bbd35a223a   \n",
              "72407  3c0b8706b065f9919d0505d3b3343881  d85919cb3c0529589c6fa617f5f43281   \n",
              "84999  2babbb4b15e6d2dfe95e2de765c97bce  74bebaf46603f9340e3b50c6b086f992   \n",
              "\n",
              "      order_status order_purchase_timestamp order_approved_at  \\\n",
              "5323     delivered      2017-02-18 14:40:00               NaT   \n",
              "16567    delivered      2017-02-18 12:45:31               NaT   \n",
              "19031    delivered      2017-02-18 13:29:47               NaT   \n",
              "22663    delivered      2017-02-18 16:48:35               NaT   \n",
              "23156    delivered      2017-02-17 13:05:55               NaT   \n",
              "26800    delivered      2017-01-19 12:48:08               NaT   \n",
              "38290    delivered      2017-02-19 01:28:47               NaT   \n",
              "39334    delivered      2017-02-18 11:04:19               NaT   \n",
              "48401    delivered      2017-01-19 22:26:59               NaT   \n",
              "61743    delivered      2017-02-17 17:21:55               NaT   \n",
              "63052    delivered      2017-02-18 15:52:27               NaT   \n",
              "67697    delivered      2017-02-18 22:49:19               NaT   \n",
              "72407    delivered      2017-02-17 15:53:27               NaT   \n",
              "84999    delivered      2017-02-18 17:15:03               NaT   \n",
              "\n",
              "      order_delivered_carrier_date order_delivered_customer_date  \\\n",
              "5323           2017-02-23 12:04:47           2017-03-01 13:25:33   \n",
              "16567          2017-02-23 09:01:52           2017-03-02 10:05:06   \n",
              "19031          2017-02-22 16:25:25           2017-03-01 08:07:38   \n",
              "22663          2017-02-22 11:23:10           2017-03-09 07:28:47   \n",
              "23156          2017-02-22 11:23:11           2017-03-02 11:09:19   \n",
              "26800          2017-01-25 14:56:50           2017-01-30 18:16:01   \n",
              "38290          2017-02-23 03:11:48           2017-03-02 03:41:58   \n",
              "39334          2017-02-23 07:23:36           2017-03-02 16:15:23   \n",
              "48401          2017-01-27 11:08:05           2017-02-06 14:22:19   \n",
              "61743          2017-02-22 11:42:51           2017-03-03 12:16:03   \n",
              "63052          2017-02-23 03:09:14           2017-03-07 13:57:47   \n",
              "67697          2017-02-22 11:31:06           2017-03-02 12:06:06   \n",
              "72407          2017-02-22 11:31:30           2017-03-03 11:47:47   \n",
              "84999          2017-02-22 11:23:11           2017-03-03 18:43:43   \n",
              "\n",
              "      order_estimated_delivery_date  \n",
              "5323                     2017-03-17  \n",
              "16567                    2017-03-21  \n",
              "19031                    2017-03-17  \n",
              "22663                    2017-03-31  \n",
              "23156                    2017-03-20  \n",
              "26800                    2017-03-01  \n",
              "38290                    2017-03-27  \n",
              "39334                    2017-03-22  \n",
              "48401                    2017-03-16  \n",
              "61743                    2017-03-20  \n",
              "63052                    2017-03-29  \n",
              "67697                    2017-03-21  \n",
              "72407                    2017-03-23  \n",
              "84999                    2017-03-31  "
            ]
          },
          "execution_count": 50,
          "metadata": {},
          "output_type": "execute_result"
        }
      ],
      "source": [
        "orders_df.loc[orders_df[\"order_approved_at\"].isna()]"
      ]
    },
    {
      "cell_type": "markdown",
      "metadata": {
        "id": "nDVeSyqW45If"
      },
      "source": [
        "Cek data dengan missing values di kolom order_delivered_carrier_date\n"
      ]
    },
    {
      "cell_type": "code",
      "execution_count": 51,
      "metadata": {
        "colab": {
          "base_uri": "https://localhost:8080/",
          "height": 132
        },
        "id": "pHXMTlwE490H",
        "outputId": "ff9ebccd-162c-4816-c360-105c830d96b2"
      },
      "outputs": [
        {
          "data": {
            "text/html": [
              "<div>\n",
              "<style scoped>\n",
              "    .dataframe tbody tr th:only-of-type {\n",
              "        vertical-align: middle;\n",
              "    }\n",
              "\n",
              "    .dataframe tbody tr th {\n",
              "        vertical-align: top;\n",
              "    }\n",
              "\n",
              "    .dataframe thead th {\n",
              "        text-align: right;\n",
              "    }\n",
              "</style>\n",
              "<table border=\"1\" class=\"dataframe\">\n",
              "  <thead>\n",
              "    <tr style=\"text-align: right;\">\n",
              "      <th></th>\n",
              "      <th>order_id</th>\n",
              "      <th>customer_id</th>\n",
              "      <th>order_status</th>\n",
              "      <th>order_purchase_timestamp</th>\n",
              "      <th>order_approved_at</th>\n",
              "      <th>order_delivered_carrier_date</th>\n",
              "      <th>order_delivered_customer_date</th>\n",
              "      <th>order_estimated_delivery_date</th>\n",
              "    </tr>\n",
              "  </thead>\n",
              "  <tbody>\n",
              "    <tr>\n",
              "      <th>73222</th>\n",
              "      <td>2aa91108853cecb43c84a5dc5b277475</td>\n",
              "      <td>afeb16c7f46396c0ed54acb45ccaaa40</td>\n",
              "      <td>delivered</td>\n",
              "      <td>2017-09-29 08:52:58</td>\n",
              "      <td>2017-09-29 09:07:16</td>\n",
              "      <td>NaT</td>\n",
              "      <td>2017-11-20 19:44:47</td>\n",
              "      <td>2017-11-14</td>\n",
              "    </tr>\n",
              "    <tr>\n",
              "      <th>92643</th>\n",
              "      <td>2d858f451373b04fb5c984a1cc2defaf</td>\n",
              "      <td>e08caf668d499a6d643dafd7c5cc498a</td>\n",
              "      <td>delivered</td>\n",
              "      <td>2017-05-25 23:22:43</td>\n",
              "      <td>2017-05-25 23:30:16</td>\n",
              "      <td>NaT</td>\n",
              "      <td>NaT</td>\n",
              "      <td>2017-06-23</td>\n",
              "    </tr>\n",
              "  </tbody>\n",
              "</table>\n",
              "</div>"
            ],
            "text/plain": [
              "                               order_id                       customer_id  \\\n",
              "73222  2aa91108853cecb43c84a5dc5b277475  afeb16c7f46396c0ed54acb45ccaaa40   \n",
              "92643  2d858f451373b04fb5c984a1cc2defaf  e08caf668d499a6d643dafd7c5cc498a   \n",
              "\n",
              "      order_status order_purchase_timestamp    order_approved_at  \\\n",
              "73222    delivered      2017-09-29 08:52:58  2017-09-29 09:07:16   \n",
              "92643    delivered      2017-05-25 23:22:43  2017-05-25 23:30:16   \n",
              "\n",
              "      order_delivered_carrier_date order_delivered_customer_date  \\\n",
              "73222                          NaT           2017-11-20 19:44:47   \n",
              "92643                          NaT                           NaT   \n",
              "\n",
              "      order_estimated_delivery_date  \n",
              "73222                    2017-11-14  \n",
              "92643                    2017-06-23  "
            ]
          },
          "execution_count": 51,
          "metadata": {},
          "output_type": "execute_result"
        }
      ],
      "source": [
        "orders_df.loc[orders_df[\"order_delivered_carrier_date\"].isna()]"
      ]
    },
    {
      "cell_type": "markdown",
      "metadata": {
        "id": "ousMrUSt5Fju"
      },
      "source": [
        "Cek data dengan missing values di kolom order_delivered_customer_date"
      ]
    },
    {
      "cell_type": "code",
      "execution_count": 52,
      "metadata": {
        "colab": {
          "base_uri": "https://localhost:8080/",
          "height": 320
        },
        "id": "rI08eJbI5RoW",
        "outputId": "1ff5773a-d6b2-4a58-9743-9804c19ffb22"
      },
      "outputs": [
        {
          "data": {
            "text/html": [
              "<div>\n",
              "<style scoped>\n",
              "    .dataframe tbody tr th:only-of-type {\n",
              "        vertical-align: middle;\n",
              "    }\n",
              "\n",
              "    .dataframe tbody tr th {\n",
              "        vertical-align: top;\n",
              "    }\n",
              "\n",
              "    .dataframe thead th {\n",
              "        text-align: right;\n",
              "    }\n",
              "</style>\n",
              "<table border=\"1\" class=\"dataframe\">\n",
              "  <thead>\n",
              "    <tr style=\"text-align: right;\">\n",
              "      <th></th>\n",
              "      <th>order_id</th>\n",
              "      <th>customer_id</th>\n",
              "      <th>order_status</th>\n",
              "      <th>order_purchase_timestamp</th>\n",
              "      <th>order_approved_at</th>\n",
              "      <th>order_delivered_carrier_date</th>\n",
              "      <th>order_delivered_customer_date</th>\n",
              "      <th>order_estimated_delivery_date</th>\n",
              "    </tr>\n",
              "  </thead>\n",
              "  <tbody>\n",
              "    <tr>\n",
              "      <th>3002</th>\n",
              "      <td>2d1e2d5bf4dc7227b3bfebb81328c15f</td>\n",
              "      <td>ec05a6d8558c6455f0cbbd8a420ad34f</td>\n",
              "      <td>delivered</td>\n",
              "      <td>2017-11-28 17:44:07</td>\n",
              "      <td>2017-11-28 17:56:40</td>\n",
              "      <td>2017-11-30 18:12:23</td>\n",
              "      <td>NaT</td>\n",
              "      <td>2017-12-18</td>\n",
              "    </tr>\n",
              "    <tr>\n",
              "      <th>20618</th>\n",
              "      <td>f5dd62b788049ad9fc0526e3ad11a097</td>\n",
              "      <td>5e89028e024b381dc84a13a3570decb4</td>\n",
              "      <td>delivered</td>\n",
              "      <td>2018-06-20 06:58:43</td>\n",
              "      <td>2018-06-20 07:19:05</td>\n",
              "      <td>2018-06-25 08:05:00</td>\n",
              "      <td>NaT</td>\n",
              "      <td>2018-07-16</td>\n",
              "    </tr>\n",
              "    <tr>\n",
              "      <th>43834</th>\n",
              "      <td>2ebdfc4f15f23b91474edf87475f108e</td>\n",
              "      <td>29f0540231702fda0cfdee0a310f11aa</td>\n",
              "      <td>delivered</td>\n",
              "      <td>2018-07-01 17:05:11</td>\n",
              "      <td>2018-07-01 17:15:12</td>\n",
              "      <td>2018-07-03 13:57:00</td>\n",
              "      <td>NaT</td>\n",
              "      <td>2018-07-30</td>\n",
              "    </tr>\n",
              "    <tr>\n",
              "      <th>79263</th>\n",
              "      <td>e69f75a717d64fc5ecdfae42b2e8e086</td>\n",
              "      <td>cfda40ca8dd0a5d486a9635b611b398a</td>\n",
              "      <td>delivered</td>\n",
              "      <td>2018-07-01 22:05:55</td>\n",
              "      <td>2018-07-01 22:15:14</td>\n",
              "      <td>2018-07-03 13:57:00</td>\n",
              "      <td>NaT</td>\n",
              "      <td>2018-07-30</td>\n",
              "    </tr>\n",
              "    <tr>\n",
              "      <th>82868</th>\n",
              "      <td>0d3268bad9b086af767785e3f0fc0133</td>\n",
              "      <td>4f1d63d35fb7c8999853b2699f5c7649</td>\n",
              "      <td>delivered</td>\n",
              "      <td>2018-07-01 21:14:02</td>\n",
              "      <td>2018-07-01 21:29:54</td>\n",
              "      <td>2018-07-03 09:28:00</td>\n",
              "      <td>NaT</td>\n",
              "      <td>2018-07-24</td>\n",
              "    </tr>\n",
              "    <tr>\n",
              "      <th>92643</th>\n",
              "      <td>2d858f451373b04fb5c984a1cc2defaf</td>\n",
              "      <td>e08caf668d499a6d643dafd7c5cc498a</td>\n",
              "      <td>delivered</td>\n",
              "      <td>2017-05-25 23:22:43</td>\n",
              "      <td>2017-05-25 23:30:16</td>\n",
              "      <td>NaT</td>\n",
              "      <td>NaT</td>\n",
              "      <td>2017-06-23</td>\n",
              "    </tr>\n",
              "    <tr>\n",
              "      <th>97647</th>\n",
              "      <td>ab7c89dc1bf4a1ead9d6ec1ec8968a84</td>\n",
              "      <td>dd1b84a7286eb4524d52af4256c0ba24</td>\n",
              "      <td>delivered</td>\n",
              "      <td>2018-06-08 12:09:39</td>\n",
              "      <td>2018-06-08 12:36:39</td>\n",
              "      <td>2018-06-12 14:10:00</td>\n",
              "      <td>NaT</td>\n",
              "      <td>2018-06-26</td>\n",
              "    </tr>\n",
              "    <tr>\n",
              "      <th>98038</th>\n",
              "      <td>20edc82cf5400ce95e1afacc25798b31</td>\n",
              "      <td>28c37425f1127d887d7337f284080a0f</td>\n",
              "      <td>delivered</td>\n",
              "      <td>2018-06-27 16:09:12</td>\n",
              "      <td>2018-06-27 16:29:30</td>\n",
              "      <td>2018-07-03 19:26:00</td>\n",
              "      <td>NaT</td>\n",
              "      <td>2018-07-19</td>\n",
              "    </tr>\n",
              "  </tbody>\n",
              "</table>\n",
              "</div>"
            ],
            "text/plain": [
              "                               order_id                       customer_id  \\\n",
              "3002   2d1e2d5bf4dc7227b3bfebb81328c15f  ec05a6d8558c6455f0cbbd8a420ad34f   \n",
              "20618  f5dd62b788049ad9fc0526e3ad11a097  5e89028e024b381dc84a13a3570decb4   \n",
              "43834  2ebdfc4f15f23b91474edf87475f108e  29f0540231702fda0cfdee0a310f11aa   \n",
              "79263  e69f75a717d64fc5ecdfae42b2e8e086  cfda40ca8dd0a5d486a9635b611b398a   \n",
              "82868  0d3268bad9b086af767785e3f0fc0133  4f1d63d35fb7c8999853b2699f5c7649   \n",
              "92643  2d858f451373b04fb5c984a1cc2defaf  e08caf668d499a6d643dafd7c5cc498a   \n",
              "97647  ab7c89dc1bf4a1ead9d6ec1ec8968a84  dd1b84a7286eb4524d52af4256c0ba24   \n",
              "98038  20edc82cf5400ce95e1afacc25798b31  28c37425f1127d887d7337f284080a0f   \n",
              "\n",
              "      order_status order_purchase_timestamp    order_approved_at  \\\n",
              "3002     delivered      2017-11-28 17:44:07  2017-11-28 17:56:40   \n",
              "20618    delivered      2018-06-20 06:58:43  2018-06-20 07:19:05   \n",
              "43834    delivered      2018-07-01 17:05:11  2018-07-01 17:15:12   \n",
              "79263    delivered      2018-07-01 22:05:55  2018-07-01 22:15:14   \n",
              "82868    delivered      2018-07-01 21:14:02  2018-07-01 21:29:54   \n",
              "92643    delivered      2017-05-25 23:22:43  2017-05-25 23:30:16   \n",
              "97647    delivered      2018-06-08 12:09:39  2018-06-08 12:36:39   \n",
              "98038    delivered      2018-06-27 16:09:12  2018-06-27 16:29:30   \n",
              "\n",
              "      order_delivered_carrier_date order_delivered_customer_date  \\\n",
              "3002           2017-11-30 18:12:23                           NaT   \n",
              "20618          2018-06-25 08:05:00                           NaT   \n",
              "43834          2018-07-03 13:57:00                           NaT   \n",
              "79263          2018-07-03 13:57:00                           NaT   \n",
              "82868          2018-07-03 09:28:00                           NaT   \n",
              "92643                          NaT                           NaT   \n",
              "97647          2018-06-12 14:10:00                           NaT   \n",
              "98038          2018-07-03 19:26:00                           NaT   \n",
              "\n",
              "      order_estimated_delivery_date  \n",
              "3002                     2017-12-18  \n",
              "20618                    2018-07-16  \n",
              "43834                    2018-07-30  \n",
              "79263                    2018-07-30  \n",
              "82868                    2018-07-24  \n",
              "92643                    2017-06-23  \n",
              "97647                    2018-06-26  \n",
              "98038                    2018-07-19  "
            ]
          },
          "execution_count": 52,
          "metadata": {},
          "output_type": "execute_result"
        }
      ],
      "source": [
        "orders_df.loc[orders_df[\"order_delivered_customer_date\"].isna()]"
      ]
    },
    {
      "cell_type": "markdown",
      "metadata": {
        "id": "fuRIxVx33zdh"
      },
      "source": [
        "Cek parameter statistik untuk mencari dan menentukan pola"
      ]
    },
    {
      "cell_type": "code",
      "execution_count": 53,
      "metadata": {
        "colab": {
          "base_uri": "https://localhost:8080/",
          "height": 400
        },
        "id": "-toeQHg93l0y",
        "outputId": "944eedb4-11a5-4308-8f07-6f1183454f06"
      },
      "outputs": [
        {
          "data": {
            "text/html": [
              "<div>\n",
              "<style scoped>\n",
              "    .dataframe tbody tr th:only-of-type {\n",
              "        vertical-align: middle;\n",
              "    }\n",
              "\n",
              "    .dataframe tbody tr th {\n",
              "        vertical-align: top;\n",
              "    }\n",
              "\n",
              "    .dataframe thead th {\n",
              "        text-align: right;\n",
              "    }\n",
              "</style>\n",
              "<table border=\"1\" class=\"dataframe\">\n",
              "  <thead>\n",
              "    <tr style=\"text-align: right;\">\n",
              "      <th></th>\n",
              "      <th>order_id</th>\n",
              "      <th>customer_id</th>\n",
              "      <th>order_status</th>\n",
              "      <th>order_purchase_timestamp</th>\n",
              "      <th>order_approved_at</th>\n",
              "      <th>order_delivered_carrier_date</th>\n",
              "      <th>order_delivered_customer_date</th>\n",
              "      <th>order_estimated_delivery_date</th>\n",
              "    </tr>\n",
              "  </thead>\n",
              "  <tbody>\n",
              "    <tr>\n",
              "      <th>count</th>\n",
              "      <td>99441</td>\n",
              "      <td>99441</td>\n",
              "      <td>99441</td>\n",
              "      <td>99441</td>\n",
              "      <td>99427</td>\n",
              "      <td>99439</td>\n",
              "      <td>99433</td>\n",
              "      <td>99441</td>\n",
              "    </tr>\n",
              "    <tr>\n",
              "      <th>unique</th>\n",
              "      <td>99441</td>\n",
              "      <td>99441</td>\n",
              "      <td>8</td>\n",
              "      <td>NaN</td>\n",
              "      <td>89223</td>\n",
              "      <td>80953</td>\n",
              "      <td>95661</td>\n",
              "      <td>NaN</td>\n",
              "    </tr>\n",
              "    <tr>\n",
              "      <th>top</th>\n",
              "      <td>66dea50a8b16d9b4dee7af250b4be1a5</td>\n",
              "      <td>edb027a75a1449115f6b43211ae02a24</td>\n",
              "      <td>delivered</td>\n",
              "      <td>NaN</td>\n",
              "      <td>Not Delivered</td>\n",
              "      <td>Not Delivered</td>\n",
              "      <td>Not Delivered</td>\n",
              "      <td>NaN</td>\n",
              "    </tr>\n",
              "    <tr>\n",
              "      <th>freq</th>\n",
              "      <td>1</td>\n",
              "      <td>1</td>\n",
              "      <td>96478</td>\n",
              "      <td>NaN</td>\n",
              "      <td>1234</td>\n",
              "      <td>1234</td>\n",
              "      <td>1234</td>\n",
              "      <td>NaN</td>\n",
              "    </tr>\n",
              "    <tr>\n",
              "      <th>mean</th>\n",
              "      <td>NaN</td>\n",
              "      <td>NaN</td>\n",
              "      <td>NaN</td>\n",
              "      <td>2017-12-31 08:43:12.776581120</td>\n",
              "      <td>NaN</td>\n",
              "      <td>NaN</td>\n",
              "      <td>NaN</td>\n",
              "      <td>2018-01-24 03:08:37.730111232</td>\n",
              "    </tr>\n",
              "    <tr>\n",
              "      <th>min</th>\n",
              "      <td>NaN</td>\n",
              "      <td>NaN</td>\n",
              "      <td>NaN</td>\n",
              "      <td>2016-09-04 21:15:19</td>\n",
              "      <td>NaN</td>\n",
              "      <td>NaN</td>\n",
              "      <td>NaN</td>\n",
              "      <td>2016-09-30 00:00:00</td>\n",
              "    </tr>\n",
              "    <tr>\n",
              "      <th>25%</th>\n",
              "      <td>NaN</td>\n",
              "      <td>NaN</td>\n",
              "      <td>NaN</td>\n",
              "      <td>2017-09-12 14:46:19</td>\n",
              "      <td>NaN</td>\n",
              "      <td>NaN</td>\n",
              "      <td>NaN</td>\n",
              "      <td>2017-10-03 00:00:00</td>\n",
              "    </tr>\n",
              "    <tr>\n",
              "      <th>50%</th>\n",
              "      <td>NaN</td>\n",
              "      <td>NaN</td>\n",
              "      <td>NaN</td>\n",
              "      <td>2018-01-18 23:04:36</td>\n",
              "      <td>NaN</td>\n",
              "      <td>NaN</td>\n",
              "      <td>NaN</td>\n",
              "      <td>2018-02-15 00:00:00</td>\n",
              "    </tr>\n",
              "    <tr>\n",
              "      <th>75%</th>\n",
              "      <td>NaN</td>\n",
              "      <td>NaN</td>\n",
              "      <td>NaN</td>\n",
              "      <td>2018-05-04 15:42:16</td>\n",
              "      <td>NaN</td>\n",
              "      <td>NaN</td>\n",
              "      <td>NaN</td>\n",
              "      <td>2018-05-25 00:00:00</td>\n",
              "    </tr>\n",
              "    <tr>\n",
              "      <th>max</th>\n",
              "      <td>NaN</td>\n",
              "      <td>NaN</td>\n",
              "      <td>NaN</td>\n",
              "      <td>2018-10-17 17:30:18</td>\n",
              "      <td>NaN</td>\n",
              "      <td>NaN</td>\n",
              "      <td>NaN</td>\n",
              "      <td>2018-11-12 00:00:00</td>\n",
              "    </tr>\n",
              "  </tbody>\n",
              "</table>\n",
              "</div>"
            ],
            "text/plain": [
              "                                order_id                       customer_id  \\\n",
              "count                              99441                             99441   \n",
              "unique                             99441                             99441   \n",
              "top     66dea50a8b16d9b4dee7af250b4be1a5  edb027a75a1449115f6b43211ae02a24   \n",
              "freq                                   1                                 1   \n",
              "mean                                 NaN                               NaN   \n",
              "min                                  NaN                               NaN   \n",
              "25%                                  NaN                               NaN   \n",
              "50%                                  NaN                               NaN   \n",
              "75%                                  NaN                               NaN   \n",
              "max                                  NaN                               NaN   \n",
              "\n",
              "       order_status       order_purchase_timestamp order_approved_at  \\\n",
              "count         99441                          99441             99427   \n",
              "unique            8                            NaN             89223   \n",
              "top       delivered                            NaN     Not Delivered   \n",
              "freq          96478                            NaN              1234   \n",
              "mean            NaN  2017-12-31 08:43:12.776581120               NaN   \n",
              "min             NaN            2016-09-04 21:15:19               NaN   \n",
              "25%             NaN            2017-09-12 14:46:19               NaN   \n",
              "50%             NaN            2018-01-18 23:04:36               NaN   \n",
              "75%             NaN            2018-05-04 15:42:16               NaN   \n",
              "max             NaN            2018-10-17 17:30:18               NaN   \n",
              "\n",
              "       order_delivered_carrier_date order_delivered_customer_date  \\\n",
              "count                         99439                         99433   \n",
              "unique                        80953                         95661   \n",
              "top                   Not Delivered                 Not Delivered   \n",
              "freq                           1234                          1234   \n",
              "mean                            NaN                           NaN   \n",
              "min                             NaN                           NaN   \n",
              "25%                             NaN                           NaN   \n",
              "50%                             NaN                           NaN   \n",
              "75%                             NaN                           NaN   \n",
              "max                             NaN                           NaN   \n",
              "\n",
              "        order_estimated_delivery_date  \n",
              "count                           99441  \n",
              "unique                            NaN  \n",
              "top                               NaN  \n",
              "freq                              NaN  \n",
              "mean    2018-01-24 03:08:37.730111232  \n",
              "min               2016-09-30 00:00:00  \n",
              "25%               2017-10-03 00:00:00  \n",
              "50%               2018-02-15 00:00:00  \n",
              "75%               2018-05-25 00:00:00  \n",
              "max               2018-11-12 00:00:00  "
            ]
          },
          "execution_count": 53,
          "metadata": {},
          "output_type": "execute_result"
        }
      ],
      "source": [
        "orders_df.describe(include=\"all\")"
      ]
    },
    {
      "cell_type": "markdown",
      "metadata": {
        "id": "54X_usZg4H_w"
      },
      "source": [
        "Insight:\n",
        "Karena missing values berada di parameter order_status = \"delivered\", dan tidak ditemukan pola apa pun untuk mengisi semua missing values tersebut, maka:\n",
        "- semua missing values pada order_approved_at akan diisi dengan \"Approved\"\n",
        "- semua missing values pada order_delivered_carried_date dan order_delivered_customer_date akan diisi dengan \"delivered\""
      ]
    },
    {
      "cell_type": "code",
      "execution_count": 54,
      "metadata": {
        "id": "6R31LoZP37zM"
      },
      "outputs": [],
      "source": [
        "orders_df.loc[orders_df[\"order_approved_at\"].isna(), \"order_approved_at\"] = \"Approved\"\n",
        "orders_df.loc[orders_df[\"order_delivered_carrier_date\"].isna(), \"order_delivered_carrier_date\"] = \"delivered\"\n",
        "orders_df.loc[orders_df[\"order_delivered_customer_date\"].isna(), \"order_delivered_customer_date\"] = \"delivered\""
      ]
    },
    {
      "cell_type": "markdown",
      "metadata": {
        "id": "7TPhMvD99HIp"
      },
      "source": [
        "Cek missing values"
      ]
    },
    {
      "cell_type": "code",
      "execution_count": 55,
      "metadata": {
        "colab": {
          "base_uri": "https://localhost:8080/",
          "height": 335
        },
        "id": "KF2LT7S-9JXM",
        "outputId": "48fa4670-a18d-46e2-8697-29bfac4ce342"
      },
      "outputs": [
        {
          "data": {
            "text/plain": [
              "order_id                         0\n",
              "customer_id                      0\n",
              "order_status                     0\n",
              "order_purchase_timestamp         0\n",
              "order_approved_at                0\n",
              "order_delivered_carrier_date     0\n",
              "order_delivered_customer_date    0\n",
              "order_estimated_delivery_date    0\n",
              "dtype: int64"
            ]
          },
          "execution_count": 55,
          "metadata": {},
          "output_type": "execute_result"
        }
      ],
      "source": [
        "orders_df.isna().sum()"
      ]
    },
    {
      "cell_type": "markdown",
      "metadata": {
        "id": "11t3e1mn9WX8"
      },
      "source": [
        "Insight:\n",
        "Semua missing values telah terisi"
      ]
    },
    {
      "cell_type": "markdown",
      "metadata": {
        "id": "xu7LVEwB9b1p"
      },
      "source": [
        "### Membersihkan data items_df"
      ]
    },
    {
      "cell_type": "markdown",
      "metadata": {
        "id": "ESBaXo2m9z6p"
      },
      "source": [
        "Mengganti tipe data shipping_limit_date menjadi datetime"
      ]
    },
    {
      "cell_type": "code",
      "execution_count": 56,
      "metadata": {
        "id": "2_jX1CTo9-qx"
      },
      "outputs": [],
      "source": [
        "items_df[\"shipping_limit_date\"] = pd.to_datetime(items_df[\"shipping_limit_date\"])"
      ]
    },
    {
      "cell_type": "markdown",
      "metadata": {
        "id": "0wLaL5_8-T0A"
      },
      "source": [
        "Cek informasi data"
      ]
    },
    {
      "cell_type": "code",
      "execution_count": 57,
      "metadata": {
        "colab": {
          "base_uri": "https://localhost:8080/"
        },
        "id": "hD1MFNEk-Wwn",
        "outputId": "4e8d1781-f8d5-4ba9-dfdf-e71e31394511"
      },
      "outputs": [
        {
          "name": "stdout",
          "output_type": "stream",
          "text": [
            "<class 'pandas.core.frame.DataFrame'>\n",
            "RangeIndex: 112650 entries, 0 to 112649\n",
            "Data columns (total 7 columns):\n",
            " #   Column               Non-Null Count   Dtype         \n",
            "---  ------               --------------   -----         \n",
            " 0   order_id             112650 non-null  object        \n",
            " 1   order_item_id        112650 non-null  int64         \n",
            " 2   product_id           112650 non-null  object        \n",
            " 3   seller_id            112650 non-null  object        \n",
            " 4   shipping_limit_date  112650 non-null  datetime64[ns]\n",
            " 5   price                112650 non-null  float64       \n",
            " 6   freight_value        112650 non-null  float64       \n",
            "dtypes: datetime64[ns](1), float64(2), int64(1), object(3)\n",
            "memory usage: 6.0+ MB\n"
          ]
        }
      ],
      "source": [
        "items_df.info()"
      ]
    },
    {
      "cell_type": "markdown",
      "metadata": {
        "id": "kCiilDDJ-ZkY"
      },
      "source": [
        "Insight:\n",
        "Tipe data shipping_limit_date telah diganti menjadi datetime"
      ]
    },
    {
      "cell_type": "markdown",
      "metadata": {
        "id": "6E0kElRk9pHB"
      },
      "source": [
        "### Membersihkan data reviews_df"
      ]
    },
    {
      "cell_type": "markdown",
      "metadata": {
        "id": "8ihPeEpu-ilA"
      },
      "source": [
        "1. Mengganti tipe data review_creation_date dan review_answer_timestamp menjadi datetime"
      ]
    },
    {
      "cell_type": "code",
      "execution_count": 58,
      "metadata": {
        "id": "NlH774U9-vCw"
      },
      "outputs": [],
      "source": [
        "datetime_columns = [\"review_creation_date\", \"review_answer_timestamp\"]\n",
        "\n",
        "for column in datetime_columns:\n",
        "  reviews_df[column] = pd.to_datetime(reviews_df[column])"
      ]
    },
    {
      "cell_type": "markdown",
      "metadata": {
        "id": "Q8lsvvZJ-x7Y"
      },
      "source": [
        "Cek informasi data"
      ]
    },
    {
      "cell_type": "code",
      "execution_count": 59,
      "metadata": {
        "colab": {
          "base_uri": "https://localhost:8080/"
        },
        "id": "kuwwaDve-zcg",
        "outputId": "16675f36-e917-470f-998f-2d808e403036"
      },
      "outputs": [
        {
          "name": "stdout",
          "output_type": "stream",
          "text": [
            "<class 'pandas.core.frame.DataFrame'>\n",
            "RangeIndex: 99224 entries, 0 to 99223\n",
            "Data columns (total 7 columns):\n",
            " #   Column                   Non-Null Count  Dtype         \n",
            "---  ------                   --------------  -----         \n",
            " 0   review_id                99224 non-null  object        \n",
            " 1   order_id                 99224 non-null  object        \n",
            " 2   review_score             99224 non-null  int64         \n",
            " 3   review_comment_title     11568 non-null  object        \n",
            " 4   review_comment_message   40977 non-null  object        \n",
            " 5   review_creation_date     99224 non-null  datetime64[ns]\n",
            " 6   review_answer_timestamp  99224 non-null  datetime64[ns]\n",
            "dtypes: datetime64[ns](2), int64(1), object(4)\n",
            "memory usage: 5.3+ MB\n"
          ]
        }
      ],
      "source": [
        "reviews_df.info()"
      ]
    },
    {
      "cell_type": "markdown",
      "metadata": {
        "id": "uQwiRgWo-6Z_"
      },
      "source": [
        "Insight:\n",
        "Tipe data review_creation_date dan review_answer_timestamp telah diganti menjadi datetime"
      ]
    },
    {
      "cell_type": "markdown",
      "metadata": {
        "id": "m0PB8vfw_Ct_"
      },
      "source": [
        "2. Mengatasi missing values pada kolom review_comment_title dan review_comment_message"
      ]
    },
    {
      "cell_type": "markdown",
      "metadata": {
        "id": "itIVnD_I_U-v"
      },
      "source": [
        "Karena missing values berada di kolom review_comment_title dan review_comment_message, maka:\n",
        "- missing values pada kolom review_comment_title diisi dengan \"No Title\"\n",
        "- missing values pada kolom review_comment_message diisi dengan \"No Comment\""
      ]
    },
    {
      "cell_type": "code",
      "execution_count": 60,
      "metadata": {
        "id": "2zzaQOVf_UIP"
      },
      "outputs": [],
      "source": [
        "reviews_df[\"review_comment_title\"] = reviews_df[\"review_comment_title\"].fillna(\"No Title\")\n",
        "reviews_df[\"review_comment_message\"] = reviews_df[\"review_comment_message\"].fillna(\"No Comment\")"
      ]
    },
    {
      "cell_type": "markdown",
      "metadata": {
        "id": "Qk1CYuRRA0h9"
      },
      "source": [
        "Cek missing values"
      ]
    },
    {
      "cell_type": "code",
      "execution_count": 61,
      "metadata": {
        "colab": {
          "base_uri": "https://localhost:8080/",
          "height": 303
        },
        "id": "VYWzX1W5A3F9",
        "outputId": "3f2a9e4a-da7c-4f6a-b367-93b5db095065"
      },
      "outputs": [
        {
          "data": {
            "text/plain": [
              "review_id                  0\n",
              "order_id                   0\n",
              "review_score               0\n",
              "review_comment_title       0\n",
              "review_comment_message     0\n",
              "review_creation_date       0\n",
              "review_answer_timestamp    0\n",
              "dtype: int64"
            ]
          },
          "execution_count": 61,
          "metadata": {},
          "output_type": "execute_result"
        }
      ],
      "source": [
        "reviews_df.isna().sum()"
      ]
    },
    {
      "cell_type": "markdown",
      "metadata": {
        "id": "7Fv2UruVA7BF"
      },
      "source": [
        "Insight:\n",
        "Semua missing values telah diisi"
      ]
    },
    {
      "cell_type": "markdown",
      "metadata": {
        "id": "oXBkknlD9soS"
      },
      "source": [
        "### Membersihkan data products_df"
      ]
    },
    {
      "cell_type": "markdown",
      "metadata": {
        "id": "oBDlLkRwBWg8"
      },
      "source": [
        "Mengatasi missing values pada kolom product_category_name sampai product_width_cm"
      ]
    },
    {
      "cell_type": "markdown",
      "metadata": {
        "id": "pbPEPdXiEDBS"
      },
      "source": [
        "Ambil nilai mode dari setiap parameter untuk mengisi missing values"
      ]
    },
    {
      "cell_type": "code",
      "execution_count": 62,
      "metadata": {
        "id": "4jRMxpAzEK50"
      },
      "outputs": [],
      "source": [
        "products_df.loc[products_df[\"product_category_name\"].isna(), \"product_category_name\"] = products_df.product_category_name.mode()[0]\n",
        "products_df.loc[products_df[\"product_name_lenght\"].isna(), \"product_name_lenght\"] = products_df.product_name_lenght.mode()[0]\n",
        "products_df.loc[products_df[\"product_description_lenght\"].isna(), \"product_description_lenght\"] = products_df.product_description_lenght.mode()[0]\n",
        "products_df.loc[products_df[\"product_photos_qty\"].isna(), \"product_photos_qty\"] = products_df.product_photos_qty.mode()[0]\n",
        "products_df.loc[products_df[\"product_weight_g\"].isna(), \"product_weight_g\"] = products_df.product_weight_g.mode()[0]\n",
        "products_df.loc[products_df[\"product_length_cm\"].isna(), \"product_length_cm\"] = products_df.product_length_cm.mode()[0]\n",
        "products_df.loc[products_df[\"product_height_cm\"].isna(), \"product_height_cm\"] = products_df.product_height_cm.mode()[0]\n",
        "products_df.loc[products_df[\"product_width_cm\"].isna(), \"product_width_cm\"] = products_df.product_width_cm.mode()[0]"
      ]
    },
    {
      "cell_type": "markdown",
      "metadata": {
        "id": "TC6t4KSoGxba"
      },
      "source": [
        "Cek missing values"
      ]
    },
    {
      "cell_type": "code",
      "execution_count": 63,
      "metadata": {
        "colab": {
          "base_uri": "https://localhost:8080/",
          "height": 366
        },
        "id": "THTJH1i7GyYl",
        "outputId": "e68102d1-8ea5-4279-dca7-1e137ded7284"
      },
      "outputs": [
        {
          "data": {
            "text/plain": [
              "product_id                    0\n",
              "product_category_name         0\n",
              "product_name_lenght           0\n",
              "product_description_lenght    0\n",
              "product_photos_qty            0\n",
              "product_weight_g              0\n",
              "product_length_cm             0\n",
              "product_height_cm             0\n",
              "product_width_cm              0\n",
              "dtype: int64"
            ]
          },
          "execution_count": 63,
          "metadata": {},
          "output_type": "execute_result"
        }
      ],
      "source": [
        "products_df.isna().sum()"
      ]
    },
    {
      "cell_type": "markdown",
      "metadata": {
        "id": "4U3BsGqmG3uG"
      },
      "source": [
        "Insight:\n",
        "Semua missing values telah diisi"
      ]
    },
    {
      "cell_type": "markdown",
      "metadata": {
        "id": "VT4nl-EMVhTv"
      },
      "source": [
        "## Cleaning Data Conclusion"
      ]
    },
    {
      "cell_type": "markdown",
      "metadata": {
        "id": "OBdUGX1lVuCH"
      },
      "source": [
        "1. orders_df memakan waktu yang cukup lama untuk dibersihkan, karena adanya parameter tambahan yang tidak mungkin langsung mengisi missing values dengan satu nilai saja\n",
        "2. products_df menggunakan nilai mode karena tidak ada pola yang dapat dibentuk"
      ]
    },
    {
      "cell_type": "markdown",
      "metadata": {
        "id": "KimWvF0uG-Eo"
      },
      "source": [
        "# Exploratory Data Analysis (EDA)"
      ]
    },
    {
      "cell_type": "markdown",
      "metadata": {
        "id": "ABu61ydKHYvQ"
      },
      "source": [
        "### Menggabungkan Data"
      ]
    },
    {
      "cell_type": "markdown",
      "metadata": {
        "id": "sUHxVcsbOCOQ"
      },
      "source": [
        "Data customers_df dengan orders_df"
      ]
    },
    {
      "cell_type": "code",
      "execution_count": 64,
      "metadata": {
        "colab": {
          "base_uri": "https://localhost:8080/",
          "height": 243
        },
        "id": "gsNa_yvzHQ7H",
        "outputId": "d93742cd-776d-4425-90fe-6ee0f8c9735c"
      },
      "outputs": [
        {
          "data": {
            "text/html": [
              "<div>\n",
              "<style scoped>\n",
              "    .dataframe tbody tr th:only-of-type {\n",
              "        vertical-align: middle;\n",
              "    }\n",
              "\n",
              "    .dataframe tbody tr th {\n",
              "        vertical-align: top;\n",
              "    }\n",
              "\n",
              "    .dataframe thead th {\n",
              "        text-align: right;\n",
              "    }\n",
              "</style>\n",
              "<table border=\"1\" class=\"dataframe\">\n",
              "  <thead>\n",
              "    <tr style=\"text-align: right;\">\n",
              "      <th></th>\n",
              "      <th>order_id</th>\n",
              "      <th>customer_id</th>\n",
              "      <th>order_status</th>\n",
              "      <th>order_purchase_timestamp</th>\n",
              "      <th>order_approved_at</th>\n",
              "      <th>order_delivered_carrier_date</th>\n",
              "      <th>order_delivered_customer_date</th>\n",
              "      <th>order_estimated_delivery_date</th>\n",
              "      <th>customer_unique_id</th>\n",
              "      <th>customer_zip_code_prefix</th>\n",
              "      <th>customer_city</th>\n",
              "      <th>customer_state</th>\n",
              "    </tr>\n",
              "  </thead>\n",
              "  <tbody>\n",
              "    <tr>\n",
              "      <th>0</th>\n",
              "      <td>e481f51cbdc54678b7cc49136f2d6af7</td>\n",
              "      <td>9ef432eb6251297304e76186b10a928d</td>\n",
              "      <td>delivered</td>\n",
              "      <td>2017-10-02 10:56:33</td>\n",
              "      <td>2017-10-02 11:07:15</td>\n",
              "      <td>2017-10-04 19:55:00</td>\n",
              "      <td>2017-10-10 21:25:13</td>\n",
              "      <td>2017-10-18</td>\n",
              "      <td>7c396fd4830fd04220f754e42b4e5bff</td>\n",
              "      <td>3149</td>\n",
              "      <td>sao paulo</td>\n",
              "      <td>SP</td>\n",
              "    </tr>\n",
              "    <tr>\n",
              "      <th>1</th>\n",
              "      <td>53cdb2fc8bc7dce0b6741e2150273451</td>\n",
              "      <td>b0830fb4747a6c6d20dea0b8c802d7ef</td>\n",
              "      <td>delivered</td>\n",
              "      <td>2018-07-24 20:41:37</td>\n",
              "      <td>2018-07-26 03:24:27</td>\n",
              "      <td>2018-07-26 14:31:00</td>\n",
              "      <td>2018-08-07 15:27:45</td>\n",
              "      <td>2018-08-13</td>\n",
              "      <td>af07308b275d755c9edb36a90c618231</td>\n",
              "      <td>47813</td>\n",
              "      <td>barreiras</td>\n",
              "      <td>BA</td>\n",
              "    </tr>\n",
              "    <tr>\n",
              "      <th>2</th>\n",
              "      <td>47770eb9100c2d0c44946d9cf07ec65d</td>\n",
              "      <td>41ce2a54c0b03bf3443c3d931a367089</td>\n",
              "      <td>delivered</td>\n",
              "      <td>2018-08-08 08:38:49</td>\n",
              "      <td>2018-08-08 08:55:23</td>\n",
              "      <td>2018-08-08 13:50:00</td>\n",
              "      <td>2018-08-17 18:06:29</td>\n",
              "      <td>2018-09-04</td>\n",
              "      <td>3a653a41f6f9fc3d2a113cf8398680e8</td>\n",
              "      <td>75265</td>\n",
              "      <td>vianopolis</td>\n",
              "      <td>GO</td>\n",
              "    </tr>\n",
              "    <tr>\n",
              "      <th>3</th>\n",
              "      <td>949d5b44dbf5de918fe9c16f97b45f8a</td>\n",
              "      <td>f88197465ea7920adcdbec7375364d82</td>\n",
              "      <td>delivered</td>\n",
              "      <td>2017-11-18 19:28:06</td>\n",
              "      <td>2017-11-18 19:45:59</td>\n",
              "      <td>2017-11-22 13:39:59</td>\n",
              "      <td>2017-12-02 00:28:42</td>\n",
              "      <td>2017-12-15</td>\n",
              "      <td>7c142cf63193a1473d2e66489a9ae977</td>\n",
              "      <td>59296</td>\n",
              "      <td>sao goncalo do amarante</td>\n",
              "      <td>RN</td>\n",
              "    </tr>\n",
              "    <tr>\n",
              "      <th>4</th>\n",
              "      <td>ad21c59c0840e6cb83a9ceb5573f8159</td>\n",
              "      <td>8ab97904e6daea8866dbdbc4fb7aad2c</td>\n",
              "      <td>delivered</td>\n",
              "      <td>2018-02-13 21:18:39</td>\n",
              "      <td>2018-02-13 22:20:29</td>\n",
              "      <td>2018-02-14 19:46:34</td>\n",
              "      <td>2018-02-16 18:17:02</td>\n",
              "      <td>2018-02-26</td>\n",
              "      <td>72632f0f9dd73dfee390c9b22eb56dd6</td>\n",
              "      <td>9195</td>\n",
              "      <td>santo andre</td>\n",
              "      <td>SP</td>\n",
              "    </tr>\n",
              "  </tbody>\n",
              "</table>\n",
              "</div>"
            ],
            "text/plain": [
              "                           order_id                       customer_id  \\\n",
              "0  e481f51cbdc54678b7cc49136f2d6af7  9ef432eb6251297304e76186b10a928d   \n",
              "1  53cdb2fc8bc7dce0b6741e2150273451  b0830fb4747a6c6d20dea0b8c802d7ef   \n",
              "2  47770eb9100c2d0c44946d9cf07ec65d  41ce2a54c0b03bf3443c3d931a367089   \n",
              "3  949d5b44dbf5de918fe9c16f97b45f8a  f88197465ea7920adcdbec7375364d82   \n",
              "4  ad21c59c0840e6cb83a9ceb5573f8159  8ab97904e6daea8866dbdbc4fb7aad2c   \n",
              "\n",
              "  order_status order_purchase_timestamp    order_approved_at  \\\n",
              "0    delivered      2017-10-02 10:56:33  2017-10-02 11:07:15   \n",
              "1    delivered      2018-07-24 20:41:37  2018-07-26 03:24:27   \n",
              "2    delivered      2018-08-08 08:38:49  2018-08-08 08:55:23   \n",
              "3    delivered      2017-11-18 19:28:06  2017-11-18 19:45:59   \n",
              "4    delivered      2018-02-13 21:18:39  2018-02-13 22:20:29   \n",
              "\n",
              "  order_delivered_carrier_date order_delivered_customer_date  \\\n",
              "0          2017-10-04 19:55:00           2017-10-10 21:25:13   \n",
              "1          2018-07-26 14:31:00           2018-08-07 15:27:45   \n",
              "2          2018-08-08 13:50:00           2018-08-17 18:06:29   \n",
              "3          2017-11-22 13:39:59           2017-12-02 00:28:42   \n",
              "4          2018-02-14 19:46:34           2018-02-16 18:17:02   \n",
              "\n",
              "  order_estimated_delivery_date                customer_unique_id  \\\n",
              "0                    2017-10-18  7c396fd4830fd04220f754e42b4e5bff   \n",
              "1                    2018-08-13  af07308b275d755c9edb36a90c618231   \n",
              "2                    2018-09-04  3a653a41f6f9fc3d2a113cf8398680e8   \n",
              "3                    2017-12-15  7c142cf63193a1473d2e66489a9ae977   \n",
              "4                    2018-02-26  72632f0f9dd73dfee390c9b22eb56dd6   \n",
              "\n",
              "   customer_zip_code_prefix            customer_city customer_state  \n",
              "0                      3149                sao paulo             SP  \n",
              "1                     47813                barreiras             BA  \n",
              "2                     75265               vianopolis             GO  \n",
              "3                     59296  sao goncalo do amarante             RN  \n",
              "4                      9195              santo andre             SP  "
            ]
          },
          "execution_count": 64,
          "metadata": {},
          "output_type": "execute_result"
        }
      ],
      "source": [
        "orders_customers_df = pd.merge(\n",
        "    left=orders_df,\n",
        "    right=customers_df,\n",
        "    how=\"left\",\n",
        "    left_on=\"customer_id\",\n",
        "    right_on=\"customer_id\"\n",
        ")\n",
        "orders_customers_df.head()"
      ]
    },
    {
      "cell_type": "markdown",
      "metadata": {
        "id": "Pj2_YPSGOkUG"
      },
      "source": [
        "Data items_df dengan products_df"
      ]
    },
    {
      "cell_type": "code",
      "execution_count": 65,
      "metadata": {
        "colab": {
          "base_uri": "https://localhost:8080/",
          "height": 226
        },
        "id": "BgIO181zPHoQ",
        "outputId": "661bb388-a3bd-4c4d-dbe1-c8ac6f691d86"
      },
      "outputs": [
        {
          "data": {
            "text/html": [
              "<div>\n",
              "<style scoped>\n",
              "    .dataframe tbody tr th:only-of-type {\n",
              "        vertical-align: middle;\n",
              "    }\n",
              "\n",
              "    .dataframe tbody tr th {\n",
              "        vertical-align: top;\n",
              "    }\n",
              "\n",
              "    .dataframe thead th {\n",
              "        text-align: right;\n",
              "    }\n",
              "</style>\n",
              "<table border=\"1\" class=\"dataframe\">\n",
              "  <thead>\n",
              "    <tr style=\"text-align: right;\">\n",
              "      <th></th>\n",
              "      <th>order_id</th>\n",
              "      <th>order_item_id</th>\n",
              "      <th>product_id</th>\n",
              "      <th>seller_id</th>\n",
              "      <th>shipping_limit_date</th>\n",
              "      <th>price</th>\n",
              "      <th>freight_value</th>\n",
              "      <th>product_category_name</th>\n",
              "      <th>product_name_lenght</th>\n",
              "      <th>product_description_lenght</th>\n",
              "      <th>product_photos_qty</th>\n",
              "      <th>product_weight_g</th>\n",
              "      <th>product_length_cm</th>\n",
              "      <th>product_height_cm</th>\n",
              "      <th>product_width_cm</th>\n",
              "    </tr>\n",
              "  </thead>\n",
              "  <tbody>\n",
              "    <tr>\n",
              "      <th>0</th>\n",
              "      <td>00010242fe8c5a6d1ba2dd792cb16214</td>\n",
              "      <td>1</td>\n",
              "      <td>4244733e06e7ecb4970a6e2683c13e61</td>\n",
              "      <td>48436dade18ac8b2bce089ec2a041202</td>\n",
              "      <td>2017-09-19 09:45:35</td>\n",
              "      <td>58.90</td>\n",
              "      <td>13.29</td>\n",
              "      <td>cool_stuff</td>\n",
              "      <td>58.0</td>\n",
              "      <td>598.0</td>\n",
              "      <td>4.0</td>\n",
              "      <td>650.0</td>\n",
              "      <td>28.0</td>\n",
              "      <td>9.0</td>\n",
              "      <td>14.0</td>\n",
              "    </tr>\n",
              "    <tr>\n",
              "      <th>1</th>\n",
              "      <td>00018f77f2f0320c557190d7a144bdd3</td>\n",
              "      <td>1</td>\n",
              "      <td>e5f2d52b802189ee658865ca93d83a8f</td>\n",
              "      <td>dd7ddc04e1b6c2c614352b383efe2d36</td>\n",
              "      <td>2017-05-03 11:05:13</td>\n",
              "      <td>239.90</td>\n",
              "      <td>19.93</td>\n",
              "      <td>pet_shop</td>\n",
              "      <td>56.0</td>\n",
              "      <td>239.0</td>\n",
              "      <td>2.0</td>\n",
              "      <td>30000.0</td>\n",
              "      <td>50.0</td>\n",
              "      <td>30.0</td>\n",
              "      <td>40.0</td>\n",
              "    </tr>\n",
              "    <tr>\n",
              "      <th>2</th>\n",
              "      <td>000229ec398224ef6ca0657da4fc703e</td>\n",
              "      <td>1</td>\n",
              "      <td>c777355d18b72b67abbeef9df44fd0fd</td>\n",
              "      <td>5b51032eddd242adc84c38acab88f23d</td>\n",
              "      <td>2018-01-18 14:48:30</td>\n",
              "      <td>199.00</td>\n",
              "      <td>17.87</td>\n",
              "      <td>moveis_decoracao</td>\n",
              "      <td>59.0</td>\n",
              "      <td>695.0</td>\n",
              "      <td>2.0</td>\n",
              "      <td>3050.0</td>\n",
              "      <td>33.0</td>\n",
              "      <td>13.0</td>\n",
              "      <td>33.0</td>\n",
              "    </tr>\n",
              "    <tr>\n",
              "      <th>3</th>\n",
              "      <td>00024acbcdf0a6daa1e931b038114c75</td>\n",
              "      <td>1</td>\n",
              "      <td>7634da152a4610f1595efa32f14722fc</td>\n",
              "      <td>9d7a1d34a5052409006425275ba1c2b4</td>\n",
              "      <td>2018-08-15 10:10:18</td>\n",
              "      <td>12.99</td>\n",
              "      <td>12.79</td>\n",
              "      <td>perfumaria</td>\n",
              "      <td>42.0</td>\n",
              "      <td>480.0</td>\n",
              "      <td>1.0</td>\n",
              "      <td>200.0</td>\n",
              "      <td>16.0</td>\n",
              "      <td>10.0</td>\n",
              "      <td>15.0</td>\n",
              "    </tr>\n",
              "    <tr>\n",
              "      <th>4</th>\n",
              "      <td>00042b26cf59d7ce69dfabb4e55b4fd9</td>\n",
              "      <td>1</td>\n",
              "      <td>ac6c3623068f30de03045865e4e10089</td>\n",
              "      <td>df560393f3a51e74553ab94004ba5c87</td>\n",
              "      <td>2017-02-13 13:57:51</td>\n",
              "      <td>199.90</td>\n",
              "      <td>18.14</td>\n",
              "      <td>ferramentas_jardim</td>\n",
              "      <td>59.0</td>\n",
              "      <td>409.0</td>\n",
              "      <td>1.0</td>\n",
              "      <td>3750.0</td>\n",
              "      <td>35.0</td>\n",
              "      <td>40.0</td>\n",
              "      <td>30.0</td>\n",
              "    </tr>\n",
              "  </tbody>\n",
              "</table>\n",
              "</div>"
            ],
            "text/plain": [
              "                           order_id  order_item_id  \\\n",
              "0  00010242fe8c5a6d1ba2dd792cb16214              1   \n",
              "1  00018f77f2f0320c557190d7a144bdd3              1   \n",
              "2  000229ec398224ef6ca0657da4fc703e              1   \n",
              "3  00024acbcdf0a6daa1e931b038114c75              1   \n",
              "4  00042b26cf59d7ce69dfabb4e55b4fd9              1   \n",
              "\n",
              "                         product_id                         seller_id  \\\n",
              "0  4244733e06e7ecb4970a6e2683c13e61  48436dade18ac8b2bce089ec2a041202   \n",
              "1  e5f2d52b802189ee658865ca93d83a8f  dd7ddc04e1b6c2c614352b383efe2d36   \n",
              "2  c777355d18b72b67abbeef9df44fd0fd  5b51032eddd242adc84c38acab88f23d   \n",
              "3  7634da152a4610f1595efa32f14722fc  9d7a1d34a5052409006425275ba1c2b4   \n",
              "4  ac6c3623068f30de03045865e4e10089  df560393f3a51e74553ab94004ba5c87   \n",
              "\n",
              "  shipping_limit_date   price  freight_value product_category_name  \\\n",
              "0 2017-09-19 09:45:35   58.90          13.29            cool_stuff   \n",
              "1 2017-05-03 11:05:13  239.90          19.93              pet_shop   \n",
              "2 2018-01-18 14:48:30  199.00          17.87      moveis_decoracao   \n",
              "3 2018-08-15 10:10:18   12.99          12.79            perfumaria   \n",
              "4 2017-02-13 13:57:51  199.90          18.14    ferramentas_jardim   \n",
              "\n",
              "   product_name_lenght  product_description_lenght  product_photos_qty  \\\n",
              "0                 58.0                       598.0                 4.0   \n",
              "1                 56.0                       239.0                 2.0   \n",
              "2                 59.0                       695.0                 2.0   \n",
              "3                 42.0                       480.0                 1.0   \n",
              "4                 59.0                       409.0                 1.0   \n",
              "\n",
              "   product_weight_g  product_length_cm  product_height_cm  product_width_cm  \n",
              "0             650.0               28.0                9.0              14.0  \n",
              "1           30000.0               50.0               30.0              40.0  \n",
              "2            3050.0               33.0               13.0              33.0  \n",
              "3             200.0               16.0               10.0              15.0  \n",
              "4            3750.0               35.0               40.0              30.0  "
            ]
          },
          "execution_count": 65,
          "metadata": {},
          "output_type": "execute_result"
        }
      ],
      "source": [
        "products_items_df = pd.merge(\n",
        "    left=items_df,\n",
        "    right=products_df,\n",
        "    how=\"left\",\n",
        "    left_on=\"product_id\",\n",
        "    right_on=\"product_id\"\n",
        ")\n",
        "products_items_df.head()"
      ]
    },
    {
      "cell_type": "markdown",
      "metadata": {
        "id": "5AuLXP3RR_vS"
      },
      "source": [
        "Data orders_customers_df dengan products_items_df"
      ]
    },
    {
      "cell_type": "code",
      "execution_count": 66,
      "metadata": {
        "colab": {
          "base_uri": "https://localhost:8080/",
          "height": 255
        },
        "id": "gmIuPnC7SKRs",
        "outputId": "14f438f8-9901-4f9e-c918-87fc2513d867"
      },
      "outputs": [
        {
          "data": {
            "text/html": [
              "<div>\n",
              "<style scoped>\n",
              "    .dataframe tbody tr th:only-of-type {\n",
              "        vertical-align: middle;\n",
              "    }\n",
              "\n",
              "    .dataframe tbody tr th {\n",
              "        vertical-align: top;\n",
              "    }\n",
              "\n",
              "    .dataframe thead th {\n",
              "        text-align: right;\n",
              "    }\n",
              "</style>\n",
              "<table border=\"1\" class=\"dataframe\">\n",
              "  <thead>\n",
              "    <tr style=\"text-align: right;\">\n",
              "      <th></th>\n",
              "      <th>order_id</th>\n",
              "      <th>customer_id</th>\n",
              "      <th>order_status</th>\n",
              "      <th>order_purchase_timestamp</th>\n",
              "      <th>order_approved_at</th>\n",
              "      <th>order_delivered_carrier_date</th>\n",
              "      <th>order_delivered_customer_date</th>\n",
              "      <th>order_estimated_delivery_date</th>\n",
              "      <th>customer_unique_id</th>\n",
              "      <th>customer_zip_code_prefix</th>\n",
              "      <th>...</th>\n",
              "      <th>price</th>\n",
              "      <th>freight_value</th>\n",
              "      <th>product_category_name</th>\n",
              "      <th>product_name_lenght</th>\n",
              "      <th>product_description_lenght</th>\n",
              "      <th>product_photos_qty</th>\n",
              "      <th>product_weight_g</th>\n",
              "      <th>product_length_cm</th>\n",
              "      <th>product_height_cm</th>\n",
              "      <th>product_width_cm</th>\n",
              "    </tr>\n",
              "  </thead>\n",
              "  <tbody>\n",
              "    <tr>\n",
              "      <th>0</th>\n",
              "      <td>e481f51cbdc54678b7cc49136f2d6af7</td>\n",
              "      <td>9ef432eb6251297304e76186b10a928d</td>\n",
              "      <td>delivered</td>\n",
              "      <td>2017-10-02 10:56:33</td>\n",
              "      <td>2017-10-02 11:07:15</td>\n",
              "      <td>2017-10-04 19:55:00</td>\n",
              "      <td>2017-10-10 21:25:13</td>\n",
              "      <td>2017-10-18</td>\n",
              "      <td>7c396fd4830fd04220f754e42b4e5bff</td>\n",
              "      <td>3149</td>\n",
              "      <td>...</td>\n",
              "      <td>29.99</td>\n",
              "      <td>8.72</td>\n",
              "      <td>utilidades_domesticas</td>\n",
              "      <td>40.0</td>\n",
              "      <td>268.0</td>\n",
              "      <td>4.0</td>\n",
              "      <td>500.0</td>\n",
              "      <td>19.0</td>\n",
              "      <td>8.0</td>\n",
              "      <td>13.0</td>\n",
              "    </tr>\n",
              "    <tr>\n",
              "      <th>1</th>\n",
              "      <td>53cdb2fc8bc7dce0b6741e2150273451</td>\n",
              "      <td>b0830fb4747a6c6d20dea0b8c802d7ef</td>\n",
              "      <td>delivered</td>\n",
              "      <td>2018-07-24 20:41:37</td>\n",
              "      <td>2018-07-26 03:24:27</td>\n",
              "      <td>2018-07-26 14:31:00</td>\n",
              "      <td>2018-08-07 15:27:45</td>\n",
              "      <td>2018-08-13</td>\n",
              "      <td>af07308b275d755c9edb36a90c618231</td>\n",
              "      <td>47813</td>\n",
              "      <td>...</td>\n",
              "      <td>118.70</td>\n",
              "      <td>22.76</td>\n",
              "      <td>perfumaria</td>\n",
              "      <td>29.0</td>\n",
              "      <td>178.0</td>\n",
              "      <td>1.0</td>\n",
              "      <td>400.0</td>\n",
              "      <td>19.0</td>\n",
              "      <td>13.0</td>\n",
              "      <td>19.0</td>\n",
              "    </tr>\n",
              "    <tr>\n",
              "      <th>2</th>\n",
              "      <td>47770eb9100c2d0c44946d9cf07ec65d</td>\n",
              "      <td>41ce2a54c0b03bf3443c3d931a367089</td>\n",
              "      <td>delivered</td>\n",
              "      <td>2018-08-08 08:38:49</td>\n",
              "      <td>2018-08-08 08:55:23</td>\n",
              "      <td>2018-08-08 13:50:00</td>\n",
              "      <td>2018-08-17 18:06:29</td>\n",
              "      <td>2018-09-04</td>\n",
              "      <td>3a653a41f6f9fc3d2a113cf8398680e8</td>\n",
              "      <td>75265</td>\n",
              "      <td>...</td>\n",
              "      <td>159.90</td>\n",
              "      <td>19.22</td>\n",
              "      <td>automotivo</td>\n",
              "      <td>46.0</td>\n",
              "      <td>232.0</td>\n",
              "      <td>1.0</td>\n",
              "      <td>420.0</td>\n",
              "      <td>24.0</td>\n",
              "      <td>19.0</td>\n",
              "      <td>21.0</td>\n",
              "    </tr>\n",
              "    <tr>\n",
              "      <th>3</th>\n",
              "      <td>949d5b44dbf5de918fe9c16f97b45f8a</td>\n",
              "      <td>f88197465ea7920adcdbec7375364d82</td>\n",
              "      <td>delivered</td>\n",
              "      <td>2017-11-18 19:28:06</td>\n",
              "      <td>2017-11-18 19:45:59</td>\n",
              "      <td>2017-11-22 13:39:59</td>\n",
              "      <td>2017-12-02 00:28:42</td>\n",
              "      <td>2017-12-15</td>\n",
              "      <td>7c142cf63193a1473d2e66489a9ae977</td>\n",
              "      <td>59296</td>\n",
              "      <td>...</td>\n",
              "      <td>45.00</td>\n",
              "      <td>27.20</td>\n",
              "      <td>pet_shop</td>\n",
              "      <td>59.0</td>\n",
              "      <td>468.0</td>\n",
              "      <td>3.0</td>\n",
              "      <td>450.0</td>\n",
              "      <td>30.0</td>\n",
              "      <td>10.0</td>\n",
              "      <td>20.0</td>\n",
              "    </tr>\n",
              "    <tr>\n",
              "      <th>4</th>\n",
              "      <td>ad21c59c0840e6cb83a9ceb5573f8159</td>\n",
              "      <td>8ab97904e6daea8866dbdbc4fb7aad2c</td>\n",
              "      <td>delivered</td>\n",
              "      <td>2018-02-13 21:18:39</td>\n",
              "      <td>2018-02-13 22:20:29</td>\n",
              "      <td>2018-02-14 19:46:34</td>\n",
              "      <td>2018-02-16 18:17:02</td>\n",
              "      <td>2018-02-26</td>\n",
              "      <td>72632f0f9dd73dfee390c9b22eb56dd6</td>\n",
              "      <td>9195</td>\n",
              "      <td>...</td>\n",
              "      <td>19.90</td>\n",
              "      <td>8.72</td>\n",
              "      <td>papelaria</td>\n",
              "      <td>38.0</td>\n",
              "      <td>316.0</td>\n",
              "      <td>4.0</td>\n",
              "      <td>250.0</td>\n",
              "      <td>51.0</td>\n",
              "      <td>15.0</td>\n",
              "      <td>15.0</td>\n",
              "    </tr>\n",
              "  </tbody>\n",
              "</table>\n",
              "<p>5 rows × 26 columns</p>\n",
              "</div>"
            ],
            "text/plain": [
              "                           order_id                       customer_id  \\\n",
              "0  e481f51cbdc54678b7cc49136f2d6af7  9ef432eb6251297304e76186b10a928d   \n",
              "1  53cdb2fc8bc7dce0b6741e2150273451  b0830fb4747a6c6d20dea0b8c802d7ef   \n",
              "2  47770eb9100c2d0c44946d9cf07ec65d  41ce2a54c0b03bf3443c3d931a367089   \n",
              "3  949d5b44dbf5de918fe9c16f97b45f8a  f88197465ea7920adcdbec7375364d82   \n",
              "4  ad21c59c0840e6cb83a9ceb5573f8159  8ab97904e6daea8866dbdbc4fb7aad2c   \n",
              "\n",
              "  order_status order_purchase_timestamp    order_approved_at  \\\n",
              "0    delivered      2017-10-02 10:56:33  2017-10-02 11:07:15   \n",
              "1    delivered      2018-07-24 20:41:37  2018-07-26 03:24:27   \n",
              "2    delivered      2018-08-08 08:38:49  2018-08-08 08:55:23   \n",
              "3    delivered      2017-11-18 19:28:06  2017-11-18 19:45:59   \n",
              "4    delivered      2018-02-13 21:18:39  2018-02-13 22:20:29   \n",
              "\n",
              "  order_delivered_carrier_date order_delivered_customer_date  \\\n",
              "0          2017-10-04 19:55:00           2017-10-10 21:25:13   \n",
              "1          2018-07-26 14:31:00           2018-08-07 15:27:45   \n",
              "2          2018-08-08 13:50:00           2018-08-17 18:06:29   \n",
              "3          2017-11-22 13:39:59           2017-12-02 00:28:42   \n",
              "4          2018-02-14 19:46:34           2018-02-16 18:17:02   \n",
              "\n",
              "  order_estimated_delivery_date                customer_unique_id  \\\n",
              "0                    2017-10-18  7c396fd4830fd04220f754e42b4e5bff   \n",
              "1                    2018-08-13  af07308b275d755c9edb36a90c618231   \n",
              "2                    2018-09-04  3a653a41f6f9fc3d2a113cf8398680e8   \n",
              "3                    2017-12-15  7c142cf63193a1473d2e66489a9ae977   \n",
              "4                    2018-02-26  72632f0f9dd73dfee390c9b22eb56dd6   \n",
              "\n",
              "   customer_zip_code_prefix  ...   price freight_value  product_category_name  \\\n",
              "0                      3149  ...   29.99          8.72  utilidades_domesticas   \n",
              "1                     47813  ...  118.70         22.76             perfumaria   \n",
              "2                     75265  ...  159.90         19.22             automotivo   \n",
              "3                     59296  ...   45.00         27.20               pet_shop   \n",
              "4                      9195  ...   19.90          8.72              papelaria   \n",
              "\n",
              "  product_name_lenght product_description_lenght product_photos_qty  \\\n",
              "0                40.0                      268.0                4.0   \n",
              "1                29.0                      178.0                1.0   \n",
              "2                46.0                      232.0                1.0   \n",
              "3                59.0                      468.0                3.0   \n",
              "4                38.0                      316.0                4.0   \n",
              "\n",
              "   product_weight_g  product_length_cm product_height_cm  product_width_cm  \n",
              "0             500.0               19.0               8.0              13.0  \n",
              "1             400.0               19.0              13.0              19.0  \n",
              "2             420.0               24.0              19.0              21.0  \n",
              "3             450.0               30.0              10.0              20.0  \n",
              "4             250.0               51.0              15.0              15.0  \n",
              "\n",
              "[5 rows x 26 columns]"
            ]
          },
          "execution_count": 66,
          "metadata": {},
          "output_type": "execute_result"
        }
      ],
      "source": [
        "orders_customers_products_items_df = pd.merge(\n",
        "    left=orders_customers_df,\n",
        "    right=products_items_df,\n",
        "    how=\"left\",\n",
        "    left_on=\"order_id\",\n",
        "    right_on=\"order_id\"\n",
        ")\n",
        "orders_customers_products_items_df.head()"
      ]
    },
    {
      "cell_type": "markdown",
      "metadata": {
        "id": "QgV69dJxS_Xq"
      },
      "source": [
        "Data orders_customers_products_items_df dengan product_categoty_df"
      ]
    },
    {
      "cell_type": "code",
      "execution_count": 67,
      "metadata": {
        "colab": {
          "base_uri": "https://localhost:8080/",
          "height": 255
        },
        "id": "bpZzo5vwTI0J",
        "outputId": "1ef42ac8-367f-47bf-fce8-819d725c4586"
      },
      "outputs": [
        {
          "data": {
            "text/html": [
              "<div>\n",
              "<style scoped>\n",
              "    .dataframe tbody tr th:only-of-type {\n",
              "        vertical-align: middle;\n",
              "    }\n",
              "\n",
              "    .dataframe tbody tr th {\n",
              "        vertical-align: top;\n",
              "    }\n",
              "\n",
              "    .dataframe thead th {\n",
              "        text-align: right;\n",
              "    }\n",
              "</style>\n",
              "<table border=\"1\" class=\"dataframe\">\n",
              "  <thead>\n",
              "    <tr style=\"text-align: right;\">\n",
              "      <th></th>\n",
              "      <th>order_id</th>\n",
              "      <th>customer_id</th>\n",
              "      <th>order_status</th>\n",
              "      <th>order_purchase_timestamp</th>\n",
              "      <th>order_approved_at</th>\n",
              "      <th>order_delivered_carrier_date</th>\n",
              "      <th>order_delivered_customer_date</th>\n",
              "      <th>order_estimated_delivery_date</th>\n",
              "      <th>customer_unique_id</th>\n",
              "      <th>customer_zip_code_prefix</th>\n",
              "      <th>...</th>\n",
              "      <th>freight_value</th>\n",
              "      <th>product_category_name</th>\n",
              "      <th>product_name_lenght</th>\n",
              "      <th>product_description_lenght</th>\n",
              "      <th>product_photos_qty</th>\n",
              "      <th>product_weight_g</th>\n",
              "      <th>product_length_cm</th>\n",
              "      <th>product_height_cm</th>\n",
              "      <th>product_width_cm</th>\n",
              "      <th>product_category_name_english</th>\n",
              "    </tr>\n",
              "  </thead>\n",
              "  <tbody>\n",
              "    <tr>\n",
              "      <th>0</th>\n",
              "      <td>e481f51cbdc54678b7cc49136f2d6af7</td>\n",
              "      <td>9ef432eb6251297304e76186b10a928d</td>\n",
              "      <td>delivered</td>\n",
              "      <td>2017-10-02 10:56:33</td>\n",
              "      <td>2017-10-02 11:07:15</td>\n",
              "      <td>2017-10-04 19:55:00</td>\n",
              "      <td>2017-10-10 21:25:13</td>\n",
              "      <td>2017-10-18</td>\n",
              "      <td>7c396fd4830fd04220f754e42b4e5bff</td>\n",
              "      <td>3149</td>\n",
              "      <td>...</td>\n",
              "      <td>8.72</td>\n",
              "      <td>utilidades_domesticas</td>\n",
              "      <td>40.0</td>\n",
              "      <td>268.0</td>\n",
              "      <td>4.0</td>\n",
              "      <td>500.0</td>\n",
              "      <td>19.0</td>\n",
              "      <td>8.0</td>\n",
              "      <td>13.0</td>\n",
              "      <td>housewares</td>\n",
              "    </tr>\n",
              "    <tr>\n",
              "      <th>1</th>\n",
              "      <td>53cdb2fc8bc7dce0b6741e2150273451</td>\n",
              "      <td>b0830fb4747a6c6d20dea0b8c802d7ef</td>\n",
              "      <td>delivered</td>\n",
              "      <td>2018-07-24 20:41:37</td>\n",
              "      <td>2018-07-26 03:24:27</td>\n",
              "      <td>2018-07-26 14:31:00</td>\n",
              "      <td>2018-08-07 15:27:45</td>\n",
              "      <td>2018-08-13</td>\n",
              "      <td>af07308b275d755c9edb36a90c618231</td>\n",
              "      <td>47813</td>\n",
              "      <td>...</td>\n",
              "      <td>22.76</td>\n",
              "      <td>perfumaria</td>\n",
              "      <td>29.0</td>\n",
              "      <td>178.0</td>\n",
              "      <td>1.0</td>\n",
              "      <td>400.0</td>\n",
              "      <td>19.0</td>\n",
              "      <td>13.0</td>\n",
              "      <td>19.0</td>\n",
              "      <td>perfumery</td>\n",
              "    </tr>\n",
              "    <tr>\n",
              "      <th>2</th>\n",
              "      <td>47770eb9100c2d0c44946d9cf07ec65d</td>\n",
              "      <td>41ce2a54c0b03bf3443c3d931a367089</td>\n",
              "      <td>delivered</td>\n",
              "      <td>2018-08-08 08:38:49</td>\n",
              "      <td>2018-08-08 08:55:23</td>\n",
              "      <td>2018-08-08 13:50:00</td>\n",
              "      <td>2018-08-17 18:06:29</td>\n",
              "      <td>2018-09-04</td>\n",
              "      <td>3a653a41f6f9fc3d2a113cf8398680e8</td>\n",
              "      <td>75265</td>\n",
              "      <td>...</td>\n",
              "      <td>19.22</td>\n",
              "      <td>automotivo</td>\n",
              "      <td>46.0</td>\n",
              "      <td>232.0</td>\n",
              "      <td>1.0</td>\n",
              "      <td>420.0</td>\n",
              "      <td>24.0</td>\n",
              "      <td>19.0</td>\n",
              "      <td>21.0</td>\n",
              "      <td>auto</td>\n",
              "    </tr>\n",
              "    <tr>\n",
              "      <th>3</th>\n",
              "      <td>949d5b44dbf5de918fe9c16f97b45f8a</td>\n",
              "      <td>f88197465ea7920adcdbec7375364d82</td>\n",
              "      <td>delivered</td>\n",
              "      <td>2017-11-18 19:28:06</td>\n",
              "      <td>2017-11-18 19:45:59</td>\n",
              "      <td>2017-11-22 13:39:59</td>\n",
              "      <td>2017-12-02 00:28:42</td>\n",
              "      <td>2017-12-15</td>\n",
              "      <td>7c142cf63193a1473d2e66489a9ae977</td>\n",
              "      <td>59296</td>\n",
              "      <td>...</td>\n",
              "      <td>27.20</td>\n",
              "      <td>pet_shop</td>\n",
              "      <td>59.0</td>\n",
              "      <td>468.0</td>\n",
              "      <td>3.0</td>\n",
              "      <td>450.0</td>\n",
              "      <td>30.0</td>\n",
              "      <td>10.0</td>\n",
              "      <td>20.0</td>\n",
              "      <td>pet_shop</td>\n",
              "    </tr>\n",
              "    <tr>\n",
              "      <th>4</th>\n",
              "      <td>ad21c59c0840e6cb83a9ceb5573f8159</td>\n",
              "      <td>8ab97904e6daea8866dbdbc4fb7aad2c</td>\n",
              "      <td>delivered</td>\n",
              "      <td>2018-02-13 21:18:39</td>\n",
              "      <td>2018-02-13 22:20:29</td>\n",
              "      <td>2018-02-14 19:46:34</td>\n",
              "      <td>2018-02-16 18:17:02</td>\n",
              "      <td>2018-02-26</td>\n",
              "      <td>72632f0f9dd73dfee390c9b22eb56dd6</td>\n",
              "      <td>9195</td>\n",
              "      <td>...</td>\n",
              "      <td>8.72</td>\n",
              "      <td>papelaria</td>\n",
              "      <td>38.0</td>\n",
              "      <td>316.0</td>\n",
              "      <td>4.0</td>\n",
              "      <td>250.0</td>\n",
              "      <td>51.0</td>\n",
              "      <td>15.0</td>\n",
              "      <td>15.0</td>\n",
              "      <td>stationery</td>\n",
              "    </tr>\n",
              "  </tbody>\n",
              "</table>\n",
              "<p>5 rows × 27 columns</p>\n",
              "</div>"
            ],
            "text/plain": [
              "                           order_id                       customer_id  \\\n",
              "0  e481f51cbdc54678b7cc49136f2d6af7  9ef432eb6251297304e76186b10a928d   \n",
              "1  53cdb2fc8bc7dce0b6741e2150273451  b0830fb4747a6c6d20dea0b8c802d7ef   \n",
              "2  47770eb9100c2d0c44946d9cf07ec65d  41ce2a54c0b03bf3443c3d931a367089   \n",
              "3  949d5b44dbf5de918fe9c16f97b45f8a  f88197465ea7920adcdbec7375364d82   \n",
              "4  ad21c59c0840e6cb83a9ceb5573f8159  8ab97904e6daea8866dbdbc4fb7aad2c   \n",
              "\n",
              "  order_status order_purchase_timestamp    order_approved_at  \\\n",
              "0    delivered      2017-10-02 10:56:33  2017-10-02 11:07:15   \n",
              "1    delivered      2018-07-24 20:41:37  2018-07-26 03:24:27   \n",
              "2    delivered      2018-08-08 08:38:49  2018-08-08 08:55:23   \n",
              "3    delivered      2017-11-18 19:28:06  2017-11-18 19:45:59   \n",
              "4    delivered      2018-02-13 21:18:39  2018-02-13 22:20:29   \n",
              "\n",
              "  order_delivered_carrier_date order_delivered_customer_date  \\\n",
              "0          2017-10-04 19:55:00           2017-10-10 21:25:13   \n",
              "1          2018-07-26 14:31:00           2018-08-07 15:27:45   \n",
              "2          2018-08-08 13:50:00           2018-08-17 18:06:29   \n",
              "3          2017-11-22 13:39:59           2017-12-02 00:28:42   \n",
              "4          2018-02-14 19:46:34           2018-02-16 18:17:02   \n",
              "\n",
              "  order_estimated_delivery_date                customer_unique_id  \\\n",
              "0                    2017-10-18  7c396fd4830fd04220f754e42b4e5bff   \n",
              "1                    2018-08-13  af07308b275d755c9edb36a90c618231   \n",
              "2                    2018-09-04  3a653a41f6f9fc3d2a113cf8398680e8   \n",
              "3                    2017-12-15  7c142cf63193a1473d2e66489a9ae977   \n",
              "4                    2018-02-26  72632f0f9dd73dfee390c9b22eb56dd6   \n",
              "\n",
              "   customer_zip_code_prefix  ... freight_value  product_category_name  \\\n",
              "0                      3149  ...          8.72  utilidades_domesticas   \n",
              "1                     47813  ...         22.76             perfumaria   \n",
              "2                     75265  ...         19.22             automotivo   \n",
              "3                     59296  ...         27.20               pet_shop   \n",
              "4                      9195  ...          8.72              papelaria   \n",
              "\n",
              "   product_name_lenght product_description_lenght product_photos_qty  \\\n",
              "0                 40.0                      268.0                4.0   \n",
              "1                 29.0                      178.0                1.0   \n",
              "2                 46.0                      232.0                1.0   \n",
              "3                 59.0                      468.0                3.0   \n",
              "4                 38.0                      316.0                4.0   \n",
              "\n",
              "  product_weight_g  product_length_cm  product_height_cm product_width_cm  \\\n",
              "0            500.0               19.0                8.0             13.0   \n",
              "1            400.0               19.0               13.0             19.0   \n",
              "2            420.0               24.0               19.0             21.0   \n",
              "3            450.0               30.0               10.0             20.0   \n",
              "4            250.0               51.0               15.0             15.0   \n",
              "\n",
              "   product_category_name_english  \n",
              "0                     housewares  \n",
              "1                      perfumery  \n",
              "2                           auto  \n",
              "3                       pet_shop  \n",
              "4                     stationery  \n",
              "\n",
              "[5 rows x 27 columns]"
            ]
          },
          "execution_count": 67,
          "metadata": {},
          "output_type": "execute_result"
        }
      ],
      "source": [
        "sales_df = pd.merge(\n",
        "    left=orders_customers_products_items_df,\n",
        "    right=product_category_df,\n",
        "    how=\"left\",\n",
        "    left_on=\"product_category_name\",\n",
        "    right_on=\"product_category_name\"\n",
        ")\n",
        "sales_df.head()"
      ]
    },
    {
      "cell_type": "markdown",
      "metadata": {
        "id": "aF1J7evJPhlQ"
      },
      "source": [
        "Data sales_df dengan reviews_df"
      ]
    },
    {
      "cell_type": "code",
      "execution_count": 68,
      "metadata": {
        "colab": {
          "base_uri": "https://localhost:8080/",
          "height": 290
        },
        "id": "_eWdiiR6RgZE",
        "outputId": "1aee4815-3ca1-4570-a917-5eac7ab6bcf1"
      },
      "outputs": [
        {
          "data": {
            "text/html": [
              "<div>\n",
              "<style scoped>\n",
              "    .dataframe tbody tr th:only-of-type {\n",
              "        vertical-align: middle;\n",
              "    }\n",
              "\n",
              "    .dataframe tbody tr th {\n",
              "        vertical-align: top;\n",
              "    }\n",
              "\n",
              "    .dataframe thead th {\n",
              "        text-align: right;\n",
              "    }\n",
              "</style>\n",
              "<table border=\"1\" class=\"dataframe\">\n",
              "  <thead>\n",
              "    <tr style=\"text-align: right;\">\n",
              "      <th></th>\n",
              "      <th>order_id</th>\n",
              "      <th>customer_id</th>\n",
              "      <th>order_status</th>\n",
              "      <th>order_purchase_timestamp</th>\n",
              "      <th>order_approved_at</th>\n",
              "      <th>order_delivered_carrier_date</th>\n",
              "      <th>order_delivered_customer_date</th>\n",
              "      <th>order_estimated_delivery_date</th>\n",
              "      <th>customer_unique_id</th>\n",
              "      <th>customer_zip_code_prefix</th>\n",
              "      <th>...</th>\n",
              "      <th>product_length_cm</th>\n",
              "      <th>product_height_cm</th>\n",
              "      <th>product_width_cm</th>\n",
              "      <th>product_category_name_english</th>\n",
              "      <th>review_id</th>\n",
              "      <th>review_score</th>\n",
              "      <th>review_comment_title</th>\n",
              "      <th>review_comment_message</th>\n",
              "      <th>review_creation_date</th>\n",
              "      <th>review_answer_timestamp</th>\n",
              "    </tr>\n",
              "  </thead>\n",
              "  <tbody>\n",
              "    <tr>\n",
              "      <th>0</th>\n",
              "      <td>e481f51cbdc54678b7cc49136f2d6af7</td>\n",
              "      <td>9ef432eb6251297304e76186b10a928d</td>\n",
              "      <td>delivered</td>\n",
              "      <td>2017-10-02 10:56:33</td>\n",
              "      <td>2017-10-02 11:07:15</td>\n",
              "      <td>2017-10-04 19:55:00</td>\n",
              "      <td>2017-10-10 21:25:13</td>\n",
              "      <td>2017-10-18</td>\n",
              "      <td>7c396fd4830fd04220f754e42b4e5bff</td>\n",
              "      <td>3149</td>\n",
              "      <td>...</td>\n",
              "      <td>19.0</td>\n",
              "      <td>8.0</td>\n",
              "      <td>13.0</td>\n",
              "      <td>housewares</td>\n",
              "      <td>a54f0611adc9ed256b57ede6b6eb5114</td>\n",
              "      <td>4.0</td>\n",
              "      <td>No Title</td>\n",
              "      <td>Não testei o produto ainda, mas ele veio corre...</td>\n",
              "      <td>2017-10-11</td>\n",
              "      <td>2017-10-12 03:43:48</td>\n",
              "    </tr>\n",
              "    <tr>\n",
              "      <th>1</th>\n",
              "      <td>53cdb2fc8bc7dce0b6741e2150273451</td>\n",
              "      <td>b0830fb4747a6c6d20dea0b8c802d7ef</td>\n",
              "      <td>delivered</td>\n",
              "      <td>2018-07-24 20:41:37</td>\n",
              "      <td>2018-07-26 03:24:27</td>\n",
              "      <td>2018-07-26 14:31:00</td>\n",
              "      <td>2018-08-07 15:27:45</td>\n",
              "      <td>2018-08-13</td>\n",
              "      <td>af07308b275d755c9edb36a90c618231</td>\n",
              "      <td>47813</td>\n",
              "      <td>...</td>\n",
              "      <td>19.0</td>\n",
              "      <td>13.0</td>\n",
              "      <td>19.0</td>\n",
              "      <td>perfumery</td>\n",
              "      <td>8d5266042046a06655c8db133d120ba5</td>\n",
              "      <td>4.0</td>\n",
              "      <td>Muito boa a loja</td>\n",
              "      <td>Muito bom o produto.</td>\n",
              "      <td>2018-08-08</td>\n",
              "      <td>2018-08-08 18:37:50</td>\n",
              "    </tr>\n",
              "    <tr>\n",
              "      <th>2</th>\n",
              "      <td>47770eb9100c2d0c44946d9cf07ec65d</td>\n",
              "      <td>41ce2a54c0b03bf3443c3d931a367089</td>\n",
              "      <td>delivered</td>\n",
              "      <td>2018-08-08 08:38:49</td>\n",
              "      <td>2018-08-08 08:55:23</td>\n",
              "      <td>2018-08-08 13:50:00</td>\n",
              "      <td>2018-08-17 18:06:29</td>\n",
              "      <td>2018-09-04</td>\n",
              "      <td>3a653a41f6f9fc3d2a113cf8398680e8</td>\n",
              "      <td>75265</td>\n",
              "      <td>...</td>\n",
              "      <td>24.0</td>\n",
              "      <td>19.0</td>\n",
              "      <td>21.0</td>\n",
              "      <td>auto</td>\n",
              "      <td>e73b67b67587f7644d5bd1a52deb1b01</td>\n",
              "      <td>5.0</td>\n",
              "      <td>No Title</td>\n",
              "      <td>No Comment</td>\n",
              "      <td>2018-08-18</td>\n",
              "      <td>2018-08-22 19:07:58</td>\n",
              "    </tr>\n",
              "    <tr>\n",
              "      <th>3</th>\n",
              "      <td>949d5b44dbf5de918fe9c16f97b45f8a</td>\n",
              "      <td>f88197465ea7920adcdbec7375364d82</td>\n",
              "      <td>delivered</td>\n",
              "      <td>2017-11-18 19:28:06</td>\n",
              "      <td>2017-11-18 19:45:59</td>\n",
              "      <td>2017-11-22 13:39:59</td>\n",
              "      <td>2017-12-02 00:28:42</td>\n",
              "      <td>2017-12-15</td>\n",
              "      <td>7c142cf63193a1473d2e66489a9ae977</td>\n",
              "      <td>59296</td>\n",
              "      <td>...</td>\n",
              "      <td>30.0</td>\n",
              "      <td>10.0</td>\n",
              "      <td>20.0</td>\n",
              "      <td>pet_shop</td>\n",
              "      <td>359d03e676b3c069f62cadba8dd3f6e8</td>\n",
              "      <td>5.0</td>\n",
              "      <td>No Title</td>\n",
              "      <td>O produto foi exatamente o que eu esperava e e...</td>\n",
              "      <td>2017-12-03</td>\n",
              "      <td>2017-12-05 19:21:58</td>\n",
              "    </tr>\n",
              "    <tr>\n",
              "      <th>4</th>\n",
              "      <td>ad21c59c0840e6cb83a9ceb5573f8159</td>\n",
              "      <td>8ab97904e6daea8866dbdbc4fb7aad2c</td>\n",
              "      <td>delivered</td>\n",
              "      <td>2018-02-13 21:18:39</td>\n",
              "      <td>2018-02-13 22:20:29</td>\n",
              "      <td>2018-02-14 19:46:34</td>\n",
              "      <td>2018-02-16 18:17:02</td>\n",
              "      <td>2018-02-26</td>\n",
              "      <td>72632f0f9dd73dfee390c9b22eb56dd6</td>\n",
              "      <td>9195</td>\n",
              "      <td>...</td>\n",
              "      <td>51.0</td>\n",
              "      <td>15.0</td>\n",
              "      <td>15.0</td>\n",
              "      <td>stationery</td>\n",
              "      <td>e50934924e227544ba8246aeb3770dd4</td>\n",
              "      <td>5.0</td>\n",
              "      <td>No Title</td>\n",
              "      <td>No Comment</td>\n",
              "      <td>2018-02-17</td>\n",
              "      <td>2018-02-18 13:02:51</td>\n",
              "    </tr>\n",
              "  </tbody>\n",
              "</table>\n",
              "<p>5 rows × 33 columns</p>\n",
              "</div>"
            ],
            "text/plain": [
              "                           order_id                       customer_id  \\\n",
              "0  e481f51cbdc54678b7cc49136f2d6af7  9ef432eb6251297304e76186b10a928d   \n",
              "1  53cdb2fc8bc7dce0b6741e2150273451  b0830fb4747a6c6d20dea0b8c802d7ef   \n",
              "2  47770eb9100c2d0c44946d9cf07ec65d  41ce2a54c0b03bf3443c3d931a367089   \n",
              "3  949d5b44dbf5de918fe9c16f97b45f8a  f88197465ea7920adcdbec7375364d82   \n",
              "4  ad21c59c0840e6cb83a9ceb5573f8159  8ab97904e6daea8866dbdbc4fb7aad2c   \n",
              "\n",
              "  order_status order_purchase_timestamp    order_approved_at  \\\n",
              "0    delivered      2017-10-02 10:56:33  2017-10-02 11:07:15   \n",
              "1    delivered      2018-07-24 20:41:37  2018-07-26 03:24:27   \n",
              "2    delivered      2018-08-08 08:38:49  2018-08-08 08:55:23   \n",
              "3    delivered      2017-11-18 19:28:06  2017-11-18 19:45:59   \n",
              "4    delivered      2018-02-13 21:18:39  2018-02-13 22:20:29   \n",
              "\n",
              "  order_delivered_carrier_date order_delivered_customer_date  \\\n",
              "0          2017-10-04 19:55:00           2017-10-10 21:25:13   \n",
              "1          2018-07-26 14:31:00           2018-08-07 15:27:45   \n",
              "2          2018-08-08 13:50:00           2018-08-17 18:06:29   \n",
              "3          2017-11-22 13:39:59           2017-12-02 00:28:42   \n",
              "4          2018-02-14 19:46:34           2018-02-16 18:17:02   \n",
              "\n",
              "  order_estimated_delivery_date                customer_unique_id  \\\n",
              "0                    2017-10-18  7c396fd4830fd04220f754e42b4e5bff   \n",
              "1                    2018-08-13  af07308b275d755c9edb36a90c618231   \n",
              "2                    2018-09-04  3a653a41f6f9fc3d2a113cf8398680e8   \n",
              "3                    2017-12-15  7c142cf63193a1473d2e66489a9ae977   \n",
              "4                    2018-02-26  72632f0f9dd73dfee390c9b22eb56dd6   \n",
              "\n",
              "   customer_zip_code_prefix  ... product_length_cm product_height_cm  \\\n",
              "0                      3149  ...              19.0               8.0   \n",
              "1                     47813  ...              19.0              13.0   \n",
              "2                     75265  ...              24.0              19.0   \n",
              "3                     59296  ...              30.0              10.0   \n",
              "4                      9195  ...              51.0              15.0   \n",
              "\n",
              "   product_width_cm product_category_name_english  \\\n",
              "0              13.0                    housewares   \n",
              "1              19.0                     perfumery   \n",
              "2              21.0                          auto   \n",
              "3              20.0                      pet_shop   \n",
              "4              15.0                    stationery   \n",
              "\n",
              "                          review_id review_score  review_comment_title  \\\n",
              "0  a54f0611adc9ed256b57ede6b6eb5114          4.0              No Title   \n",
              "1  8d5266042046a06655c8db133d120ba5          4.0      Muito boa a loja   \n",
              "2  e73b67b67587f7644d5bd1a52deb1b01          5.0              No Title   \n",
              "3  359d03e676b3c069f62cadba8dd3f6e8          5.0              No Title   \n",
              "4  e50934924e227544ba8246aeb3770dd4          5.0              No Title   \n",
              "\n",
              "                              review_comment_message review_creation_date  \\\n",
              "0  Não testei o produto ainda, mas ele veio corre...           2017-10-11   \n",
              "1                               Muito bom o produto.           2018-08-08   \n",
              "2                                         No Comment           2018-08-18   \n",
              "3  O produto foi exatamente o que eu esperava e e...           2017-12-03   \n",
              "4                                         No Comment           2018-02-17   \n",
              "\n",
              "   review_answer_timestamp  \n",
              "0      2017-10-12 03:43:48  \n",
              "1      2018-08-08 18:37:50  \n",
              "2      2018-08-22 19:07:58  \n",
              "3      2017-12-05 19:21:58  \n",
              "4      2018-02-18 13:02:51  \n",
              "\n",
              "[5 rows x 33 columns]"
            ]
          },
          "execution_count": 68,
          "metadata": {},
          "output_type": "execute_result"
        }
      ],
      "source": [
        "reviews_sales_df = pd.merge(\n",
        "    left=sales_df,\n",
        "    right=reviews_df,\n",
        "    how=\"left\",\n",
        "    left_on=\"order_id\",\n",
        "    right_on=\"order_id\"\n",
        ")\n",
        "reviews_sales_df.head()"
      ]
    },
    {
      "cell_type": "markdown",
      "metadata": {
        "id": "XOVoYCDmvtoQ"
      },
      "source": [
        "Menambah data year_month untuk menampilkan"
      ]
    },
    {
      "cell_type": "markdown",
      "metadata": {
        "id": "DzNHHkBLMPdT"
      },
      "source": [
        "### Explore"
      ]
    },
    {
      "cell_type": "markdown",
      "metadata": {
        "id": "BLTyrjcvKlFN"
      },
      "source": [
        "Jumlah order berdasarkan customer_city"
      ]
    },
    {
      "cell_type": "code",
      "execution_count": 69,
      "metadata": {
        "colab": {
          "base_uri": "https://localhost:8080/",
          "height": 489
        },
        "id": "Ch2APcr8JlpE",
        "outputId": "9d69e0d9-cf75-474e-f3f0-764c9731b270"
      },
      "outputs": [
        {
          "data": {
            "text/plain": [
              "customer_city\n",
              "sao paulo         15540\n",
              "rio de janeiro     6882\n",
              "belo horizonte     2773\n",
              "brasilia           2131\n",
              "curitiba           1521\n",
              "                  ...  \n",
              "agisse                1\n",
              "vieiras               1\n",
              "bertopolis            1\n",
              "abadiania             1\n",
              "xexeu                 1\n",
              "Name: order_id, Length: 4119, dtype: int64"
            ]
          },
          "execution_count": 69,
          "metadata": {},
          "output_type": "execute_result"
        }
      ],
      "source": [
        "reviews_sales_df.groupby(by=\"customer_city\").order_id.nunique().sort_values(ascending=False)"
      ]
    },
    {
      "cell_type": "markdown",
      "metadata": {
        "id": "6rOcm_8_kDDu"
      },
      "source": [
        "Insight:\n",
        "Kota dengan order terbayak yaitu dari sao paulo dengan 15540 pemesan"
      ]
    },
    {
      "cell_type": "markdown",
      "metadata": {
        "id": "qqVl7dNdLNST"
      },
      "source": [
        "Jumlah order berdasarkan customer_state"
      ]
    },
    {
      "cell_type": "code",
      "execution_count": 70,
      "metadata": {
        "colab": {
          "base_uri": "https://localhost:8080/",
          "height": 962
        },
        "id": "P94Zu1j8LdiD",
        "outputId": "91047154-ac4e-4ff0-b1d8-10db350d0dbe"
      },
      "outputs": [
        {
          "data": {
            "text/plain": [
              "customer_state\n",
              "SP    41746\n",
              "RJ    12852\n",
              "MG    11635\n",
              "RS     5466\n",
              "PR     5045\n",
              "SC     3637\n",
              "BA     3380\n",
              "DF     2140\n",
              "ES     2033\n",
              "GO     2020\n",
              "PE     1652\n",
              "CE     1336\n",
              "PA      975\n",
              "MT      907\n",
              "MA      747\n",
              "MS      715\n",
              "PB      536\n",
              "PI      495\n",
              "RN      485\n",
              "AL      413\n",
              "SE      350\n",
              "TO      280\n",
              "RO      253\n",
              "AM      148\n",
              "AC       81\n",
              "AP       68\n",
              "RR       46\n",
              "Name: order_id, dtype: int64"
            ]
          },
          "execution_count": 70,
          "metadata": {},
          "output_type": "execute_result"
        }
      ],
      "source": [
        "orders_customers_df.groupby(by=\"customer_state\").order_id.nunique().sort_values(ascending=False)"
      ]
    },
    {
      "cell_type": "markdown",
      "metadata": {
        "id": "CpxuGGINLjqT"
      },
      "source": [
        "Insight:\n",
        "State dengan order terbanyak yaitu dari SP dengan 41746 pemesan"
      ]
    },
    {
      "cell_type": "markdown",
      "metadata": {
        "id": "d7JSw6m_RoHq"
      },
      "source": [
        "Produk paling banyak dipesan"
      ]
    },
    {
      "cell_type": "code",
      "execution_count": 71,
      "metadata": {
        "colab": {
          "base_uri": "https://localhost:8080/",
          "height": 489
        },
        "id": "P5wF3aF6LgrC",
        "outputId": "7f643e0a-a0b1-408f-8039-f08768100a42"
      },
      "outputs": [
        {
          "data": {
            "text/plain": [
              "product_category_name_english\n",
              "bed_bath_table               10860\n",
              "health_beauty                 8836\n",
              "sports_leisure                7720\n",
              "computers_accessories         6689\n",
              "furniture_decor               6449\n",
              "                             ...  \n",
              "arts_and_craftmanship           23\n",
              "la_cuisine                      13\n",
              "cds_dvds_musicals               12\n",
              "fashion_childrens_clothes        8\n",
              "security_and_services            2\n",
              "Name: order_id, Length: 71, dtype: int64"
            ]
          },
          "execution_count": 71,
          "metadata": {},
          "output_type": "execute_result"
        }
      ],
      "source": [
        "sales_df.groupby(by=[\"product_category_name_english\"]).order_id.nunique().sort_values(ascending=False)"
      ]
    },
    {
      "cell_type": "markdown",
      "metadata": {
        "id": "aX6cz0ephmwv"
      },
      "source": [
        "Insight:\n",
        "Produk yang paling banyak terjual adalah bed_bath_table dengan 9417 orders"
      ]
    },
    {
      "cell_type": "markdown",
      "metadata": {
        "id": "_tYnUEP3dTg9"
      },
      "source": [
        "Jumlah rating dari setiap produk yang dipesan"
      ]
    },
    {
      "cell_type": "code",
      "execution_count": 72,
      "metadata": {
        "colab": {
          "base_uri": "https://localhost:8080/",
          "height": 489
        },
        "id": "x31H4w3jVLMD",
        "outputId": "04541f2a-3bd9-48a4-fd81-b3fa3c5c9a13"
      },
      "outputs": [
        {
          "data": {
            "text/plain": [
              "review_score  product_category_name_english\n",
              "5.0           bed_bath_table                   5756\n",
              "              health_beauty                    5398\n",
              "              sports_leisure                   4646\n",
              "              computers_accessories            3703\n",
              "              furniture_decor                  3587\n",
              "                                               ... \n",
              "4.0           security_and_services               1\n",
              "2.0           dvds_blu_ray                        1\n",
              "              books_imported                      1\n",
              "              fashion_sport                       1\n",
              "1.0           fashion_childrens_clothes           1\n",
              "Name: order_id, Length: 340, dtype: int64"
            ]
          },
          "execution_count": 72,
          "metadata": {},
          "output_type": "execute_result"
        }
      ],
      "source": [
        "reviews_sales_df.groupby(by=[\"review_score\",\"product_category_name_english\"]).order_id.nunique().sort_values(ascending=False)"
      ]
    },
    {
      "cell_type": "code",
      "execution_count": 73,
      "metadata": {
        "id": "ByMu2zTitNdI"
      },
      "outputs": [],
      "source": [
        "year_time = reviews_sales_df.order_purchase_timestamp.dt.year.value_counts()"
      ]
    },
    {
      "cell_type": "markdown",
      "metadata": {
        "id": "cJbaOXasi1o5"
      },
      "source": [
        "Insight:\n",
        "Produk dengan rating 5 tertinggi adalah health_beauty dengan 5398 rating"
      ]
    },
    {
      "cell_type": "markdown",
      "metadata": {
        "id": "MReko7VtjJA3"
      },
      "source": [
        "## Exploratory Data Analysis (EDA) Conclusion"
      ]
    },
    {
      "cell_type": "markdown",
      "metadata": {
        "id": "z_yMj8SNjnbP"
      },
      "source": [
        "1. Kota dengan order terbayak yaitu dari sao paulo dengan 15540 pemesan\n",
        "2. State dengan order terbanyak yaitu dari SP dengan 41746 pemesan\n",
        "3. Produk yang paling banyak terjual adalah bed_bath_table dengan 9417 orders\n",
        "4. Produk dengan rating 5 tertinggi adalah health_beauty dengan 5398 rating"
      ]
    },
    {
      "cell_type": "markdown",
      "metadata": {
        "id": "ELG9aFEqkWWN"
      },
      "source": [
        "# Visualization & Explanatory Analysis"
      ]
    },
    {
      "cell_type": "markdown",
      "metadata": {
        "id": "05eplStPsL2b"
      },
      "source": [
        "## 1. Bagaimana performa pemesanan semua produk di setiap kota dan state?\n",
        "\n"
      ]
    },
    {
      "cell_type": "markdown",
      "metadata": {
        "id": "SzEFVFQUskY7"
      },
      "source": [
        "### Membuat dataframe untuk menampung informasi terkait pemesanan produk di setiap kota dan state"
      ]
    },
    {
      "cell_type": "markdown",
      "metadata": {
        "id": "VTE_E3er13qJ"
      },
      "source": [
        "Dataframe untuk pemesanan produk setiap kota"
      ]
    },
    {
      "cell_type": "code",
      "execution_count": 74,
      "metadata": {
        "colab": {
          "base_uri": "https://localhost:8080/",
          "height": 363
        },
        "id": "JlBzerbHkZUF",
        "outputId": "46d5ff60-297f-4f84-ccf9-271740f7a4b9"
      },
      "outputs": [
        {
          "data": {
            "text/html": [
              "<div>\n",
              "<style scoped>\n",
              "    .dataframe tbody tr th:only-of-type {\n",
              "        vertical-align: middle;\n",
              "    }\n",
              "\n",
              "    .dataframe tbody tr th {\n",
              "        vertical-align: top;\n",
              "    }\n",
              "\n",
              "    .dataframe thead th {\n",
              "        text-align: right;\n",
              "    }\n",
              "</style>\n",
              "<table border=\"1\" class=\"dataframe\">\n",
              "  <thead>\n",
              "    <tr style=\"text-align: right;\">\n",
              "      <th></th>\n",
              "      <th>customer_city</th>\n",
              "      <th>order_id</th>\n",
              "    </tr>\n",
              "  </thead>\n",
              "  <tbody>\n",
              "    <tr>\n",
              "      <th>0</th>\n",
              "      <td>sao paulo</td>\n",
              "      <td>15540</td>\n",
              "    </tr>\n",
              "    <tr>\n",
              "      <th>1</th>\n",
              "      <td>rio de janeiro</td>\n",
              "      <td>6882</td>\n",
              "    </tr>\n",
              "    <tr>\n",
              "      <th>2</th>\n",
              "      <td>belo horizonte</td>\n",
              "      <td>2773</td>\n",
              "    </tr>\n",
              "    <tr>\n",
              "      <th>3</th>\n",
              "      <td>brasilia</td>\n",
              "      <td>2131</td>\n",
              "    </tr>\n",
              "    <tr>\n",
              "      <th>4</th>\n",
              "      <td>curitiba</td>\n",
              "      <td>1521</td>\n",
              "    </tr>\n",
              "    <tr>\n",
              "      <th>5</th>\n",
              "      <td>campinas</td>\n",
              "      <td>1444</td>\n",
              "    </tr>\n",
              "    <tr>\n",
              "      <th>6</th>\n",
              "      <td>porto alegre</td>\n",
              "      <td>1379</td>\n",
              "    </tr>\n",
              "    <tr>\n",
              "      <th>7</th>\n",
              "      <td>salvador</td>\n",
              "      <td>1245</td>\n",
              "    </tr>\n",
              "    <tr>\n",
              "      <th>8</th>\n",
              "      <td>guarulhos</td>\n",
              "      <td>1189</td>\n",
              "    </tr>\n",
              "    <tr>\n",
              "      <th>9</th>\n",
              "      <td>sao bernardo do campo</td>\n",
              "      <td>938</td>\n",
              "    </tr>\n",
              "  </tbody>\n",
              "</table>\n",
              "</div>"
            ],
            "text/plain": [
              "           customer_city  order_id\n",
              "0              sao paulo     15540\n",
              "1         rio de janeiro      6882\n",
              "2         belo horizonte      2773\n",
              "3               brasilia      2131\n",
              "4               curitiba      1521\n",
              "5               campinas      1444\n",
              "6           porto alegre      1379\n",
              "7               salvador      1245\n",
              "8              guarulhos      1189\n",
              "9  sao bernardo do campo       938"
            ]
          },
          "execution_count": 74,
          "metadata": {},
          "output_type": "execute_result"
        }
      ],
      "source": [
        "sum_orders_city_df = reviews_sales_df.groupby(by=\"customer_city\").order_id.nunique().sort_values(ascending=False).reset_index()\n",
        "sum_orders_city_df.head(10)"
      ]
    },
    {
      "cell_type": "markdown",
      "metadata": {
        "id": "SIvlLW6V2DZo"
      },
      "source": [
        "Dataframe untuk pemesanan produk setiap state"
      ]
    },
    {
      "cell_type": "code",
      "execution_count": 75,
      "metadata": {
        "colab": {
          "base_uri": "https://localhost:8080/",
          "height": 363
        },
        "id": "F6sN3eP8xWzV",
        "outputId": "ca0b91b1-7788-4aa1-d134-c4b91fdbc8e2"
      },
      "outputs": [
        {
          "data": {
            "text/html": [
              "<div>\n",
              "<style scoped>\n",
              "    .dataframe tbody tr th:only-of-type {\n",
              "        vertical-align: middle;\n",
              "    }\n",
              "\n",
              "    .dataframe tbody tr th {\n",
              "        vertical-align: top;\n",
              "    }\n",
              "\n",
              "    .dataframe thead th {\n",
              "        text-align: right;\n",
              "    }\n",
              "</style>\n",
              "<table border=\"1\" class=\"dataframe\">\n",
              "  <thead>\n",
              "    <tr style=\"text-align: right;\">\n",
              "      <th></th>\n",
              "      <th>customer_state</th>\n",
              "      <th>order_id</th>\n",
              "    </tr>\n",
              "  </thead>\n",
              "  <tbody>\n",
              "    <tr>\n",
              "      <th>0</th>\n",
              "      <td>SP</td>\n",
              "      <td>41746</td>\n",
              "    </tr>\n",
              "    <tr>\n",
              "      <th>1</th>\n",
              "      <td>RJ</td>\n",
              "      <td>12852</td>\n",
              "    </tr>\n",
              "    <tr>\n",
              "      <th>2</th>\n",
              "      <td>MG</td>\n",
              "      <td>11635</td>\n",
              "    </tr>\n",
              "    <tr>\n",
              "      <th>3</th>\n",
              "      <td>RS</td>\n",
              "      <td>5466</td>\n",
              "    </tr>\n",
              "    <tr>\n",
              "      <th>4</th>\n",
              "      <td>PR</td>\n",
              "      <td>5045</td>\n",
              "    </tr>\n",
              "    <tr>\n",
              "      <th>5</th>\n",
              "      <td>SC</td>\n",
              "      <td>3637</td>\n",
              "    </tr>\n",
              "    <tr>\n",
              "      <th>6</th>\n",
              "      <td>BA</td>\n",
              "      <td>3380</td>\n",
              "    </tr>\n",
              "    <tr>\n",
              "      <th>7</th>\n",
              "      <td>DF</td>\n",
              "      <td>2140</td>\n",
              "    </tr>\n",
              "    <tr>\n",
              "      <th>8</th>\n",
              "      <td>ES</td>\n",
              "      <td>2033</td>\n",
              "    </tr>\n",
              "    <tr>\n",
              "      <th>9</th>\n",
              "      <td>GO</td>\n",
              "      <td>2020</td>\n",
              "    </tr>\n",
              "  </tbody>\n",
              "</table>\n",
              "</div>"
            ],
            "text/plain": [
              "  customer_state  order_id\n",
              "0             SP     41746\n",
              "1             RJ     12852\n",
              "2             MG     11635\n",
              "3             RS      5466\n",
              "4             PR      5045\n",
              "5             SC      3637\n",
              "6             BA      3380\n",
              "7             DF      2140\n",
              "8             ES      2033\n",
              "9             GO      2020"
            ]
          },
          "execution_count": 75,
          "metadata": {},
          "output_type": "execute_result"
        }
      ],
      "source": [
        "sum_orders_state_df = reviews_sales_df.groupby(by=\"customer_state\").order_id.nunique().sort_values(ascending=False).reset_index()\n",
        "sum_orders_state_df.head(10)"
      ]
    },
    {
      "cell_type": "markdown",
      "metadata": {
        "id": "otywfp-0xfGN"
      },
      "source": [
        "### Visualisasi data untuk sum_orders_city_df dan sum_orders_state_df"
      ]
    },
    {
      "cell_type": "markdown",
      "metadata": {
        "id": "_MqDJRfLz6QR"
      },
      "source": [
        "Visualisasi data untuk sum_orders_city_df"
      ]
    },
    {
      "cell_type": "code",
      "execution_count": 76,
      "metadata": {
        "colab": {
          "base_uri": "https://localhost:8080/",
          "height": 561
        },
        "id": "wpdBhbpaxkzN",
        "outputId": "b82d39a3-c9c6-4af7-97ac-dd08ed378a38"
      },
      "outputs": [
        {
          "name": "stderr",
          "output_type": "stream",
          "text": [
            "C:\\Users\\Valent Tanda\\AppData\\Local\\Temp\\ipykernel_17064\\3298048916.py:6: FutureWarning: \n",
            "\n",
            "Passing `palette` without assigning `hue` is deprecated and will be removed in v0.14.0. Assign the `y` variable to `hue` and set `legend=False` for the same effect.\n",
            "\n",
            "  sns.barplot(\n"
          ]
        },
        {
          "data": {
            "image/png": "[encoded data removed]",
            "text/plain": [
              "<Figure size 1000x500 with 1 Axes>"
            ]
          },
          "metadata": {},
          "output_type": "display_data"
        }
      ],
      "source": [
        "sum_orders_city_df.rename(columns={\n",
        "    \"order_id\": \"sum_orders\"\n",
        "}, inplace=True)\n",
        "\n",
        "plt.figure(figsize=(10,5))\n",
        "sns.barplot(\n",
        "    x=\"sum_orders\",\n",
        "    y=\"customer_city\",\n",
        "    data=sum_orders_city_df.sort_values(by=\"sum_orders\", ascending=False).head(10),\n",
        "    palette=\"pastel\"\n",
        ")\n",
        "\n",
        "plt.title(\"Number of Orders by City\", loc=\"center\", fontsize=15)\n",
        "plt.ylabel(None)\n",
        "plt.xlabel(None)\n",
        "plt.tick_params(axis='x', labelsize=10)\n",
        "plt.show()"
      ]
    },
    {
      "cell_type": "markdown",
      "metadata": {
        "id": "9QUA4gzi6aHD"
      },
      "source": [
        "Insight:\n",
        "Kota dengan order terbanyak adalah sao paulo"
      ]
    },
    {
      "cell_type": "markdown",
      "metadata": {
        "id": "P5KckuHC2Qvq"
      },
      "source": [
        "Visualisasi data untuk sum_orders_city_df"
      ]
    },
    {
      "cell_type": "code",
      "execution_count": 77,
      "metadata": {
        "colab": {
          "base_uri": "https://localhost:8080/",
          "height": 561
        },
        "id": "sREatNTYz-DZ",
        "outputId": "a1fbdc12-ce69-4953-8241-925864a2fbc8"
      },
      "outputs": [
        {
          "name": "stderr",
          "output_type": "stream",
          "text": [
            "C:\\Users\\Valent Tanda\\AppData\\Local\\Temp\\ipykernel_17064\\2886038010.py:6: FutureWarning: \n",
            "\n",
            "Passing `palette` without assigning `hue` is deprecated and will be removed in v0.14.0. Assign the `y` variable to `hue` and set `legend=False` for the same effect.\n",
            "\n",
            "  sns.barplot(\n"
          ]
        },
        {
          "data": {
            "image/png": "[encoded data removed]",
            "text/plain": [
              "<Figure size 1000x500 with 1 Axes>"
            ]
          },
          "metadata": {},
          "output_type": "display_data"
        }
      ],
      "source": [
        "sum_orders_state_df.rename(columns={\n",
        "    \"order_id\": \"sum_orders\"\n",
        "}, inplace=True)\n",
        "\n",
        "plt.figure(figsize=(10,5))\n",
        "sns.barplot(\n",
        "    x=\"sum_orders\",\n",
        "    y=\"customer_state\",\n",
        "    data=sum_orders_state_df.sort_values(by=\"sum_orders\", ascending=False).head(10),\n",
        "    palette=\"pastel\"\n",
        ")\n",
        "\n",
        "plt.title(\"Number of Orders by State\", loc=\"center\", fontsize=15)\n",
        "plt.ylabel(None)\n",
        "plt.xlabel(None)\n",
        "plt.tick_params(axis='x', labelsize=10)\n",
        "plt.show()"
      ]
    },
    {
      "cell_type": "markdown",
      "metadata": {
        "id": "Uk042MQm6U-y"
      },
      "source": [
        "Insight:\n",
        "State dengan order terbanyak adalah SP"
      ]
    },
    {
      "cell_type": "markdown",
      "metadata": {
        "id": "itbZjBvKsaIU"
      },
      "source": [
        "## 2. Produk apa yang paling banyak dan paling sedikit dipesan?\n"
      ]
    },
    {
      "cell_type": "markdown",
      "metadata": {
        "id": "AQKPV51B0wHq"
      },
      "source": [
        "### Membuat dataframe untuk menampung informasi terkait produk paling banyak dan paling sedikit dipesan"
      ]
    },
    {
      "cell_type": "markdown",
      "metadata": {
        "id": "PCIL4q-v1xFJ"
      },
      "source": [
        "Dataframe untuk produk yang paling banyak dipesan"
      ]
    },
    {
      "cell_type": "code",
      "execution_count": 78,
      "metadata": {
        "colab": {
          "base_uri": "https://localhost:8080/",
          "height": 363
        },
        "id": "9p76swotscBu",
        "outputId": "6e0f47ee-e096-457b-f92f-675b6d771e82"
      },
      "outputs": [
        {
          "data": {
            "text/html": [
              "<div>\n",
              "<style scoped>\n",
              "    .dataframe tbody tr th:only-of-type {\n",
              "        vertical-align: middle;\n",
              "    }\n",
              "\n",
              "    .dataframe tbody tr th {\n",
              "        vertical-align: top;\n",
              "    }\n",
              "\n",
              "    .dataframe thead th {\n",
              "        text-align: right;\n",
              "    }\n",
              "</style>\n",
              "<table border=\"1\" class=\"dataframe\">\n",
              "  <thead>\n",
              "    <tr style=\"text-align: right;\">\n",
              "      <th></th>\n",
              "      <th>product_category_name_english</th>\n",
              "      <th>order_id</th>\n",
              "    </tr>\n",
              "  </thead>\n",
              "  <tbody>\n",
              "    <tr>\n",
              "      <th>0</th>\n",
              "      <td>bed_bath_table</td>\n",
              "      <td>10860</td>\n",
              "    </tr>\n",
              "    <tr>\n",
              "      <th>1</th>\n",
              "      <td>health_beauty</td>\n",
              "      <td>8836</td>\n",
              "    </tr>\n",
              "    <tr>\n",
              "      <th>2</th>\n",
              "      <td>sports_leisure</td>\n",
              "      <td>7720</td>\n",
              "    </tr>\n",
              "    <tr>\n",
              "      <th>3</th>\n",
              "      <td>computers_accessories</td>\n",
              "      <td>6689</td>\n",
              "    </tr>\n",
              "    <tr>\n",
              "      <th>4</th>\n",
              "      <td>furniture_decor</td>\n",
              "      <td>6449</td>\n",
              "    </tr>\n",
              "    <tr>\n",
              "      <th>5</th>\n",
              "      <td>housewares</td>\n",
              "      <td>5884</td>\n",
              "    </tr>\n",
              "    <tr>\n",
              "      <th>6</th>\n",
              "      <td>watches_gifts</td>\n",
              "      <td>5624</td>\n",
              "    </tr>\n",
              "    <tr>\n",
              "      <th>7</th>\n",
              "      <td>telephony</td>\n",
              "      <td>4199</td>\n",
              "    </tr>\n",
              "    <tr>\n",
              "      <th>8</th>\n",
              "      <td>auto</td>\n",
              "      <td>3897</td>\n",
              "    </tr>\n",
              "    <tr>\n",
              "      <th>9</th>\n",
              "      <td>toys</td>\n",
              "      <td>3886</td>\n",
              "    </tr>\n",
              "  </tbody>\n",
              "</table>\n",
              "</div>"
            ],
            "text/plain": [
              "  product_category_name_english  order_id\n",
              "0                bed_bath_table     10860\n",
              "1                 health_beauty      8836\n",
              "2                sports_leisure      7720\n",
              "3         computers_accessories      6689\n",
              "4               furniture_decor      6449\n",
              "5                    housewares      5884\n",
              "6                 watches_gifts      5624\n",
              "7                     telephony      4199\n",
              "8                          auto      3897\n",
              "9                          toys      3886"
            ]
          },
          "execution_count": 78,
          "metadata": {},
          "output_type": "execute_result"
        }
      ],
      "source": [
        "most_orders_df = reviews_sales_df.groupby(by=[\"product_category_name_english\"]).order_id.nunique().sort_values(ascending=False).reset_index()\n",
        "most_orders_df.head(10)"
      ]
    },
    {
      "cell_type": "markdown",
      "metadata": {
        "id": "my0o-2LS1s3H"
      },
      "source": [
        "Dataframe untuk produk yang paling sedikit dipesan"
      ]
    },
    {
      "cell_type": "code",
      "execution_count": 79,
      "metadata": {
        "colab": {
          "base_uri": "https://localhost:8080/",
          "height": 363
        },
        "id": "6Wwq_-111enh",
        "outputId": "71bef6e8-ad67-4c9b-99a7-6ffca06b605c"
      },
      "outputs": [
        {
          "data": {
            "text/html": [
              "<div>\n",
              "<style scoped>\n",
              "    .dataframe tbody tr th:only-of-type {\n",
              "        vertical-align: middle;\n",
              "    }\n",
              "\n",
              "    .dataframe tbody tr th {\n",
              "        vertical-align: top;\n",
              "    }\n",
              "\n",
              "    .dataframe thead th {\n",
              "        text-align: right;\n",
              "    }\n",
              "</style>\n",
              "<table border=\"1\" class=\"dataframe\">\n",
              "  <thead>\n",
              "    <tr style=\"text-align: right;\">\n",
              "      <th></th>\n",
              "      <th>product_category_name_english</th>\n",
              "      <th>order_id</th>\n",
              "    </tr>\n",
              "  </thead>\n",
              "  <tbody>\n",
              "    <tr>\n",
              "      <th>0</th>\n",
              "      <td>security_and_services</td>\n",
              "      <td>2</td>\n",
              "    </tr>\n",
              "    <tr>\n",
              "      <th>1</th>\n",
              "      <td>fashion_childrens_clothes</td>\n",
              "      <td>8</td>\n",
              "    </tr>\n",
              "    <tr>\n",
              "      <th>2</th>\n",
              "      <td>cds_dvds_musicals</td>\n",
              "      <td>12</td>\n",
              "    </tr>\n",
              "    <tr>\n",
              "      <th>3</th>\n",
              "      <td>la_cuisine</td>\n",
              "      <td>13</td>\n",
              "    </tr>\n",
              "    <tr>\n",
              "      <th>4</th>\n",
              "      <td>arts_and_craftmanship</td>\n",
              "      <td>23</td>\n",
              "    </tr>\n",
              "    <tr>\n",
              "      <th>5</th>\n",
              "      <td>home_comfort_2</td>\n",
              "      <td>24</td>\n",
              "    </tr>\n",
              "    <tr>\n",
              "      <th>6</th>\n",
              "      <td>fashion_sport</td>\n",
              "      <td>27</td>\n",
              "    </tr>\n",
              "    <tr>\n",
              "      <th>7</th>\n",
              "      <td>diapers_and_hygiene</td>\n",
              "      <td>27</td>\n",
              "    </tr>\n",
              "    <tr>\n",
              "      <th>8</th>\n",
              "      <td>flowers</td>\n",
              "      <td>29</td>\n",
              "    </tr>\n",
              "    <tr>\n",
              "      <th>9</th>\n",
              "      <td>music</td>\n",
              "      <td>38</td>\n",
              "    </tr>\n",
              "  </tbody>\n",
              "</table>\n",
              "</div>"
            ],
            "text/plain": [
              "  product_category_name_english  order_id\n",
              "0         security_and_services         2\n",
              "1     fashion_childrens_clothes         8\n",
              "2             cds_dvds_musicals        12\n",
              "3                    la_cuisine        13\n",
              "4         arts_and_craftmanship        23\n",
              "5                home_comfort_2        24\n",
              "6                 fashion_sport        27\n",
              "7           diapers_and_hygiene        27\n",
              "8                       flowers        29\n",
              "9                         music        38"
            ]
          },
          "execution_count": 79,
          "metadata": {},
          "output_type": "execute_result"
        }
      ],
      "source": [
        "least_orders_df = reviews_sales_df.groupby(by=[\"product_category_name_english\"]).order_id.nunique().sort_values(ascending=True).reset_index()\n",
        "least_orders_df.head(10)"
      ]
    },
    {
      "cell_type": "markdown",
      "metadata": {
        "id": "-HJakrUT1lOp"
      },
      "source": [
        "### Visualisasi data untuk most_orders_df dan least_orders_df"
      ]
    },
    {
      "cell_type": "code",
      "execution_count": 80,
      "metadata": {
        "colab": {
          "base_uri": "https://localhost:8080/",
          "height": 622
        },
        "id": "FTOBQAje2bav",
        "outputId": "85b13f60-d15d-445d-fe08-fec44164b4b3"
      },
      "outputs": [
        {
          "name": "stderr",
          "output_type": "stream",
          "text": [
            "C:\\Users\\Valent Tanda\\AppData\\Local\\Temp\\ipykernel_17064\\3718681460.py:5: FutureWarning: \n",
            "\n",
            "Passing `palette` without assigning `hue` is deprecated and will be removed in v0.14.0. Assign the `y` variable to `hue` and set `legend=False` for the same effect.\n",
            "\n",
            "  sns.barplot(\n",
            "C:\\Users\\Valent Tanda\\AppData\\Local\\Temp\\ipykernel_17064\\3718681460.py:17: FutureWarning: \n",
            "\n",
            "Passing `palette` without assigning `hue` is deprecated and will be removed in v0.14.0. Assign the `y` variable to `hue` and set `legend=False` for the same effect.\n",
            "\n",
            "  sns.barplot(\n"
          ]
        },
        {
          "data": {
            "image/png": "[encoded data removed]",
            "text/plain": [
              "<Figure size 3500x1000 with 2 Axes>"
            ]
          },
          "metadata": {},
          "output_type": "display_data"
        }
      ],
      "source": [
        "fig, ax = plt.subplots(nrows=1, ncols=2, figsize=(35,10))\n",
        "\n",
        "colors = [\"#90CAF9\", \"#D3D3D3\", \"#D3D3D3\", \"#D3D3D3\", \"#D3D3D3\"]\n",
        "\n",
        "sns.barplot(\n",
        "    x=\"order_id\",\n",
        "    y=\"product_category_name_english\",\n",
        "    data=most_orders_df.head(5),\n",
        "    palette=colors,\n",
        "    ax=ax[0]\n",
        ")\n",
        "ax[0].set_ylabel(None)\n",
        "ax[0].set_xlabel(None)\n",
        "ax[0].set_title(\"Top 5 Most Ordered Product\", loc=\"center\", fontsize=20)\n",
        "ax[0].tick_params(axis='y', labelsize=15)\n",
        "\n",
        "sns.barplot(\n",
        "    x=\"order_id\",\n",
        "    y=\"product_category_name_english\",\n",
        "    data=least_orders_df.head(5),\n",
        "    palette=colors,\n",
        "    ax=ax[1]\n",
        ")\n",
        "ax[1].set_ylabel(None)\n",
        "ax[1].set_xlabel(None)\n",
        "ax[1].invert_xaxis()\n",
        "ax[1].yaxis.set_label_position(\"right\")\n",
        "ax[1].yaxis.tick_right()\n",
        "ax[1].set_title(\"Top 5 Least Ordered Product\", loc=\"center\", fontsize=20)\n",
        "ax[1].tick_params(axis='y', labelsize=15)\n",
        "\n",
        "plt.suptitle(\"Top 5 Most and Least Ordered Product\", fontsize=50, y=1.05)\n",
        "plt.show()"
      ]
    },
    {
      "cell_type": "markdown",
      "metadata": {
        "id": "swC4u-MJ6GrD"
      },
      "source": [
        "Insight:\n",
        "- Produk yang paling banyak dipesan adalah bed_bath_table\n",
        "- Produk yang paling sedikit dipesan adalah security_and_services"
      ]
    },
    {
      "cell_type": "markdown",
      "metadata": {
        "id": "zWlH9-h06fcz"
      },
      "source": [
        "# Conclusion"
      ]
    },
    {
      "cell_type": "markdown",
      "metadata": {
        "id": "v04m67NX6-IT"
      },
      "source": [
        "Dalam 3 tahun (2016-2018):\n",
        "1. Jumlah pemesan paling banyak berasal dari kota Sao Paulo, state Sao Paulo, Brazil, dengan jumlah pemesan dari kota Sao Paulo mencapai lebih dari 15000 pemesan, dan jumlah pemesan dari state Sao Paulo mencapai lebih dari 40000 pemesan. Hal ini dapat dicapai karena berdasarkan situs worldpopulationreview.com, jumlah penduduk di kota Sao Paulo sendiri pada tahun 2025 mencapai lebih dari 10 juta penduduk, dan jumlah penduduk di state Sao Paulo pada tahun 2021 mencapai lebih dari 46 juta penduduk.\n",
        "2. Barang yang paling banyak dipesan yaitu bed_bath_table, dengan lebih dari 10000 pemesan, dan barang yang paling sedikit dipesan yaitu security_and_services, dengan kurang dari 5 pemesan. Meskipun Brazil merupakan salah satu negara dengan tindakan kriminal yang tinggi (dengan index 65.6, berdasarkan worldpopulationreview.com), security_and_services hanya dipesan kurang dari 5 pemesan. Sehingga, kemungkinan ada faktor lain yang menyebabkan barang tersebut paling sedikit dipesan."
      ]
    },
    {
      "cell_type": "markdown",
      "metadata": {
        "id": "QZxVsyytZViE"
      },
      "source": [
        "# Menyimpan dataset yang telah dianalisis"
      ]
    },
    {
      "cell_type": "code",
      "execution_count": 81,
      "metadata": {
        "id": "LPg4GT0e7acK"
      },
      "outputs": [],
      "source": [
        "reviews_sales_df.to_csv(\"dashboard/reviews_sales_df.csv\", index=False)"
      ]
    }
  ],
  "metadata": {
    "colab": {
      "provenance": []
    },
    "kernelspec": {
      "display_name": "Python 3",
      "language": "python",
      "name": "python3"
    },
    "language_info": {
      "codemirror_mode": {
        "name": "ipython",
        "version": 3
      },
      "file_extension": ".py",
      "mimetype": "text/x-python",
      "name": "python",
      "nbconvert_exporter": "python",
      "pygments_lexer": "ipython3",
      "version": "3.13.2"
    }
  },
  "nbformat": 4,
  "nbformat_minor": 0
}
